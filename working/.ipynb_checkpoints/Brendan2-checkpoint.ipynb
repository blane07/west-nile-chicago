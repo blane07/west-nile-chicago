{
 "cells": [
  {
   "cell_type": "code",
   "execution_count": 1,
   "metadata": {},
   "outputs": [
    {
     "name": "stderr",
     "output_type": "stream",
     "text": [
      "/home/raven/anaconda3/lib/python3.6/site-packages/h5py/__init__.py:36: FutureWarning: Conversion of the second argument of issubdtype from `float` to `np.floating` is deprecated. In future, it will be treated as `np.float64 == np.dtype(float).type`.\n",
      "  from ._conv import register_converters as _register_converters\n",
      "Using TensorFlow backend.\n"
     ]
    }
   ],
   "source": [
    "import numpy as np\n",
    "import pandas as pd\n",
    "from sklearn.ensemble import RandomForestClassifier, AdaBoostClassifier, GradientBoostingClassifier\n",
    "from sklearn.preprocessing import StandardScaler\n",
    "from sklearn.model_selection import cross_val_score, train_test_split\n",
    "from sklearn.svm import SVC\n",
    "import matplotlib.pyplot as plt\n",
    "from keras.models import Sequential\n",
    "from keras.layers import Dense;\n",
    "%matplotlib inline"
   ]
  },
  {
   "cell_type": "markdown",
   "metadata": {},
   "source": [
    "### Importing data"
   ]
  },
  {
   "cell_type": "code",
   "execution_count": 2,
   "metadata": {},
   "outputs": [],
   "source": [
    "df = pd.read_csv('./train_plus_weather.csv')"
   ]
  },
  {
   "cell_type": "markdown",
   "metadata": {},
   "source": [
    "### Preprocessing"
   ]
  },
  {
   "cell_type": "code",
   "execution_count": 3,
   "metadata": {},
   "outputs": [],
   "source": [
    "df.drop('Unnamed: 0', axis='columns', inplace=True)"
   ]
  },
  {
   "cell_type": "code",
   "execution_count": 4,
   "metadata": {},
   "outputs": [],
   "source": [
    "# Delete columns with null values\n",
    "df.drop(['Water1_2', 'Depart_2', 'Water1_1', 'Depart_1'], axis='columns', inplace=True)"
   ]
  },
  {
   "cell_type": "code",
   "execution_count": 5,
   "metadata": {},
   "outputs": [],
   "source": [
    "df.drop('Trap', axis='columns', inplace=True)"
   ]
  },
  {
   "cell_type": "code",
   "execution_count": 6,
   "metadata": {},
   "outputs": [
    {
     "data": {
      "text/html": [
       "<div>\n",
       "<style scoped>\n",
       "    .dataframe tbody tr th:only-of-type {\n",
       "        vertical-align: middle;\n",
       "    }\n",
       "\n",
       "    .dataframe tbody tr th {\n",
       "        vertical-align: top;\n",
       "    }\n",
       "\n",
       "    .dataframe thead th {\n",
       "        text-align: right;\n",
       "    }\n",
       "</style>\n",
       "<table border=\"1\" class=\"dataframe\">\n",
       "  <thead>\n",
       "    <tr style=\"text-align: right;\">\n",
       "      <th></th>\n",
       "      <th>Species</th>\n",
       "      <th>Latitude</th>\n",
       "      <th>Longitude</th>\n",
       "      <th>AddressAccuracy</th>\n",
       "      <th>WnvPresent</th>\n",
       "      <th>month</th>\n",
       "      <th>day</th>\n",
       "      <th>year</th>\n",
       "      <th>Tmax_1</th>\n",
       "      <th>Tmin_1</th>\n",
       "      <th>...</th>\n",
       "      <th>Sunrise_2</th>\n",
       "      <th>Sunset_2</th>\n",
       "      <th>Depth_2</th>\n",
       "      <th>SnowFall_2</th>\n",
       "      <th>PrecipTotal_2</th>\n",
       "      <th>StnPressure_2</th>\n",
       "      <th>SeaLevel_2</th>\n",
       "      <th>ResultSpeed_2</th>\n",
       "      <th>ResultDir_2</th>\n",
       "      <th>AvgSpeed_2</th>\n",
       "    </tr>\n",
       "  </thead>\n",
       "  <tbody>\n",
       "    <tr>\n",
       "      <th>0</th>\n",
       "      <td>2</td>\n",
       "      <td>41.954690</td>\n",
       "      <td>-87.800991</td>\n",
       "      <td>9</td>\n",
       "      <td>0</td>\n",
       "      <td>5</td>\n",
       "      <td>29</td>\n",
       "      <td>2007</td>\n",
       "      <td>88.0</td>\n",
       "      <td>65.0</td>\n",
       "      <td>...</td>\n",
       "      <td>421.0</td>\n",
       "      <td>421.0</td>\n",
       "      <td>0.0</td>\n",
       "      <td>0.0</td>\n",
       "      <td>0.0</td>\n",
       "      <td>29.44</td>\n",
       "      <td>30.09</td>\n",
       "      <td>5.8</td>\n",
       "      <td>16</td>\n",
       "      <td>7.4</td>\n",
       "    </tr>\n",
       "    <tr>\n",
       "      <th>1</th>\n",
       "      <td>3</td>\n",
       "      <td>41.954690</td>\n",
       "      <td>-87.800991</td>\n",
       "      <td>9</td>\n",
       "      <td>0</td>\n",
       "      <td>5</td>\n",
       "      <td>29</td>\n",
       "      <td>2007</td>\n",
       "      <td>88.0</td>\n",
       "      <td>65.0</td>\n",
       "      <td>...</td>\n",
       "      <td>421.0</td>\n",
       "      <td>421.0</td>\n",
       "      <td>0.0</td>\n",
       "      <td>0.0</td>\n",
       "      <td>0.0</td>\n",
       "      <td>29.44</td>\n",
       "      <td>30.09</td>\n",
       "      <td>5.8</td>\n",
       "      <td>16</td>\n",
       "      <td>7.4</td>\n",
       "    </tr>\n",
       "    <tr>\n",
       "      <th>2</th>\n",
       "      <td>3</td>\n",
       "      <td>41.994991</td>\n",
       "      <td>-87.769279</td>\n",
       "      <td>9</td>\n",
       "      <td>0</td>\n",
       "      <td>5</td>\n",
       "      <td>29</td>\n",
       "      <td>2007</td>\n",
       "      <td>88.0</td>\n",
       "      <td>65.0</td>\n",
       "      <td>...</td>\n",
       "      <td>421.0</td>\n",
       "      <td>421.0</td>\n",
       "      <td>0.0</td>\n",
       "      <td>0.0</td>\n",
       "      <td>0.0</td>\n",
       "      <td>29.44</td>\n",
       "      <td>30.09</td>\n",
       "      <td>5.8</td>\n",
       "      <td>16</td>\n",
       "      <td>7.4</td>\n",
       "    </tr>\n",
       "    <tr>\n",
       "      <th>3</th>\n",
       "      <td>2</td>\n",
       "      <td>41.974089</td>\n",
       "      <td>-87.824812</td>\n",
       "      <td>8</td>\n",
       "      <td>0</td>\n",
       "      <td>5</td>\n",
       "      <td>29</td>\n",
       "      <td>2007</td>\n",
       "      <td>88.0</td>\n",
       "      <td>65.0</td>\n",
       "      <td>...</td>\n",
       "      <td>421.0</td>\n",
       "      <td>421.0</td>\n",
       "      <td>0.0</td>\n",
       "      <td>0.0</td>\n",
       "      <td>0.0</td>\n",
       "      <td>29.44</td>\n",
       "      <td>30.09</td>\n",
       "      <td>5.8</td>\n",
       "      <td>16</td>\n",
       "      <td>7.4</td>\n",
       "    </tr>\n",
       "    <tr>\n",
       "      <th>4</th>\n",
       "      <td>3</td>\n",
       "      <td>41.974089</td>\n",
       "      <td>-87.824812</td>\n",
       "      <td>8</td>\n",
       "      <td>0</td>\n",
       "      <td>5</td>\n",
       "      <td>29</td>\n",
       "      <td>2007</td>\n",
       "      <td>88.0</td>\n",
       "      <td>65.0</td>\n",
       "      <td>...</td>\n",
       "      <td>421.0</td>\n",
       "      <td>421.0</td>\n",
       "      <td>0.0</td>\n",
       "      <td>0.0</td>\n",
       "      <td>0.0</td>\n",
       "      <td>29.44</td>\n",
       "      <td>30.09</td>\n",
       "      <td>5.8</td>\n",
       "      <td>16</td>\n",
       "      <td>7.4</td>\n",
       "    </tr>\n",
       "  </tbody>\n",
       "</table>\n",
       "<p>5 rows × 43 columns</p>\n",
       "</div>"
      ],
      "text/plain": [
       "   Species   Latitude  Longitude  AddressAccuracy  WnvPresent  month  day  \\\n",
       "0        2  41.954690 -87.800991                9           0      5   29   \n",
       "1        3  41.954690 -87.800991                9           0      5   29   \n",
       "2        3  41.994991 -87.769279                9           0      5   29   \n",
       "3        2  41.974089 -87.824812                8           0      5   29   \n",
       "4        3  41.974089 -87.824812                8           0      5   29   \n",
       "\n",
       "   year  Tmax_1  Tmin_1     ...      Sunrise_2  Sunset_2  Depth_2  SnowFall_2  \\\n",
       "0  2007    88.0    65.0     ...          421.0     421.0      0.0         0.0   \n",
       "1  2007    88.0    65.0     ...          421.0     421.0      0.0         0.0   \n",
       "2  2007    88.0    65.0     ...          421.0     421.0      0.0         0.0   \n",
       "3  2007    88.0    65.0     ...          421.0     421.0      0.0         0.0   \n",
       "4  2007    88.0    65.0     ...          421.0     421.0      0.0         0.0   \n",
       "\n",
       "   PrecipTotal_2  StnPressure_2  SeaLevel_2  ResultSpeed_2  ResultDir_2  \\\n",
       "0            0.0          29.44       30.09            5.8           16   \n",
       "1            0.0          29.44       30.09            5.8           16   \n",
       "2            0.0          29.44       30.09            5.8           16   \n",
       "3            0.0          29.44       30.09            5.8           16   \n",
       "4            0.0          29.44       30.09            5.8           16   \n",
       "\n",
       "   AvgSpeed_2  \n",
       "0         7.4  \n",
       "1         7.4  \n",
       "2         7.4  \n",
       "3         7.4  \n",
       "4         7.4  \n",
       "\n",
       "[5 rows x 43 columns]"
      ]
     },
     "execution_count": 6,
     "metadata": {},
     "output_type": "execute_result"
    }
   ],
   "source": [
    "df.head()"
   ]
  },
  {
   "cell_type": "code",
   "execution_count": 7,
   "metadata": {},
   "outputs": [],
   "source": [
    "df_spec = pd.get_dummies(df.Species, prefix='Spec', drop_first=True)    # Use Species #2 as reference\n",
    "# df_trap = pd.get_dummies(df.Trap, prefix='Trap', drop_first=True)    # Use Trap #1 as reference\n",
    "\n",
    "df.drop(['Species'], axis='columns', inplace=True)"
   ]
  },
  {
   "cell_type": "code",
   "execution_count": 8,
   "metadata": {},
   "outputs": [],
   "source": [
    "y = df.WnvPresent\n",
    "\n",
    "df.drop('WnvPresent', axis='columns', inplace=True)"
   ]
  },
  {
   "cell_type": "code",
   "execution_count": 9,
   "metadata": {},
   "outputs": [],
   "source": [
    "scaler = StandardScaler()\n",
    "df_X = pd.DataFrame(scaler.fit_transform(df), columns=df.columns)"
   ]
  },
  {
   "cell_type": "code",
   "execution_count": 10,
   "metadata": {},
   "outputs": [],
   "source": [
    "X = pd.concat([df_X.reset_index(), df_spec.reset_index()], axis='columns')"
   ]
  },
  {
   "cell_type": "code",
   "execution_count": 12,
   "metadata": {},
   "outputs": [],
   "source": [
    "X.drop('index', axis='columns', inplace=True)"
   ]
  },
  {
   "cell_type": "code",
   "execution_count": 13,
   "metadata": {},
   "outputs": [
    {
     "data": {
      "text/html": [
       "<div>\n",
       "<style scoped>\n",
       "    .dataframe tbody tr th:only-of-type {\n",
       "        vertical-align: middle;\n",
       "    }\n",
       "\n",
       "    .dataframe tbody tr th {\n",
       "        vertical-align: top;\n",
       "    }\n",
       "\n",
       "    .dataframe thead th {\n",
       "        text-align: right;\n",
       "    }\n",
       "</style>\n",
       "<table border=\"1\" class=\"dataframe\">\n",
       "  <thead>\n",
       "    <tr style=\"text-align: right;\">\n",
       "      <th></th>\n",
       "      <th>Latitude</th>\n",
       "      <th>Longitude</th>\n",
       "      <th>AddressAccuracy</th>\n",
       "      <th>month</th>\n",
       "      <th>day</th>\n",
       "      <th>year</th>\n",
       "      <th>Tmax_1</th>\n",
       "      <th>Tmin_1</th>\n",
       "      <th>Tavg_1</th>\n",
       "      <th>DewPoint_1</th>\n",
       "      <th>...</th>\n",
       "      <th>SeaLevel_2</th>\n",
       "      <th>ResultSpeed_2</th>\n",
       "      <th>ResultDir_2</th>\n",
       "      <th>AvgSpeed_2</th>\n",
       "      <th>Spec_1</th>\n",
       "      <th>Spec_2</th>\n",
       "      <th>Spec_3</th>\n",
       "      <th>Spec_4</th>\n",
       "      <th>Spec_5</th>\n",
       "      <th>Spec_6</th>\n",
       "    </tr>\n",
       "  </thead>\n",
       "  <tbody>\n",
       "    <tr>\n",
       "      <th>0</th>\n",
       "      <td>1.029879</td>\n",
       "      <td>-1.245401</td>\n",
       "      <td>0.801949</td>\n",
       "      <td>-2.452346</td>\n",
       "      <td>1.544916</td>\n",
       "      <td>-1.160739</td>\n",
       "      <td>0.774069</td>\n",
       "      <td>0.122785</td>\n",
       "      <td>0.52663</td>\n",
       "      <td>-0.02492</td>\n",
       "      <td>...</td>\n",
       "      <td>1.111213</td>\n",
       "      <td>-0.059018</td>\n",
       "      <td>-0.219348</td>\n",
       "      <td>-0.050728</td>\n",
       "      <td>0</td>\n",
       "      <td>1</td>\n",
       "      <td>0</td>\n",
       "      <td>0</td>\n",
       "      <td>0</td>\n",
       "      <td>0</td>\n",
       "    </tr>\n",
       "    <tr>\n",
       "      <th>1</th>\n",
       "      <td>1.029879</td>\n",
       "      <td>-1.245401</td>\n",
       "      <td>0.801949</td>\n",
       "      <td>-2.452346</td>\n",
       "      <td>1.544916</td>\n",
       "      <td>-1.160739</td>\n",
       "      <td>0.774069</td>\n",
       "      <td>0.122785</td>\n",
       "      <td>0.52663</td>\n",
       "      <td>-0.02492</td>\n",
       "      <td>...</td>\n",
       "      <td>1.111213</td>\n",
       "      <td>-0.059018</td>\n",
       "      <td>-0.219348</td>\n",
       "      <td>-0.050728</td>\n",
       "      <td>0</td>\n",
       "      <td>0</td>\n",
       "      <td>1</td>\n",
       "      <td>0</td>\n",
       "      <td>0</td>\n",
       "      <td>0</td>\n",
       "    </tr>\n",
       "    <tr>\n",
       "      <th>2</th>\n",
       "      <td>1.406280</td>\n",
       "      <td>-0.871949</td>\n",
       "      <td>0.801949</td>\n",
       "      <td>-2.452346</td>\n",
       "      <td>1.544916</td>\n",
       "      <td>-1.160739</td>\n",
       "      <td>0.774069</td>\n",
       "      <td>0.122785</td>\n",
       "      <td>0.52663</td>\n",
       "      <td>-0.02492</td>\n",
       "      <td>...</td>\n",
       "      <td>1.111213</td>\n",
       "      <td>-0.059018</td>\n",
       "      <td>-0.219348</td>\n",
       "      <td>-0.050728</td>\n",
       "      <td>0</td>\n",
       "      <td>0</td>\n",
       "      <td>1</td>\n",
       "      <td>0</td>\n",
       "      <td>0</td>\n",
       "      <td>0</td>\n",
       "    </tr>\n",
       "    <tr>\n",
       "      <th>3</th>\n",
       "      <td>1.211060</td>\n",
       "      <td>-1.525926</td>\n",
       "      <td>0.048152</td>\n",
       "      <td>-2.452346</td>\n",
       "      <td>1.544916</td>\n",
       "      <td>-1.160739</td>\n",
       "      <td>0.774069</td>\n",
       "      <td>0.122785</td>\n",
       "      <td>0.52663</td>\n",
       "      <td>-0.02492</td>\n",
       "      <td>...</td>\n",
       "      <td>1.111213</td>\n",
       "      <td>-0.059018</td>\n",
       "      <td>-0.219348</td>\n",
       "      <td>-0.050728</td>\n",
       "      <td>0</td>\n",
       "      <td>1</td>\n",
       "      <td>0</td>\n",
       "      <td>0</td>\n",
       "      <td>0</td>\n",
       "      <td>0</td>\n",
       "    </tr>\n",
       "    <tr>\n",
       "      <th>4</th>\n",
       "      <td>1.211060</td>\n",
       "      <td>-1.525926</td>\n",
       "      <td>0.048152</td>\n",
       "      <td>-2.452346</td>\n",
       "      <td>1.544916</td>\n",
       "      <td>-1.160739</td>\n",
       "      <td>0.774069</td>\n",
       "      <td>0.122785</td>\n",
       "      <td>0.52663</td>\n",
       "      <td>-0.02492</td>\n",
       "      <td>...</td>\n",
       "      <td>1.111213</td>\n",
       "      <td>-0.059018</td>\n",
       "      <td>-0.219348</td>\n",
       "      <td>-0.050728</td>\n",
       "      <td>0</td>\n",
       "      <td>0</td>\n",
       "      <td>1</td>\n",
       "      <td>0</td>\n",
       "      <td>0</td>\n",
       "      <td>0</td>\n",
       "    </tr>\n",
       "  </tbody>\n",
       "</table>\n",
       "<p>5 rows × 47 columns</p>\n",
       "</div>"
      ],
      "text/plain": [
       "   Latitude  Longitude  AddressAccuracy     month       day      year  \\\n",
       "0  1.029879  -1.245401         0.801949 -2.452346  1.544916 -1.160739   \n",
       "1  1.029879  -1.245401         0.801949 -2.452346  1.544916 -1.160739   \n",
       "2  1.406280  -0.871949         0.801949 -2.452346  1.544916 -1.160739   \n",
       "3  1.211060  -1.525926         0.048152 -2.452346  1.544916 -1.160739   \n",
       "4  1.211060  -1.525926         0.048152 -2.452346  1.544916 -1.160739   \n",
       "\n",
       "     Tmax_1    Tmin_1   Tavg_1  DewPoint_1   ...    SeaLevel_2  ResultSpeed_2  \\\n",
       "0  0.774069  0.122785  0.52663    -0.02492   ...      1.111213      -0.059018   \n",
       "1  0.774069  0.122785  0.52663    -0.02492   ...      1.111213      -0.059018   \n",
       "2  0.774069  0.122785  0.52663    -0.02492   ...      1.111213      -0.059018   \n",
       "3  0.774069  0.122785  0.52663    -0.02492   ...      1.111213      -0.059018   \n",
       "4  0.774069  0.122785  0.52663    -0.02492   ...      1.111213      -0.059018   \n",
       "\n",
       "   ResultDir_2  AvgSpeed_2  Spec_1  Spec_2  Spec_3  Spec_4  Spec_5  Spec_6  \n",
       "0    -0.219348   -0.050728       0       1       0       0       0       0  \n",
       "1    -0.219348   -0.050728       0       0       1       0       0       0  \n",
       "2    -0.219348   -0.050728       0       0       1       0       0       0  \n",
       "3    -0.219348   -0.050728       0       1       0       0       0       0  \n",
       "4    -0.219348   -0.050728       0       0       1       0       0       0  \n",
       "\n",
       "[5 rows x 47 columns]"
      ]
     },
     "execution_count": 13,
     "metadata": {},
     "output_type": "execute_result"
    }
   ],
   "source": [
    "X.head()"
   ]
  },
  {
   "cell_type": "code",
   "execution_count": 14,
   "metadata": {},
   "outputs": [
    {
     "data": {
      "text/plain": [
       "RandomForestClassifier(bootstrap=True, class_weight=None, criterion='gini',\n",
       "            max_depth=None, max_features='auto', max_leaf_nodes=None,\n",
       "            min_impurity_decrease=0.0, min_impurity_split=None,\n",
       "            min_samples_leaf=1, min_samples_split=2,\n",
       "            min_weight_fraction_leaf=0.0, n_estimators=10, n_jobs=1,\n",
       "            oob_score=False, random_state=None, verbose=0,\n",
       "            warm_start=False)"
      ]
     },
     "execution_count": 14,
     "metadata": {},
     "output_type": "execute_result"
    }
   ],
   "source": [
    "clf = RandomForestClassifier()\n",
    "clf.fit(X, y)"
   ]
  },
  {
   "cell_type": "code",
   "execution_count": 25,
   "metadata": {},
   "outputs": [],
   "source": [
    "best_features = [list(x) for x in zip(X.columns, clf.feature_importances_)]"
   ]
  },
  {
   "cell_type": "code",
   "execution_count": 29,
   "metadata": {},
   "outputs": [],
   "source": [
    "best_features.sort(key=lambda x: x[1], reverse=True)"
   ]
  },
  {
   "cell_type": "code",
   "execution_count": 31,
   "metadata": {},
   "outputs": [
    {
     "data": {
      "text/plain": [
       "[['Longitude', 0.3517751734804678],\n",
       " ['Latitude', 0.3269835477099972],\n",
       " ['AddressAccuracy', 0.05774642022614107],\n",
       " ['Spec_2', 0.0378820597111108],\n",
       " ['Spec_1', 0.03401196448057227],\n",
       " ['Spec_3', 0.023615351844639608],\n",
       " ['Sunset_2', 0.017320999394843398],\n",
       " ['Sunrise_1', 0.014200050874524176],\n",
       " ['Sunrise_2', 0.013173568624015534],\n",
       " ['Sunset_1', 0.008670173552374575],\n",
       " ['year', 0.007796081562752237],\n",
       " ['ResultDir_2', 0.007204600497552009],\n",
       " ['ResultDir_1', 0.006269719511603948],\n",
       " ['DewPoint_1', 0.005305812501953138],\n",
       " ['AvgSpeed_2', 0.005217749820570466],\n",
       " ['Tmin_2', 0.0051510302454455745],\n",
       " ['Cool_2', 0.004961217177505556],\n",
       " ['ResultSpeed_1', 0.004726590923408938],\n",
       " ['SeaLevel_1', 0.004647583321908343],\n",
       " ['Tavg_2', 0.004368723527096622],\n",
       " ['month', 0.004368441836090483],\n",
       " ['day', 0.004293154032915565],\n",
       " ['Tavg_1', 0.004289102446430377],\n",
       " ['SeaLevel_2', 0.004143892571397603],\n",
       " ['Tmax_2', 0.003891217852575154],\n",
       " ['ResultSpeed_2', 0.0038689834455528185],\n",
       " ['AvgSpeed_1', 0.0033877225514859916],\n",
       " ['PrecipTotal_1', 0.003315900421926172],\n",
       " ['StnPressure_1', 0.003164726972579291],\n",
       " ['StnPressure_2', 0.003033001905996687],\n",
       " ['Tmin_1', 0.003013479372824211],\n",
       " ['Tmax_1', 0.002985106338468972],\n",
       " ['Spec_6', 0.002855423502484329],\n",
       " ['DewPoint_2', 0.0025512502875841407],\n",
       " ['WetBulb_1', 0.002502065243747375],\n",
       " ['PrecipTotal_2', 0.0024145619465181637],\n",
       " ['Cool_1', 0.0017345875410336117],\n",
       " ['Spec_4', 0.0015451080254794637],\n",
       " ['WetBulb_2', 0.0014346612399831226],\n",
       " ['Spec_5', 0.00010411017939959403],\n",
       " ['Heat_2', 3.8964626777356275e-05],\n",
       " ['Heat_1', 3.6118670266270216e-05],\n",
       " ['Depth_1', 0.0],\n",
       " ['SnowFall_1', 0.0],\n",
       " ['Station', 0.0],\n",
       " ['Depth_2', 0.0],\n",
       " ['SnowFall_2', 0.0]]"
      ]
     },
     "execution_count": 31,
     "metadata": {},
     "output_type": "execute_result"
    }
   ],
   "source": [
    "feat_list = ['Longitude', 'Longitude', 'AddressAccuracy', 'Spec_2', 'Spec_1', 'Spec_3', 'Sunset_2', 'year', 'ResultDir_2', 'DewPoint_1', 'month', 'PrecipTotal_1']\n",
    "best_features"
   ]
  },
  {
   "cell_type": "markdown",
   "metadata": {},
   "source": [
    "### Modeling"
   ]
  },
  {
   "cell_type": "code",
   "execution_count": 32,
   "metadata": {},
   "outputs": [],
   "source": [
    "X_train, X_test, y_train, y_test = train_test_split(X, y, test_size=0.2, random_state=42, stratify=y)"
   ]
  },
  {
   "cell_type": "markdown",
   "metadata": {},
   "source": [
    "##### Random Forest"
   ]
  },
  {
   "cell_type": "code",
   "execution_count": 33,
   "metadata": {},
   "outputs": [
    {
     "name": "stderr",
     "output_type": "stream",
     "text": [
      "[Parallel(n_jobs=-1)]: Done   2 out of   5 | elapsed:    0.0s remaining:    0.1s\n",
      "[Parallel(n_jobs=-1)]: Done   5 out of   5 | elapsed:    0.1s finished\n"
     ]
    },
    {
     "data": {
      "text/plain": [
       "0.9468642410275226"
      ]
     },
     "execution_count": 33,
     "metadata": {},
     "output_type": "execute_result"
    }
   ],
   "source": [
    "cross_val_score(RandomForestClassifier(max_depth=2, max_features=3), X_train, y_train,\n",
    "                cv=5, n_jobs=-1, verbose=1).mean()"
   ]
  },
  {
   "cell_type": "markdown",
   "metadata": {},
   "source": [
    "##### AdaBoost Decision Tree"
   ]
  },
  {
   "cell_type": "code",
   "execution_count": 34,
   "metadata": {},
   "outputs": [
    {
     "data": {
      "text/plain": [
       "AdaBoostClassifier(algorithm='SAMME.R', base_estimator=None,\n",
       "          learning_rate=1.0, n_estimators=50, random_state=None)"
      ]
     },
     "execution_count": 34,
     "metadata": {},
     "output_type": "execute_result"
    }
   ],
   "source": [
    "clf = AdaBoostClassifier()\n",
    "clf.fit(X_train, y_train)"
   ]
  },
  {
   "cell_type": "code",
   "execution_count": 35,
   "metadata": {},
   "outputs": [
    {
     "data": {
      "text/plain": [
       "0.945993031358885"
      ]
     },
     "execution_count": 35,
     "metadata": {},
     "output_type": "execute_result"
    }
   ],
   "source": [
    "clf.score(X_test, y_test)"
   ]
  },
  {
   "cell_type": "code",
   "execution_count": 36,
   "metadata": {},
   "outputs": [
    {
     "name": "stderr",
     "output_type": "stream",
     "text": [
      "[Parallel(n_jobs=-1)]: Done   2 out of   5 | elapsed:    0.1s remaining:    0.1s\n",
      "[Parallel(n_jobs=-1)]: Done   5 out of   5 | elapsed:    0.1s finished\n"
     ]
    },
    {
     "data": {
      "text/plain": [
       "0.9468642410275226"
      ]
     },
     "execution_count": 36,
     "metadata": {},
     "output_type": "execute_result"
    }
   ],
   "source": [
    "cross_val_score(AdaBoostClassifier(n_estimators=10), X_train, y_train, cv=5, n_jobs=-1, verbose=1).mean()"
   ]
  },
  {
   "cell_type": "markdown",
   "metadata": {},
   "source": [
    "###### Gradient Boosted Decision Tree"
   ]
  },
  {
   "cell_type": "code",
   "execution_count": 37,
   "metadata": {},
   "outputs": [
    {
     "data": {
      "text/plain": [
       "sklearn.ensemble.gradient_boosting.GradientBoostingClassifier"
      ]
     },
     "execution_count": 37,
     "metadata": {},
     "output_type": "execute_result"
    }
   ],
   "source": [
    "GradientBoostingClassifier"
   ]
  },
  {
   "cell_type": "code",
   "execution_count": 38,
   "metadata": {},
   "outputs": [
    {
     "name": "stderr",
     "output_type": "stream",
     "text": [
      "[Parallel(n_jobs=-1)]: Done   2 out of   5 | elapsed:    0.8s remaining:    1.3s\n",
      "[Parallel(n_jobs=-1)]: Done   5 out of   5 | elapsed:    1.0s finished\n"
     ]
    },
    {
     "data": {
      "text/plain": [
       "0.6030302708271371"
      ]
     },
     "execution_count": 38,
     "metadata": {},
     "output_type": "execute_result"
    }
   ],
   "source": [
    "cross_val_score(GradientBoostingClassifier(), X, y, cv=5, n_jobs=-1, verbose=1).mean()"
   ]
  },
  {
   "cell_type": "markdown",
   "metadata": {},
   "source": [
    "##### SVM"
   ]
  },
  {
   "cell_type": "code",
   "execution_count": 39,
   "metadata": {},
   "outputs": [
    {
     "name": "stderr",
     "output_type": "stream",
     "text": [
      "[Parallel(n_jobs=-1)]: Done   2 out of   5 | elapsed:    1.0s remaining:    1.5s\n",
      "[Parallel(n_jobs=-1)]: Done   5 out of   5 | elapsed:    1.1s finished\n"
     ]
    },
    {
     "data": {
      "text/plain": [
       "0.9468642410275226"
      ]
     },
     "execution_count": 39,
     "metadata": {},
     "output_type": "execute_result"
    }
   ],
   "source": [
    "cross_val_score(SVC(), X_train, y_train, cv=5, n_jobs=-1, verbose=1).mean()"
   ]
  },
  {
   "cell_type": "markdown",
   "metadata": {},
   "source": [
    "##### Neural Network"
   ]
  },
  {
   "cell_type": "code",
   "execution_count": 40,
   "metadata": {},
   "outputs": [],
   "source": [
    "model = Sequential()"
   ]
  },
  {
   "cell_type": "code",
   "execution_count": 41,
   "metadata": {},
   "outputs": [
    {
     "name": "stdout",
     "output_type": "stream",
     "text": [
      "Train on 6888 samples, validate on 1722 samples\n",
      "Epoch 1/5\n",
      "6888/6888 [==============================] - 2s 260us/step - loss: 0.8374 - acc: 0.3539 - val_loss: 0.8157 - val_acc: 0.2544\n",
      "Epoch 2/5\n",
      "6888/6888 [==============================] - 2s 246us/step - loss: 0.8128 - acc: 0.2414 - val_loss: 0.8128 - val_acc: 0.1945\n",
      "Epoch 3/5\n",
      "6888/6888 [==============================] - 1s 153us/step - loss: 0.8075 - acc: 0.2294 - val_loss: 0.8072 - val_acc: 0.2247\n",
      "Epoch 4/5\n",
      "6888/6888 [==============================] - 1s 158us/step - loss: 0.7596 - acc: 0.2491 - val_loss: 0.6893 - val_acc: 0.2956\n",
      "Epoch 5/5\n",
      "6888/6888 [==============================] - 1s 163us/step - loss: 0.7094 - acc: 0.2651 - val_loss: 0.7063 - val_acc: 0.2625\n"
     ]
    }
   ],
   "source": [
    "input_units = X_train.shape[1]\n",
    "hidden_units = input_units\n",
    "\n",
    "model.add(Dense(hidden_units,\n",
    "                input_dim=input_units,\n",
    "                activation='relu'))\n",
    "model.add(Dense(1))\n",
    "\n",
    "model.compile(loss='binary_crossentropy',\n",
    "              optimizer='Adam',\n",
    "              metrics=['accuracy'])\n",
    "\n",
    "hist = model.fit(X_train, y_train,\n",
    "                 validation_data=(X_test, y_test),\n",
    "                 epochs=5,\n",
    "                 batch_size=None,\n",
    "                 shuffle=True)"
   ]
  },
  {
   "cell_type": "code",
   "execution_count": 42,
   "metadata": {},
   "outputs": [
    {
     "data": {
      "image/png": "[encoded data removed]",
      "text/plain": [
       "<matplotlib.figure.Figure at 0x7fb84c2af908>"
      ]
     },
     "metadata": {},
     "output_type": "display_data"
    },
    {
     "data": {
      "image/png": "[encoded data removed]",
      "text/plain": [
       "<matplotlib.figure.Figure at 0x7fb84c2e79e8>"
      ]
     },
     "metadata": {},
     "output_type": "display_data"
    }
   ],
   "source": [
    "plt.figure()\n",
    "plt.plot(hist.history['loss'])\n",
    "plt.plot(hist.history['val_loss'])\n",
    "plt.title('model loss')\n",
    "plt.ylabel('loss')\n",
    "plt.xlabel('epoch')\n",
    "plt.legend(['train', 'test'], loc='best') ## I love this loc = 'best' command.\n",
    "plt.show()\n",
    "plt.figure()\n",
    "plt.plot(hist.history['acc'])\n",
    "plt.plot(hist.history['val_acc'])\n",
    "plt.title('model accuracy')\n",
    "plt.ylabel('accuracy')\n",
    "plt.xlabel('epoch')\n",
    "plt.legend(['train', 'test'], loc='best')\n",
    "plt.show()"
   ]
  },
  {
   "cell_type": "code",
   "execution_count": 43,
   "metadata": {},
   "outputs": [
    {
     "name": "stdout",
     "output_type": "stream",
     "text": [
      "Train on 6888 samples, validate on 1722 samples\n",
      "Epoch 1/5\n",
      "6888/6888 [==============================] - 2s 333us/step - loss: 0.8506 - acc: 0.1447 - val_loss: 0.8518 - val_acc: 0.0685\n",
      "Epoch 2/5\n",
      "6888/6888 [==============================] - 2s 264us/step - loss: 0.8565 - acc: 0.0555 - val_loss: 0.8518 - val_acc: 0.0540\n",
      "Epoch 3/5\n",
      "6888/6888 [==============================] - 1s 189us/step - loss: 0.8564 - acc: 0.0495 - val_loss: 0.8518 - val_acc: 0.0511\n",
      "Epoch 4/5\n",
      "6888/6888 [==============================] - 2s 285us/step - loss: 0.8564 - acc: 0.0467 - val_loss: 0.8518 - val_acc: 0.0511\n",
      "Epoch 5/5\n",
      "6888/6888 [==============================] - 2s 268us/step - loss: 0.8564 - acc: 0.0467 - val_loss: 0.8518 - val_acc: 0.0511\n"
     ]
    }
   ],
   "source": [
    "model = Sequential()\n",
    "input_units = X_train.shape[1]\n",
    "hidden_units = input_units\n",
    "\n",
    "model.add(Dense(hidden_units * 2,\n",
    "                input_dim=input_units,\n",
    "                activation='relu'))\n",
    "model.add(Dense(1))\n",
    "\n",
    "model.compile(loss='binary_crossentropy',\n",
    "              optimizer='Adam',\n",
    "              metrics=['accuracy'])\n",
    "\n",
    "hist = model.fit(X_train, y_train,\n",
    "                 validation_data=(X_test, y_test),\n",
    "                 epochs=5,\n",
    "                 batch_size=None,\n",
    "                 shuffle=True)"
   ]
  },
  {
   "cell_type": "code",
   "execution_count": 44,
   "metadata": {},
   "outputs": [
    {
     "data": {
      "image/png": "[encoded data removed]",
      "text/plain": [
       "<matplotlib.figure.Figure at 0x7fb808181dd8>"
      ]
     },
     "metadata": {},
     "output_type": "display_data"
    },
    {
     "data": {
      "image/png": "[encoded data removed]",
      "text/plain": [
       "<matplotlib.figure.Figure at 0x7fb84c264240>"
      ]
     },
     "metadata": {},
     "output_type": "display_data"
    }
   ],
   "source": [
    "plt.figure()\n",
    "plt.plot(hist.history['loss'])\n",
    "plt.plot(hist.history['val_loss'])\n",
    "plt.title('model loss')\n",
    "plt.ylabel('loss')\n",
    "plt.xlabel('epoch')\n",
    "plt.legend(['train', 'test'], loc='best') ## I love this loc = 'best' command.\n",
    "plt.show()\n",
    "plt.figure()\n",
    "plt.plot(hist.history['acc'])\n",
    "plt.plot(hist.history['val_acc'])\n",
    "plt.title('model accuracy')\n",
    "plt.ylabel('accuracy')\n",
    "plt.xlabel('epoch')\n",
    "plt.legend(['train', 'test'], loc='best')\n",
    "plt.show()"
   ]
  },
  {
   "cell_type": "markdown",
   "metadata": {},
   "source": [
    "##### Let's me how the model performs with a narrower dataset"
   ]
  },
  {
   "cell_type": "code",
   "execution_count": 64,
   "metadata": {},
   "outputs": [],
   "source": [
    "X_train, X_test, y_train, y_test = train_test_split(X[feat_list], y, test_size=0.2, random_state=42, stratify=y)"
   ]
  },
  {
   "cell_type": "code",
   "execution_count": 54,
   "metadata": {},
   "outputs": [
    {
     "data": {
      "text/plain": [
       "AdaBoostClassifier(algorithm='SAMME.R', base_estimator=None,\n",
       "          learning_rate=1.0, n_estimators=60, random_state=None)"
      ]
     },
     "execution_count": 54,
     "metadata": {},
     "output_type": "execute_result"
    }
   ],
   "source": [
    "clf = AdaBoostClassifier(n_estimators=60)\n",
    "clf.fit(X_train, y_train)"
   ]
  },
  {
   "cell_type": "code",
   "execution_count": 55,
   "metadata": {},
   "outputs": [
    {
     "data": {
      "text/plain": [
       "0.9454123112659698"
      ]
     },
     "execution_count": 55,
     "metadata": {},
     "output_type": "execute_result"
    }
   ],
   "source": [
    "clf.score(X_test, y_test)"
   ]
  },
  {
   "cell_type": "code",
   "execution_count": 60,
   "metadata": {},
   "outputs": [
    {
     "name": "stdout",
     "output_type": "stream",
     "text": [
      "Train on 6888 samples, validate on 1722 samples\n",
      "Epoch 1/50\n",
      "6888/6888 [==============================] - 4s 569us/step - loss: 0.8062 - acc: 0.5925 - val_loss: 0.6701 - val_acc: 0.5540\n",
      "Epoch 2/50\n",
      "6888/6888 [==============================] - 3s 421us/step - loss: 0.6546 - acc: 0.5735 - val_loss: 0.6247 - val_acc: 0.6138\n",
      "Epoch 3/50\n",
      "6888/6888 [==============================] - 4s 530us/step - loss: 0.6408 - acc: 0.5918 - val_loss: 0.6123 - val_acc: 0.6022\n",
      "Epoch 4/50\n",
      "6888/6888 [==============================] - 3s 479us/step - loss: 0.6301 - acc: 0.5857 - val_loss: 0.6212 - val_acc: 0.5848\n",
      "Epoch 5/50\n",
      "6888/6888 [==============================] - 3s 478us/step - loss: 0.6065 - acc: 0.5979 - val_loss: 0.6003 - val_acc: 0.6324\n",
      "Epoch 6/50\n",
      "6888/6888 [==============================] - 3s 364us/step - loss: 0.6147 - acc: 0.6272 - val_loss: 0.5938 - val_acc: 0.6138\n",
      "Epoch 7/50\n",
      "6888/6888 [==============================] - 4s 560us/step - loss: 0.5953 - acc: 0.6222 - val_loss: 0.5609 - val_acc: 0.6498\n",
      "Epoch 8/50\n",
      "6888/6888 [==============================] - 4s 567us/step - loss: 0.5651 - acc: 0.6802 - val_loss: 0.5526 - val_acc: 0.6893\n",
      "Epoch 9/50\n",
      "6888/6888 [==============================] - 4s 509us/step - loss: 0.5897 - acc: 0.6852 - val_loss: 0.5772 - val_acc: 0.6992\n",
      "Epoch 10/50\n",
      "6888/6888 [==============================] - 4s 631us/step - loss: 0.5605 - acc: 0.7014 - val_loss: 0.5571 - val_acc: 0.7178\n",
      "Epoch 11/50\n",
      "6888/6888 [==============================] - 5s 705us/step - loss: 0.5600 - acc: 0.7217 - val_loss: 0.5531 - val_acc: 0.7404\n",
      "Epoch 12/50\n",
      "6888/6888 [==============================] - 5s 725us/step - loss: 0.5758 - acc: 0.7128 - val_loss: 0.5751 - val_acc: 0.7114\n",
      "Epoch 13/50\n",
      "6888/6888 [==============================] - 4s 616us/step - loss: 0.5559 - acc: 0.7223 - val_loss: 0.5853 - val_acc: 0.7300\n",
      "Epoch 14/50\n",
      "6888/6888 [==============================] - 4s 609us/step - loss: 0.5423 - acc: 0.7262 - val_loss: 0.5502 - val_acc: 0.7352\n",
      "Epoch 15/50\n",
      "6888/6888 [==============================] - 4s 635us/step - loss: 0.5432 - acc: 0.7059 - val_loss: 0.5678 - val_acc: 0.6963\n",
      "Epoch 16/50\n",
      "6888/6888 [==============================] - 4s 543us/step - loss: 0.5140 - acc: 0.7215 - val_loss: 0.5668 - val_acc: 0.7300\n",
      "Epoch 17/50\n",
      "6888/6888 [==============================] - 4s 540us/step - loss: 0.5397 - acc: 0.7035 - val_loss: 0.5536 - val_acc: 0.7265\n",
      "Epoch 18/50\n",
      "6888/6888 [==============================] - 4s 632us/step - loss: 0.5255 - acc: 0.7064 - val_loss: 0.5511 - val_acc: 0.7184\n",
      "Epoch 19/50\n",
      "6888/6888 [==============================] - 4s 580us/step - loss: 0.5149 - acc: 0.7184 - val_loss: 0.5646 - val_acc: 0.7317\n",
      "Epoch 20/50\n",
      "6888/6888 [==============================] - 5s 682us/step - loss: 0.4964 - acc: 0.7271 - val_loss: 0.4887 - val_acc: 0.7189\n",
      "Epoch 21/50\n",
      "6888/6888 [==============================] - 4s 620us/step - loss: 0.4847 - acc: 0.7136 - val_loss: 0.5150 - val_acc: 0.7067\n",
      "Epoch 22/50\n",
      "6888/6888 [==============================] - 3s 506us/step - loss: 0.4725 - acc: 0.7072 - val_loss: 0.4330 - val_acc: 0.7416\n",
      "Epoch 23/50\n",
      "6888/6888 [==============================] - 4s 603us/step - loss: 0.4715 - acc: 0.7226 - val_loss: 0.4541 - val_acc: 0.7224\n",
      "Epoch 24/50\n",
      "6888/6888 [==============================] - 4s 623us/step - loss: 0.4567 - acc: 0.7301 - val_loss: 0.4397 - val_acc: 0.7515\n",
      "Epoch 25/50\n",
      "6888/6888 [==============================] - 4s 583us/step - loss: 0.4536 - acc: 0.7417 - val_loss: 0.4398 - val_acc: 0.7666\n",
      "Epoch 26/50\n",
      "6888/6888 [==============================] - 4s 632us/step - loss: 0.4441 - acc: 0.7519 - val_loss: 0.4521 - val_acc: 0.7544\n",
      "Epoch 27/50\n",
      "6888/6888 [==============================] - 4s 516us/step - loss: 0.4262 - acc: 0.7575 - val_loss: 0.4394 - val_acc: 0.7671\n",
      "Epoch 28/50\n",
      "6888/6888 [==============================] - 4s 587us/step - loss: 0.4484 - acc: 0.7596 - val_loss: 0.3877 - val_acc: 0.7544\n",
      "Epoch 29/50\n",
      "6888/6888 [==============================] - 3s 470us/step - loss: 0.3914 - acc: 0.7650 - val_loss: 0.4598 - val_acc: 0.7497\n",
      "Epoch 30/50\n",
      "6888/6888 [==============================] - 4s 584us/step - loss: 0.5099 - acc: 0.7268 - val_loss: 0.4509 - val_acc: 0.7352\n",
      "Epoch 31/50\n",
      "6888/6888 [==============================] - 5s 683us/step - loss: 0.3697 - acc: 0.7689 - val_loss: 0.3639 - val_acc: 0.7590\n",
      "Epoch 32/50\n",
      "6888/6888 [==============================] - 5s 714us/step - loss: 0.3379 - acc: 0.7740 - val_loss: 0.3493 - val_acc: 0.7718\n",
      "Epoch 33/50\n",
      "6888/6888 [==============================] - 4s 536us/step - loss: 0.3326 - acc: 0.7706 - val_loss: 0.3415 - val_acc: 0.7642\n",
      "Epoch 34/50\n",
      "6888/6888 [==============================] - 5s 733us/step - loss: 0.3342 - acc: 0.7721 - val_loss: 0.3498 - val_acc: 0.7724\n",
      "Epoch 35/50\n",
      "6888/6888 [==============================] - 4s 622us/step - loss: 0.3238 - acc: 0.7828 - val_loss: 0.3429 - val_acc: 0.7729\n",
      "Epoch 36/50\n",
      "6888/6888 [==============================] - 5s 719us/step - loss: 0.3245 - acc: 0.7846 - val_loss: 0.3714 - val_acc: 0.7892\n",
      "Epoch 37/50\n",
      "6888/6888 [==============================] - 4s 649us/step - loss: 0.3246 - acc: 0.7925 - val_loss: 0.3393 - val_acc: 0.7880\n",
      "Epoch 38/50\n",
      "6888/6888 [==============================] - 5s 669us/step - loss: 0.3275 - acc: 0.7959 - val_loss: 0.3586 - val_acc: 0.7834\n",
      "Epoch 39/50\n",
      "6888/6888 [==============================] - 4s 642us/step - loss: 0.3412 - acc: 0.7619 - val_loss: 0.3842 - val_acc: 0.7654\n",
      "Epoch 40/50\n",
      "6888/6888 [==============================] - 4s 617us/step - loss: 0.3322 - acc: 0.7883 - val_loss: 0.3258 - val_acc: 0.7985\n",
      "Epoch 41/50\n",
      "6888/6888 [==============================] - 5s 715us/step - loss: 0.3014 - acc: 0.8026 - val_loss: 0.3036 - val_acc: 0.8020\n",
      "Epoch 42/50\n",
      "6888/6888 [==============================] - 3s 503us/step - loss: 0.3039 - acc: 0.7985 - val_loss: 0.3027 - val_acc: 0.7985\n",
      "Epoch 43/50\n",
      "6888/6888 [==============================] - 4s 591us/step - loss: 0.2917 - acc: 0.8005 - val_loss: 0.3163 - val_acc: 0.7886\n",
      "Epoch 44/50\n",
      "6888/6888 [==============================] - 6s 810us/step - loss: 0.2860 - acc: 0.7966 - val_loss: 0.3166 - val_acc: 0.7938\n",
      "Epoch 45/50\n",
      "6888/6888 [==============================] - 5s 663us/step - loss: 0.3495 - acc: 0.7959 - val_loss: 0.3584 - val_acc: 0.8130\n",
      "Epoch 46/50\n",
      "6888/6888 [==============================] - 5s 732us/step - loss: 0.3343 - acc: 0.8075 - val_loss: 0.3500 - val_acc: 0.7927\n",
      "Epoch 47/50\n",
      "6888/6888 [==============================] - 4s 592us/step - loss: 0.3023 - acc: 0.8078 - val_loss: 0.3079 - val_acc: 0.7962\n",
      "Epoch 48/50\n",
      "6888/6888 [==============================] - 5s 718us/step - loss: 0.3002 - acc: 0.7940 - val_loss: 0.2854 - val_acc: 0.7950\n",
      "Epoch 49/50\n",
      "6888/6888 [==============================] - 4s 613us/step - loss: 0.2989 - acc: 0.7734 - val_loss: 0.3317 - val_acc: 0.7729\n",
      "Epoch 50/50\n",
      "6888/6888 [==============================] - 4s 629us/step - loss: 0.2855 - acc: 0.7767 - val_loss: 0.2903 - val_acc: 0.7671\n"
     ]
    }
   ],
   "source": [
    "model = Sequential()\n",
    "input_units = X_train.shape[1]\n",
    "hidden_units = input_units\n",
    "\n",
    "model.add(Dense(hidden_units * 2,\n",
    "                input_dim=input_units,\n",
    "                activation='relu'))\n",
    "model.add(Dense(1))\n",
    "\n",
    "model.compile(loss='binary_crossentropy',\n",
    "              optimizer='Adam',\n",
    "              metrics=['accuracy'])\n",
    "\n",
    "hist = model.fit(X_train, y_train,\n",
    "                 validation_data=(X_test, y_test),\n",
    "                 epochs=50,\n",
    "                 batch_size=16,\n",
    "                 shuffle=True)"
   ]
  },
  {
   "cell_type": "code",
   "execution_count": 61,
   "metadata": {},
   "outputs": [
    {
     "data": {
      "image/png": "[encoded data removed]",
      "text/plain": [
       "<matplotlib.figure.Figure at 0x7fb7e4d377b8>"
      ]
     },
     "metadata": {},
     "output_type": "display_data"
    },
    {
     "data": {
      "image/png": "[encoded data removed]",
      "text/plain": [
       "<matplotlib.figure.Figure at 0x7fb84c25eba8>"
      ]
     },
     "metadata": {},
     "output_type": "display_data"
    }
   ],
   "source": [
    "plt.figure()\n",
    "plt.plot(hist.history['loss'])\n",
    "plt.plot(hist.history['val_loss'])\n",
    "plt.title('model loss')\n",
    "plt.ylabel('loss')\n",
    "plt.xlabel('epoch')\n",
    "plt.legend(['train', 'test'], loc='best') ## I love this loc = 'best' command.\n",
    "plt.show()\n",
    "plt.figure()\n",
    "plt.plot(hist.history['acc'])\n",
    "plt.plot(hist.history['val_acc'])\n",
    "plt.title('model accuracy')\n",
    "plt.ylabel('accuracy')\n",
    "plt.xlabel('epoch')\n",
    "plt.legend(['train', 'test'], loc='best')\n",
    "plt.show()"
   ]
  },
  {
   "cell_type": "markdown",
   "metadata": {},
   "source": [
    "##### The reduced dataset is superior compared to the full dataset for NN"
   ]
  },
  {
   "cell_type": "code",
   "execution_count": 66,
   "metadata": {},
   "outputs": [
    {
     "name": "stdout",
     "output_type": "stream",
     "text": [
      "Train on 6888 samples, validate on 1722 samples\n",
      "Epoch 1/5\n",
      "6888/6888 [==============================] - 2s 261us/step - loss: 0.2087 - acc: 0.9469 - val_loss: 0.1971 - val_acc: 0.9472\n",
      "Epoch 2/5\n",
      "6888/6888 [==============================] - 1s 181us/step - loss: 0.1973 - acc: 0.9469 - val_loss: 0.1853 - val_acc: 0.9472\n",
      "Epoch 3/5\n",
      "6888/6888 [==============================] - 1s 156us/step - loss: 0.1927 - acc: 0.9469 - val_loss: 0.2306 - val_acc: 0.9472\n",
      "Epoch 4/5\n",
      "6888/6888 [==============================] - 1s 199us/step - loss: 0.2198 - acc: 0.9469 - val_loss: 0.1999 - val_acc: 0.9472\n",
      "Epoch 5/5\n",
      "6888/6888 [==============================] - 1s 146us/step - loss: 0.1989 - acc: 0.9469 - val_loss: 0.1912 - val_acc: 0.9472\n"
     ]
    }
   ],
   "source": [
    "model = Sequential()\n",
    "input_units = X_train.shape[1]\n",
    "hidden_units = input_units\n",
    "\n",
    "model.add(Dense(hidden_units * 2,\n",
    "                input_dim=input_units,\n",
    "                activation='relu'))\n",
    "model.add(Dense(1))\n",
    "\n",
    "model.add(Dense(hidden_units * 2,\n",
    "                input_dim=input_units,\n",
    "                activation='relu'))\n",
    "model.add(Dense(1))\n",
    "\n",
    "model.compile(loss='binary_crossentropy',\n",
    "              optimizer='Adam',\n",
    "              metrics=['accuracy'])\n",
    "\n",
    "hist = model.fit(X_train, y_train,\n",
    "                 validation_data=(X_test, y_test),\n",
    "                 epochs=5,\n",
    "                 batch_size=64,\n",
    "                 shuffle=True)"
   ]
  },
  {
   "cell_type": "code",
   "execution_count": 67,
   "metadata": {},
   "outputs": [
    {
     "data": {
      "image/png": "[encoded data removed]",
      "text/plain": [
       "<matplotlib.figure.Figure at 0x7fb7a7db1d68>"
      ]
     },
     "metadata": {},
     "output_type": "display_data"
    },
    {
     "data": {
      "image/png": "[encoded data removed]",
      "text/plain": [
       "<matplotlib.figure.Figure at 0x7fb7a7d58b00>"
      ]
     },
     "metadata": {},
     "output_type": "display_data"
    }
   ],
   "source": [
    "plt.figure()\n",
    "plt.plot(hist.history['loss'])\n",
    "plt.plot(hist.history['val_loss'])\n",
    "plt.title('model loss')\n",
    "plt.ylabel('loss')\n",
    "plt.xlabel('epoch')\n",
    "plt.legend(['train', 'test'], loc='best') ## I love this loc = 'best' command.\n",
    "plt.show()\n",
    "plt.figure()\n",
    "plt.plot(hist.history['acc'])\n",
    "plt.plot(hist.history['val_acc'])\n",
    "plt.title('model accuracy')\n",
    "plt.ylabel('accuracy')\n",
    "plt.xlabel('epoch')\n",
    "plt.legend(['train', 'test'], loc='best')\n",
    "plt.show()"
   ]
  },
  {
   "cell_type": "code",
   "execution_count": 76,
   "metadata": {},
   "outputs": [
    {
     "name": "stdout",
     "output_type": "stream",
     "text": [
      "Train on 6888 samples, validate on 1722 samples\n",
      "Epoch 1/50\n",
      "6888/6888 [==============================] - 1s 155us/step - loss: 13.9722 - acc: 0.0449 - val_loss: 13.1683 - val_acc: 0.0459\n",
      "Epoch 2/50\n",
      "6888/6888 [==============================] - 0s 61us/step - loss: 11.3297 - acc: 0.0511 - val_loss: 8.5524 - val_acc: 0.0569\n",
      "Epoch 3/50\n",
      "6888/6888 [==============================] - 0s 60us/step - loss: 6.0238 - acc: 0.0835 - val_loss: 4.0594 - val_acc: 0.1115\n",
      "Epoch 4/50\n",
      "6888/6888 [==============================] - 0s 23us/step - loss: 3.4035 - acc: 0.1350 - val_loss: 2.4642 - val_acc: 0.1556\n",
      "Epoch 5/50\n",
      "6888/6888 [==============================] - 0s 29us/step - loss: 2.0700 - acc: 0.2019 - val_loss: 1.4617 - val_acc: 0.2352\n",
      "Epoch 6/50\n",
      "6888/6888 [==============================] - 0s 54us/step - loss: 1.2731 - acc: 0.2783 - val_loss: 1.0460 - val_acc: 0.3177\n",
      "Epoch 7/50\n",
      "6888/6888 [==============================] - 0s 68us/step - loss: 0.9835 - acc: 0.3481 - val_loss: 0.9116 - val_acc: 0.3844\n",
      "Epoch 8/50\n",
      "6888/6888 [==============================] - 0s 37us/step - loss: 0.8781 - acc: 0.4013 - val_loss: 0.8248 - val_acc: 0.4321\n",
      "Epoch 9/50\n",
      "6888/6888 [==============================] - 0s 23us/step - loss: 0.8070 - acc: 0.4546 - val_loss: 0.7634 - val_acc: 0.4890\n",
      "Epoch 10/50\n",
      "6888/6888 [==============================] - 0s 30us/step - loss: 0.7477 - acc: 0.5039 - val_loss: 0.7102 - val_acc: 0.5383\n",
      "Epoch 11/50\n",
      "6888/6888 [==============================] - 0s 28us/step - loss: 0.6956 - acc: 0.5582 - val_loss: 0.6622 - val_acc: 0.5918\n",
      "Epoch 12/50\n",
      "6888/6888 [==============================] - 0s 34us/step - loss: 0.6508 - acc: 0.6109 - val_loss: 0.6187 - val_acc: 0.6423\n",
      "Epoch 13/50\n",
      "6888/6888 [==============================] - 0s 13us/step - loss: 0.6087 - acc: 0.6591 - val_loss: 0.5785 - val_acc: 0.6940\n",
      "Epoch 14/50\n",
      "6888/6888 [==============================] - 0s 19us/step - loss: 0.5699 - acc: 0.7009 - val_loss: 0.5415 - val_acc: 0.7468\n",
      "Epoch 15/50\n",
      "6888/6888 [==============================] - 0s 61us/step - loss: 0.5341 - acc: 0.7436 - val_loss: 0.5073 - val_acc: 0.7816\n",
      "Epoch 16/50\n",
      "6888/6888 [==============================] - 0s 30us/step - loss: 0.5010 - acc: 0.7830 - val_loss: 0.4759 - val_acc: 0.8171\n",
      "Epoch 17/50\n",
      "6888/6888 [==============================] - 0s 58us/step - loss: 0.4706 - acc: 0.8165 - val_loss: 0.4470 - val_acc: 0.8490\n",
      "Epoch 18/50\n",
      "6888/6888 [==============================] - 0s 30us/step - loss: 0.4446 - acc: 0.8454 - val_loss: 0.4275 - val_acc: 0.8763\n",
      "Epoch 19/50\n",
      "6888/6888 [==============================] - 0s 16us/step - loss: 0.4202 - acc: 0.8692 - val_loss: 0.4104 - val_acc: 0.8931\n",
      "Epoch 20/50\n",
      "6888/6888 [==============================] - 0s 16us/step - loss: 0.4024 - acc: 0.8934 - val_loss: 0.3879 - val_acc: 0.9135\n",
      "Epoch 21/50\n",
      "6888/6888 [==============================] - 0s 17us/step - loss: 0.3825 - acc: 0.9132 - val_loss: 0.3664 - val_acc: 0.9268\n",
      "Epoch 22/50\n",
      "6888/6888 [==============================] - 0s 16us/step - loss: 0.3660 - acc: 0.9241 - val_loss: 0.3509 - val_acc: 0.9321\n",
      "Epoch 23/50\n",
      "6888/6888 [==============================] - 0s 29us/step - loss: 0.3559 - acc: 0.9329 - val_loss: 0.3348 - val_acc: 0.9355\n",
      "Epoch 24/50\n",
      "6888/6888 [==============================] - 0s 29us/step - loss: 0.3483 - acc: 0.9384 - val_loss: 0.3280 - val_acc: 0.9384\n",
      "Epoch 25/50\n",
      "6888/6888 [==============================] - 0s 33us/step - loss: 0.3378 - acc: 0.9421 - val_loss: 0.3155 - val_acc: 0.9413\n",
      "Epoch 26/50\n",
      "6888/6888 [==============================] - 0s 26us/step - loss: 0.3298 - acc: 0.9438 - val_loss: 0.3116 - val_acc: 0.9443\n",
      "Epoch 27/50\n",
      "6888/6888 [==============================] - 0s 37us/step - loss: 0.3232 - acc: 0.9453 - val_loss: 0.3096 - val_acc: 0.9466\n",
      "Epoch 28/50\n",
      "6888/6888 [==============================] - 0s 62us/step - loss: 0.3164 - acc: 0.9461 - val_loss: 0.3006 - val_acc: 0.9472\n",
      "Epoch 29/50\n",
      "6888/6888 [==============================] - 0s 30us/step - loss: 0.3142 - acc: 0.9466 - val_loss: 0.2935 - val_acc: 0.9472\n",
      "Epoch 30/50\n",
      "6888/6888 [==============================] - 0s 15us/step - loss: 0.3105 - acc: 0.9467 - val_loss: 0.2873 - val_acc: 0.9472\n",
      "Epoch 31/50\n",
      "6888/6888 [==============================] - 0s 27us/step - loss: 0.2999 - acc: 0.9467 - val_loss: 0.2830 - val_acc: 0.9472\n",
      "Epoch 32/50\n",
      "6888/6888 [==============================] - 0s 42us/step - loss: 0.2930 - acc: 0.9467 - val_loss: 0.2777 - val_acc: 0.9472\n",
      "Epoch 33/50\n",
      "6888/6888 [==============================] - 0s 31us/step - loss: 0.2908 - acc: 0.9467 - val_loss: 0.2831 - val_acc: 0.9472\n",
      "Epoch 34/50\n",
      "6888/6888 [==============================] - 0s 33us/step - loss: 0.2888 - acc: 0.9469 - val_loss: 0.2780 - val_acc: 0.9472\n",
      "Epoch 35/50\n",
      "6888/6888 [==============================] - 0s 37us/step - loss: 0.2840 - acc: 0.9469 - val_loss: 0.2749 - val_acc: 0.9472\n",
      "Epoch 36/50\n",
      "6888/6888 [==============================] - 0s 31us/step - loss: 0.2799 - acc: 0.9469 - val_loss: 0.2760 - val_acc: 0.9472\n",
      "Epoch 37/50\n",
      "6888/6888 [==============================] - 0s 68us/step - loss: 0.2785 - acc: 0.9469 - val_loss: 0.2759 - val_acc: 0.9472\n",
      "Epoch 38/50\n",
      "6888/6888 [==============================] - 0s 36us/step - loss: 0.2751 - acc: 0.9469 - val_loss: 0.2729 - val_acc: 0.9472\n",
      "Epoch 39/50\n",
      "6888/6888 [==============================] - 0s 48us/step - loss: 0.2729 - acc: 0.9469 - val_loss: 0.2690 - val_acc: 0.9472\n",
      "Epoch 40/50\n",
      "6888/6888 [==============================] - 0s 52us/step - loss: 0.2701 - acc: 0.9469 - val_loss: 0.2669 - val_acc: 0.9472\n",
      "Epoch 41/50\n",
      "6888/6888 [==============================] - 0s 44us/step - loss: 0.2639 - acc: 0.9469 - val_loss: 0.2645 - val_acc: 0.9472\n",
      "Epoch 42/50\n",
      "6888/6888 [==============================] - 0s 37us/step - loss: 0.2610 - acc: 0.9469 - val_loss: 0.2615 - val_acc: 0.9472\n",
      "Epoch 43/50\n",
      "6888/6888 [==============================] - 0s 35us/step - loss: 0.2586 - acc: 0.9469 - val_loss: 0.2591 - val_acc: 0.9472\n",
      "Epoch 44/50\n",
      "6888/6888 [==============================] - 0s 65us/step - loss: 0.2566 - acc: 0.9469 - val_loss: 0.2577 - val_acc: 0.9472\n",
      "Epoch 45/50\n",
      "6888/6888 [==============================] - 0s 42us/step - loss: 0.2404 - acc: 0.9469 - val_loss: 0.2373 - val_acc: 0.9472\n",
      "Epoch 46/50\n",
      "6888/6888 [==============================] - 0s 40us/step - loss: 0.2411 - acc: 0.9469 - val_loss: 0.2354 - val_acc: 0.9472\n",
      "Epoch 47/50\n",
      "6888/6888 [==============================] - 0s 38us/step - loss: 0.2380 - acc: 0.9469 - val_loss: 0.2399 - val_acc: 0.9472\n",
      "Epoch 48/50\n",
      "6888/6888 [==============================] - 0s 34us/step - loss: 0.2334 - acc: 0.9469 - val_loss: 0.2351 - val_acc: 0.9472\n",
      "Epoch 49/50\n",
      "6888/6888 [==============================] - 0s 30us/step - loss: 0.2349 - acc: 0.9469 - val_loss: 0.2311 - val_acc: 0.9472\n",
      "Epoch 50/50\n",
      "6888/6888 [==============================] - 0s 35us/step - loss: 0.2335 - acc: 0.9469 - val_loss: 0.2379 - val_acc: 0.9472\n"
     ]
    }
   ],
   "source": [
    "model = Sequential()\n",
    "input_units = X_train.shape[1]\n",
    "hidden_units = input_units\n",
    "\n",
    "model.add(Dense(hidden_units * 2,\n",
    "                input_dim=input_units,\n",
    "                activation='sigmoid'))\n",
    "model.add(Dense(1))\n",
    "\n",
    "model.compile(loss='binary_crossentropy',\n",
    "              optimizer='Adam',\n",
    "              metrics=['accuracy'])\n",
    "\n",
    "hist = model.fit(X_train, y_train,\n",
    "                 validation_data=(X_test, y_test),\n",
    "                 epochs=50,\n",
    "                 batch_size=256,\n",
    "                 shuffle=True)"
   ]
  },
  {
   "cell_type": "code",
   "execution_count": 77,
   "metadata": {},
   "outputs": [
    {
     "data": {
      "image/png": "[encoded data removed]",
      "text/plain": [
       "<matplotlib.figure.Figure at 0x7fb7a60024a8>"
      ]
     },
     "metadata": {},
     "output_type": "display_data"
    },
    {
     "data": {
      "image/png": "[encoded data removed]",
      "text/plain": [
       "<matplotlib.figure.Figure at 0x7fb7a600ec88>"
      ]
     },
     "metadata": {},
     "output_type": "display_data"
    }
   ],
   "source": [
    "plt.figure()\n",
    "plt.plot(hist.history['loss'])\n",
    "plt.plot(hist.history['val_loss'])\n",
    "plt.title('model loss')\n",
    "plt.ylabel('loss')\n",
    "plt.xlabel('epoch')\n",
    "plt.legend(['train', 'test'], loc='best') ## I love this loc = 'best' command.\n",
    "plt.show()\n",
    "plt.figure()\n",
    "plt.plot(hist.history['acc'])\n",
    "plt.plot(hist.history['val_acc'])\n",
    "plt.title('model accuracy')\n",
    "plt.ylabel('accuracy')\n",
    "plt.xlabel('epoch')\n",
    "plt.legend(['train', 'test'], loc='best')\n",
    "plt.show()"
   ]
  },
  {
   "cell_type": "code",
   "execution_count": 79,
   "metadata": {},
   "outputs": [
    {
     "data": {
      "text/plain": [
       "0.9471544689833079"
      ]
     },
     "execution_count": 79,
     "metadata": {},
     "output_type": "execute_result"
    }
   ],
   "source": [
    "hist.history['val_acc'][-1]"
   ]
  },
  {
   "cell_type": "code",
   "execution_count": 81,
   "metadata": {},
   "outputs": [
    {
     "name": "stdout",
     "output_type": "stream",
     "text": [
      "Train on 6888 samples, validate on 1722 samples\n",
      "Epoch 1/50\n",
      "6888/6888 [==============================] - 1s 157us/step - loss: 0.5558 - acc: 0.7626 - val_loss: 0.4779 - val_acc: 0.8670\n",
      "Epoch 2/50\n",
      "6888/6888 [==============================] - 1s 81us/step - loss: 0.4256 - acc: 0.9139 - val_loss: 0.3758 - val_acc: 0.9425\n",
      "Epoch 3/50\n",
      "6888/6888 [==============================] - 0s 64us/step - loss: 0.3432 - acc: 0.9461 - val_loss: 0.3109 - val_acc: 0.9472\n",
      "Epoch 4/50\n",
      "6888/6888 [==============================] - 0s 37us/step - loss: 0.2903 - acc: 0.9469 - val_loss: 0.2673 - val_acc: 0.9472\n",
      "Epoch 5/50\n",
      "6888/6888 [==============================] - 0s 24us/step - loss: 0.2545 - acc: 0.9469 - val_loss: 0.2397 - val_acc: 0.9472\n",
      "Epoch 6/50\n",
      "6888/6888 [==============================] - 0s 22us/step - loss: 0.2316 - acc: 0.9469 - val_loss: 0.2214 - val_acc: 0.9472\n",
      "Epoch 7/50\n",
      "6888/6888 [==============================] - 0s 24us/step - loss: 0.2166 - acc: 0.9469 - val_loss: 0.2099 - val_acc: 0.9472\n",
      "Epoch 8/50\n",
      "6888/6888 [==============================] - 0s 32us/step - loss: 0.2072 - acc: 0.9469 - val_loss: 0.2024 - val_acc: 0.9472\n",
      "Epoch 9/50\n",
      "6888/6888 [==============================] - 0s 23us/step - loss: 0.2008 - acc: 0.9469 - val_loss: 0.1973 - val_acc: 0.9472\n",
      "Epoch 10/50\n",
      "6888/6888 [==============================] - 0s 26us/step - loss: 0.1966 - acc: 0.9469 - val_loss: 0.1938 - val_acc: 0.9472\n",
      "Epoch 11/50\n",
      "6888/6888 [==============================] - 0s 23us/step - loss: 0.1934 - acc: 0.9469 - val_loss: 0.1914 - val_acc: 0.9472\n",
      "Epoch 12/50\n",
      "6888/6888 [==============================] - 0s 44us/step - loss: 0.1910 - acc: 0.9469 - val_loss: 0.1894 - val_acc: 0.9472\n",
      "Epoch 13/50\n",
      "6888/6888 [==============================] - 0s 57us/step - loss: 0.1892 - acc: 0.9469 - val_loss: 0.1878 - val_acc: 0.9472\n",
      "Epoch 14/50\n",
      "6888/6888 [==============================] - 0s 40us/step - loss: 0.1877 - acc: 0.9469 - val_loss: 0.1864 - val_acc: 0.9472\n",
      "Epoch 15/50\n",
      "6888/6888 [==============================] - 0s 42us/step - loss: 0.1864 - acc: 0.9469 - val_loss: 0.1854 - val_acc: 0.9472\n",
      "Epoch 16/50\n",
      "6888/6888 [==============================] - 0s 26us/step - loss: 0.1854 - acc: 0.9469 - val_loss: 0.1843 - val_acc: 0.9472\n",
      "Epoch 17/50\n",
      "6888/6888 [==============================] - 0s 20us/step - loss: 0.1845 - acc: 0.9469 - val_loss: 0.1836 - val_acc: 0.9472\n",
      "Epoch 18/50\n",
      "6888/6888 [==============================] - 0s 13us/step - loss: 0.1836 - acc: 0.9469 - val_loss: 0.1827 - val_acc: 0.9472\n",
      "Epoch 19/50\n",
      "6888/6888 [==============================] - 0s 14us/step - loss: 0.1828 - acc: 0.9469 - val_loss: 0.1820 - val_acc: 0.9472\n",
      "Epoch 20/50\n",
      "6888/6888 [==============================] - 0s 28us/step - loss: 0.1821 - acc: 0.9469 - val_loss: 0.1813 - val_acc: 0.9472\n",
      "Epoch 21/50\n",
      "6888/6888 [==============================] - 0s 36us/step - loss: 0.1815 - acc: 0.9469 - val_loss: 0.1807 - val_acc: 0.9472\n",
      "Epoch 22/50\n",
      "6888/6888 [==============================] - 1s 74us/step - loss: 0.1810 - acc: 0.9469 - val_loss: 0.1802 - val_acc: 0.9472\n",
      "Epoch 23/50\n",
      "6888/6888 [==============================] - 0s 56us/step - loss: 0.1805 - acc: 0.9469 - val_loss: 0.1796 - val_acc: 0.9472\n",
      "Epoch 24/50\n",
      "6888/6888 [==============================] - 0s 31us/step - loss: 0.1800 - acc: 0.9469 - val_loss: 0.1790 - val_acc: 0.9472\n",
      "Epoch 25/50\n",
      "6888/6888 [==============================] - 0s 16us/step - loss: 0.1795 - acc: 0.9469 - val_loss: 0.1785 - val_acc: 0.9472\n",
      "Epoch 26/50\n",
      "6888/6888 [==============================] - 0s 17us/step - loss: 0.1791 - acc: 0.9469 - val_loss: 0.1780 - val_acc: 0.9472\n",
      "Epoch 27/50\n",
      "6888/6888 [==============================] - 0s 17us/step - loss: 0.1788 - acc: 0.9469 - val_loss: 0.1776 - val_acc: 0.9472\n",
      "Epoch 28/50\n",
      "6888/6888 [==============================] - 0s 14us/step - loss: 0.1784 - acc: 0.9469 - val_loss: 0.1773 - val_acc: 0.9472\n",
      "Epoch 29/50\n",
      "6888/6888 [==============================] - 0s 16us/step - loss: 0.1780 - acc: 0.9469 - val_loss: 0.1768 - val_acc: 0.9472\n",
      "Epoch 30/50\n",
      "6888/6888 [==============================] - 0s 28us/step - loss: 0.1777 - acc: 0.9469 - val_loss: 0.1764 - val_acc: 0.9472\n",
      "Epoch 31/50\n",
      "6888/6888 [==============================] - 0s 23us/step - loss: 0.1773 - acc: 0.9469 - val_loss: 0.1760 - val_acc: 0.9472\n",
      "Epoch 32/50\n",
      "6888/6888 [==============================] - 0s 72us/step - loss: 0.1771 - acc: 0.9469 - val_loss: 0.1757 - val_acc: 0.9472\n",
      "Epoch 33/50\n",
      "6888/6888 [==============================] - 0s 44us/step - loss: 0.1768 - acc: 0.9469 - val_loss: 0.1753 - val_acc: 0.9472\n",
      "Epoch 34/50\n",
      "6888/6888 [==============================] - 0s 41us/step - loss: 0.1765 - acc: 0.9469 - val_loss: 0.1749 - val_acc: 0.9472\n",
      "Epoch 35/50\n",
      "6888/6888 [==============================] - 0s 44us/step - loss: 0.1762 - acc: 0.9469 - val_loss: 0.1745 - val_acc: 0.9472\n",
      "Epoch 36/50\n",
      "6888/6888 [==============================] - 0s 36us/step - loss: 0.1760 - acc: 0.9469 - val_loss: 0.1743 - val_acc: 0.9472\n",
      "Epoch 37/50\n",
      "6888/6888 [==============================] - 0s 35us/step - loss: 0.1757 - acc: 0.9469 - val_loss: 0.1739 - val_acc: 0.9472\n",
      "Epoch 38/50\n",
      "6888/6888 [==============================] - 1s 103us/step - loss: 0.1755 - acc: 0.9469 - val_loss: 0.1735 - val_acc: 0.9472\n",
      "Epoch 39/50\n",
      "6888/6888 [==============================] - 0s 39us/step - loss: 0.1752 - acc: 0.9469 - val_loss: 0.1732 - val_acc: 0.9472\n",
      "Epoch 40/50\n",
      "6888/6888 [==============================] - 0s 47us/step - loss: 0.1751 - acc: 0.9469 - val_loss: 0.1729 - val_acc: 0.9472\n",
      "Epoch 41/50\n",
      "6888/6888 [==============================] - 0s 44us/step - loss: 0.1748 - acc: 0.9469 - val_loss: 0.1727 - val_acc: 0.9472\n",
      "Epoch 42/50\n",
      "6888/6888 [==============================] - 0s 41us/step - loss: 0.1746 - acc: 0.9469 - val_loss: 0.1724 - val_acc: 0.9472\n",
      "Epoch 43/50\n",
      "6888/6888 [==============================] - 0s 36us/step - loss: 0.1744 - acc: 0.9469 - val_loss: 0.1722 - val_acc: 0.9472\n",
      "Epoch 44/50\n",
      "6888/6888 [==============================] - 0s 60us/step - loss: 0.1742 - acc: 0.9469 - val_loss: 0.1719 - val_acc: 0.9472\n",
      "Epoch 45/50\n",
      "6888/6888 [==============================] - 0s 66us/step - loss: 0.1741 - acc: 0.9469 - val_loss: 0.1716 - val_acc: 0.9472\n",
      "Epoch 46/50\n",
      "6888/6888 [==============================] - 0s 52us/step - loss: 0.1739 - acc: 0.9469 - val_loss: 0.1712 - val_acc: 0.9472\n",
      "Epoch 47/50\n",
      "6888/6888 [==============================] - 0s 40us/step - loss: 0.1737 - acc: 0.9469 - val_loss: 0.1710 - val_acc: 0.9472\n",
      "Epoch 48/50\n",
      "6888/6888 [==============================] - 0s 72us/step - loss: 0.1734 - acc: 0.9469 - val_loss: 0.1708 - val_acc: 0.9472\n",
      "Epoch 49/50\n",
      "6888/6888 [==============================] - 0s 47us/step - loss: 0.1732 - acc: 0.9469 - val_loss: 0.1706 - val_acc: 0.9472\n",
      "Epoch 50/50\n",
      "6888/6888 [==============================] - 0s 73us/step - loss: 0.1730 - acc: 0.9469 - val_loss: 0.1703 - val_acc: 0.9472\n"
     ]
    }
   ],
   "source": [
    "model = Sequential()\n",
    "input_units = X_train.shape[1]\n",
    "hidden_units = input_units\n",
    "\n",
    "model.add(Dense(hidden_units * 2,\n",
    "                input_dim=input_units,\n",
    "                activation='relu'))\n",
    "model.add(Dense(1, activation='sigmoid'))\n",
    "\n",
    "model.compile(loss='binary_crossentropy',\n",
    "              optimizer='Adam',\n",
    "              metrics=['accuracy'])\n",
    "\n",
    "hist = model.fit(X_train, y_train,\n",
    "                 validation_data=(X_test, y_test),\n",
    "                 epochs=50,\n",
    "                 batch_size=256,\n",
    "                 shuffle=True)"
   ]
  },
  {
   "cell_type": "code",
   "execution_count": 83,
   "metadata": {},
   "outputs": [
    {
     "data": {
      "image/png": "[encoded data removed]",
      "text/plain": [
       "<matplotlib.figure.Figure at 0x7fb7a608d4e0>"
      ]
     },
     "metadata": {},
     "output_type": "display_data"
    },
    {
     "data": {
      "image/png": "[encoded data removed]",
      "text/plain": [
       "<matplotlib.figure.Figure at 0x7fb7a5a9e898>"
      ]
     },
     "metadata": {},
     "output_type": "display_data"
    },
    {
     "data": {
      "text/plain": [
       "0.9471544689833079"
      ]
     },
     "execution_count": 83,
     "metadata": {},
     "output_type": "execute_result"
    }
   ],
   "source": [
    "plt.figure()\n",
    "plt.plot(hist.history['loss'])\n",
    "plt.plot(hist.history['val_loss'])\n",
    "plt.title('model loss')\n",
    "plt.ylabel('loss')\n",
    "plt.xlabel('epoch')\n",
    "plt.legend(['train', 'test'], loc='best') ## I love this loc = 'best' command.\n",
    "plt.show()\n",
    "plt.figure()\n",
    "plt.plot(hist.history['acc'])\n",
    "plt.plot(hist.history['val_acc'])\n",
    "plt.title('model accuracy')\n",
    "plt.ylabel('accuracy')\n",
    "plt.xlabel('epoch')\n",
    "plt.legend(['train', 'test'], loc='best')\n",
    "plt.show()\n",
    "hist.history['val_acc'][-1]"
   ]
  },
  {
   "cell_type": "code",
   "execution_count": 84,
   "metadata": {},
   "outputs": [
    {
     "name": "stdout",
     "output_type": "stream",
     "text": [
      "Train on 6888 samples, validate on 1722 samples\n",
      "Epoch 1/50\n",
      "6888/6888 [==============================] - 1s 151us/step - loss: 0.4015 - acc: 0.9310 - val_loss: 0.3674 - val_acc: 0.9437\n",
      "Epoch 2/50\n",
      "6888/6888 [==============================] - 0s 49us/step - loss: 0.3400 - acc: 0.9458 - val_loss: 0.3135 - val_acc: 0.9472\n",
      "Epoch 3/50\n",
      "6888/6888 [==============================] - 0s 32us/step - loss: 0.2956 - acc: 0.9469 - val_loss: 0.2755 - val_acc: 0.9472\n",
      "Epoch 4/50\n",
      "6888/6888 [==============================] - 0s 29us/step - loss: 0.2643 - acc: 0.9469 - val_loss: 0.2490 - val_acc: 0.9472\n",
      "Epoch 5/50\n",
      "6888/6888 [==============================] - 0s 24us/step - loss: 0.2424 - acc: 0.9469 - val_loss: 0.2305 - val_acc: 0.9472\n",
      "Epoch 6/50\n",
      "6888/6888 [==============================] - 0s 17us/step - loss: 0.2270 - acc: 0.9469 - val_loss: 0.2177 - val_acc: 0.9472\n",
      "Epoch 7/50\n",
      "6888/6888 [==============================] - 0s 13us/step - loss: 0.2163 - acc: 0.9469 - val_loss: 0.2088 - val_acc: 0.9472\n",
      "Epoch 8/50\n",
      "6888/6888 [==============================] - 1s 76us/step - loss: 0.2088 - acc: 0.9469 - val_loss: 0.2023 - val_acc: 0.9472\n",
      "Epoch 9/50\n",
      "6888/6888 [==============================] - 0s 46us/step - loss: 0.2033 - acc: 0.9469 - val_loss: 0.1975 - val_acc: 0.9472\n",
      "Epoch 10/50\n",
      "6888/6888 [==============================] - 0s 35us/step - loss: 0.1991 - acc: 0.9469 - val_loss: 0.1940 - val_acc: 0.9472\n",
      "Epoch 11/50\n",
      "6888/6888 [==============================] - 0s 43us/step - loss: 0.1959 - acc: 0.9469 - val_loss: 0.1912 - val_acc: 0.9472\n",
      "Epoch 12/50\n",
      "6888/6888 [==============================] - 0s 22us/step - loss: 0.1934 - acc: 0.9469 - val_loss: 0.1889 - val_acc: 0.9472\n",
      "Epoch 13/50\n",
      "6888/6888 [==============================] - 0s 59us/step - loss: 0.1912 - acc: 0.9469 - val_loss: 0.1870 - val_acc: 0.9472\n",
      "Epoch 14/50\n",
      "6888/6888 [==============================] - 0s 64us/step - loss: 0.1895 - acc: 0.9469 - val_loss: 0.1854 - val_acc: 0.9472\n",
      "Epoch 15/50\n",
      "6888/6888 [==============================] - 0s 40us/step - loss: 0.1880 - acc: 0.9469 - val_loss: 0.1841 - val_acc: 0.9472\n",
      "Epoch 16/50\n",
      "6888/6888 [==============================] - 0s 42us/step - loss: 0.1868 - acc: 0.9469 - val_loss: 0.1830 - val_acc: 0.9472\n",
      "Epoch 17/50\n",
      "6888/6888 [==============================] - 0s 28us/step - loss: 0.1857 - acc: 0.9469 - val_loss: 0.1820 - val_acc: 0.9472\n",
      "Epoch 18/50\n",
      "6888/6888 [==============================] - 0s 32us/step - loss: 0.1847 - acc: 0.9469 - val_loss: 0.1812 - val_acc: 0.9472\n",
      "Epoch 19/50\n",
      "6888/6888 [==============================] - 0s 56us/step - loss: 0.1839 - acc: 0.9469 - val_loss: 0.1804 - val_acc: 0.9472\n",
      "Epoch 20/50\n",
      "6888/6888 [==============================] - 0s 20us/step - loss: 0.1832 - acc: 0.9469 - val_loss: 0.1797 - val_acc: 0.9472\n",
      "Epoch 21/50\n",
      "6888/6888 [==============================] - 0s 33us/step - loss: 0.1825 - acc: 0.9469 - val_loss: 0.1790 - val_acc: 0.9472\n",
      "Epoch 22/50\n",
      "6888/6888 [==============================] - 0s 26us/step - loss: 0.1818 - acc: 0.9469 - val_loss: 0.1786 - val_acc: 0.9472\n",
      "Epoch 23/50\n",
      "6888/6888 [==============================] - 0s 60us/step - loss: 0.1813 - acc: 0.9469 - val_loss: 0.1781 - val_acc: 0.9472\n",
      "Epoch 24/50\n",
      "6888/6888 [==============================] - 0s 39us/step - loss: 0.1808 - acc: 0.9469 - val_loss: 0.1776 - val_acc: 0.9472\n",
      "Epoch 25/50\n",
      "6888/6888 [==============================] - 0s 32us/step - loss: 0.1803 - acc: 0.9469 - val_loss: 0.1771 - val_acc: 0.9472\n",
      "Epoch 26/50\n",
      "6888/6888 [==============================] - 0s 24us/step - loss: 0.1799 - acc: 0.9469 - val_loss: 0.1768 - val_acc: 0.9472\n",
      "Epoch 27/50\n",
      "6888/6888 [==============================] - 0s 15us/step - loss: 0.1795 - acc: 0.9469 - val_loss: 0.1764 - val_acc: 0.9472\n",
      "Epoch 28/50\n",
      "6888/6888 [==============================] - 0s 18us/step - loss: 0.1792 - acc: 0.9469 - val_loss: 0.1761 - val_acc: 0.9472\n",
      "Epoch 29/50\n",
      "6888/6888 [==============================] - 0s 23us/step - loss: 0.1789 - acc: 0.9469 - val_loss: 0.1758 - val_acc: 0.9472\n",
      "Epoch 30/50\n",
      "6888/6888 [==============================] - 0s 28us/step - loss: 0.1786 - acc: 0.9469 - val_loss: 0.1755 - val_acc: 0.9472\n",
      "Epoch 31/50\n",
      "6888/6888 [==============================] - 0s 16us/step - loss: 0.1783 - acc: 0.9469 - val_loss: 0.1753 - val_acc: 0.9472\n",
      "Epoch 32/50\n",
      "6888/6888 [==============================] - 0s 23us/step - loss: 0.1780 - acc: 0.9469 - val_loss: 0.1749 - val_acc: 0.9472\n",
      "Epoch 33/50\n",
      "6888/6888 [==============================] - 0s 13us/step - loss: 0.1777 - acc: 0.9469 - val_loss: 0.1747 - val_acc: 0.9472\n",
      "Epoch 34/50\n",
      "6888/6888 [==============================] - 0s 43us/step - loss: 0.1775 - acc: 0.9469 - val_loss: 0.1745 - val_acc: 0.9472\n",
      "Epoch 35/50\n",
      "6888/6888 [==============================] - 0s 32us/step - loss: 0.1773 - acc: 0.9469 - val_loss: 0.1742 - val_acc: 0.9472\n",
      "Epoch 36/50\n",
      "6888/6888 [==============================] - 0s 41us/step - loss: 0.1770 - acc: 0.9469 - val_loss: 0.1741 - val_acc: 0.9472\n",
      "Epoch 37/50\n",
      "6888/6888 [==============================] - 0s 31us/step - loss: 0.1768 - acc: 0.9469 - val_loss: 0.1739 - val_acc: 0.9472\n",
      "Epoch 38/50\n",
      "6888/6888 [==============================] - 0s 16us/step - loss: 0.1766 - acc: 0.9469 - val_loss: 0.1738 - val_acc: 0.9472\n",
      "Epoch 39/50\n",
      "6888/6888 [==============================] - 0s 42us/step - loss: 0.1765 - acc: 0.9469 - val_loss: 0.1737 - val_acc: 0.9472\n",
      "Epoch 40/50\n",
      "6888/6888 [==============================] - 0s 41us/step - loss: 0.1763 - acc: 0.9469 - val_loss: 0.1735 - val_acc: 0.9472\n",
      "Epoch 41/50\n",
      "6888/6888 [==============================] - 1s 100us/step - loss: 0.1761 - acc: 0.9469 - val_loss: 0.1734 - val_acc: 0.9472\n",
      "Epoch 42/50\n",
      "6888/6888 [==============================] - 0s 43us/step - loss: 0.1760 - acc: 0.9469 - val_loss: 0.1732 - val_acc: 0.9472\n",
      "Epoch 43/50\n",
      "6888/6888 [==============================] - 0s 44us/step - loss: 0.1758 - acc: 0.9469 - val_loss: 0.1730 - val_acc: 0.9472\n",
      "Epoch 44/50\n",
      "6888/6888 [==============================] - 0s 38us/step - loss: 0.1757 - acc: 0.9469 - val_loss: 0.1728 - val_acc: 0.9472\n",
      "Epoch 45/50\n",
      "6888/6888 [==============================] - 0s 14us/step - loss: 0.1755 - acc: 0.9469 - val_loss: 0.1729 - val_acc: 0.9472\n",
      "Epoch 46/50\n",
      "6888/6888 [==============================] - 0s 24us/step - loss: 0.1754 - acc: 0.9469 - val_loss: 0.1727 - val_acc: 0.9472\n",
      "Epoch 47/50\n",
      "6888/6888 [==============================] - 0s 28us/step - loss: 0.1753 - acc: 0.9469 - val_loss: 0.1724 - val_acc: 0.9472\n",
      "Epoch 48/50\n",
      "6888/6888 [==============================] - 0s 34us/step - loss: 0.1751 - acc: 0.9469 - val_loss: 0.1724 - val_acc: 0.9472\n",
      "Epoch 49/50\n",
      "6888/6888 [==============================] - 0s 32us/step - loss: 0.1750 - acc: 0.9469 - val_loss: 0.1723 - val_acc: 0.9472\n",
      "Epoch 50/50\n",
      "6888/6888 [==============================] - 1s 77us/step - loss: 0.1749 - acc: 0.9469 - val_loss: 0.1721 - val_acc: 0.9472\n"
     ]
    }
   ],
   "source": [
    "model = Sequential()\n",
    "input_units = X_train.shape[1]\n",
    "hidden_units = input_units\n",
    "\n",
    "model.add(Dense(hidden_units,\n",
    "                input_dim=input_units,\n",
    "                activation='relu'))\n",
    "model.add(Dense(1, activation='sigmoid'))\n",
    "\n",
    "model.compile(loss='binary_crossentropy',\n",
    "              optimizer='Adam',\n",
    "              metrics=['accuracy'])\n",
    "\n",
    "hist = model.fit(X_train, y_train,\n",
    "                 validation_data=(X_test, y_test),\n",
    "                 epochs=50,\n",
    "                 batch_size=256,\n",
    "                 shuffle=True)"
   ]
  },
  {
   "cell_type": "code",
   "execution_count": 85,
   "metadata": {},
   "outputs": [
    {
     "data": {
      "image/png": "[encoded data removed]",
      "text/plain": [
       "<matplotlib.figure.Figure at 0x7fb7a55ad860>"
      ]
     },
     "metadata": {},
     "output_type": "display_data"
    },
    {
     "data": {
      "image/png": "[encoded data removed]",
      "text/plain": [
       "<matplotlib.figure.Figure at 0x7fb7a5622eb8>"
      ]
     },
     "metadata": {},
     "output_type": "display_data"
    },
    {
     "data": {
      "text/plain": [
       "0.9471544689833079"
      ]
     },
     "execution_count": 85,
     "metadata": {},
     "output_type": "execute_result"
    }
   ],
   "source": [
    "plt.figure()\n",
    "plt.plot(hist.history['loss'])\n",
    "plt.plot(hist.history['val_loss'])\n",
    "plt.title('model loss')\n",
    "plt.ylabel('loss')\n",
    "plt.xlabel('epoch')\n",
    "plt.legend(['train', 'test'], loc='best') ## I love this loc = 'best' command.\n",
    "plt.show()\n",
    "plt.figure()\n",
    "plt.plot(hist.history['acc'])\n",
    "plt.plot(hist.history['val_acc'])\n",
    "plt.title('model accuracy')\n",
    "plt.ylabel('accuracy')\n",
    "plt.xlabel('epoch')\n",
    "plt.legend(['train', 'test'], loc='best')\n",
    "plt.show()\n",
    "hist.history['val_acc'][-1]"
   ]
  },
  {
   "cell_type": "code",
   "execution_count": 89,
   "metadata": {},
   "outputs": [
    {
     "name": "stdout",
     "output_type": "stream",
     "text": [
      "Train on 6888 samples, validate on 1722 samples\n",
      "Epoch 1/50\n",
      "6888/6888 [==============================] - 1s 179us/step - loss: 0.6526 - acc: 0.9469 - val_loss: 0.6103 - val_acc: 0.9472\n",
      "Epoch 2/50\n",
      "6888/6888 [==============================] - 0s 68us/step - loss: 0.5682 - acc: 0.9469 - val_loss: 0.5206 - val_acc: 0.9472\n",
      "Epoch 3/50\n",
      "6888/6888 [==============================] - 0s 67us/step - loss: 0.4776 - acc: 0.9469 - val_loss: 0.4331 - val_acc: 0.9472\n",
      "Epoch 4/50\n",
      "6888/6888 [==============================] - 0s 36us/step - loss: 0.3963 - acc: 0.9469 - val_loss: 0.3606 - val_acc: 0.9472\n",
      "Epoch 5/50\n",
      "6888/6888 [==============================] - 1s 78us/step - loss: 0.3337 - acc: 0.9469 - val_loss: 0.3077 - val_acc: 0.9472\n",
      "Epoch 6/50\n",
      "6888/6888 [==============================] - 0s 43us/step - loss: 0.2896 - acc: 0.9469 - val_loss: 0.2723 - val_acc: 0.9472\n",
      "Epoch 7/50\n",
      "6888/6888 [==============================] - 0s 31us/step - loss: 0.2604 - acc: 0.9469 - val_loss: 0.2488 - val_acc: 0.9472\n",
      "Epoch 8/50\n",
      "6888/6888 [==============================] - 0s 47us/step - loss: 0.2413 - acc: 0.9469 - val_loss: 0.2335 - val_acc: 0.9472\n",
      "Epoch 9/50\n",
      "6888/6888 [==============================] - 0s 26us/step - loss: 0.2288 - acc: 0.9469 - val_loss: 0.2237 - val_acc: 0.9472\n",
      "Epoch 10/50\n",
      "6888/6888 [==============================] - 0s 17us/step - loss: 0.2206 - acc: 0.9469 - val_loss: 0.2174 - val_acc: 0.9472\n",
      "Epoch 11/50\n",
      "6888/6888 [==============================] - 0s 34us/step - loss: 0.2154 - acc: 0.9469 - val_loss: 0.2131 - val_acc: 0.9472\n",
      "Epoch 12/50\n",
      "6888/6888 [==============================] - 0s 26us/step - loss: 0.2119 - acc: 0.9469 - val_loss: 0.2102 - val_acc: 0.9472\n",
      "Epoch 13/50\n",
      "6888/6888 [==============================] - 0s 20us/step - loss: 0.2094 - acc: 0.9469 - val_loss: 0.2082 - val_acc: 0.9472\n",
      "Epoch 14/50\n",
      "6888/6888 [==============================] - 1s 75us/step - loss: 0.2075 - acc: 0.9469 - val_loss: 0.2065 - val_acc: 0.9472\n",
      "Epoch 15/50\n",
      "6888/6888 [==============================] - 0s 58us/step - loss: 0.2057 - acc: 0.9469 - val_loss: 0.2048 - val_acc: 0.9472\n",
      "Epoch 16/50\n",
      "6888/6888 [==============================] - 0s 65us/step - loss: 0.2035 - acc: 0.9469 - val_loss: 0.2024 - val_acc: 0.9472\n",
      "Epoch 17/50\n",
      "6888/6888 [==============================] - 0s 56us/step - loss: 0.2005 - acc: 0.9469 - val_loss: 0.1987 - val_acc: 0.9472\n",
      "Epoch 18/50\n",
      "6888/6888 [==============================] - 0s 44us/step - loss: 0.1973 - acc: 0.9469 - val_loss: 0.1955 - val_acc: 0.9472\n",
      "Epoch 19/50\n",
      "6888/6888 [==============================] - 0s 30us/step - loss: 0.1945 - acc: 0.9469 - val_loss: 0.1937 - val_acc: 0.9472\n",
      "Epoch 20/50\n",
      "6888/6888 [==============================] - 1s 86us/step - loss: 0.1926 - acc: 0.9469 - val_loss: 0.1922 - val_acc: 0.9472\n",
      "Epoch 21/50\n",
      "6888/6888 [==============================] - 0s 49us/step - loss: 0.1909 - acc: 0.9469 - val_loss: 0.1911 - val_acc: 0.9472\n",
      "Epoch 22/50\n",
      "6888/6888 [==============================] - 0s 38us/step - loss: 0.1895 - acc: 0.9469 - val_loss: 0.1899 - val_acc: 0.9472\n",
      "Epoch 23/50\n",
      "6888/6888 [==============================] - 0s 40us/step - loss: 0.1881 - acc: 0.9469 - val_loss: 0.1889 - val_acc: 0.9472\n",
      "Epoch 24/50\n",
      "6888/6888 [==============================] - 0s 42us/step - loss: 0.1870 - acc: 0.9469 - val_loss: 0.1878 - val_acc: 0.9472\n",
      "Epoch 25/50\n",
      "6888/6888 [==============================] - 0s 40us/step - loss: 0.1858 - acc: 0.9469 - val_loss: 0.1867 - val_acc: 0.9472\n",
      "Epoch 26/50\n",
      "6888/6888 [==============================] - 0s 65us/step - loss: 0.1847 - acc: 0.9469 - val_loss: 0.1860 - val_acc: 0.9472\n",
      "Epoch 27/50\n",
      "6888/6888 [==============================] - 0s 36us/step - loss: 0.1837 - acc: 0.9469 - val_loss: 0.1850 - val_acc: 0.9472\n",
      "Epoch 28/50\n",
      "6888/6888 [==============================] - 0s 36us/step - loss: 0.1828 - acc: 0.9469 - val_loss: 0.1841 - val_acc: 0.9472\n",
      "Epoch 29/50\n",
      "6888/6888 [==============================] - 0s 25us/step - loss: 0.1819 - acc: 0.9469 - val_loss: 0.1832 - val_acc: 0.9472\n",
      "Epoch 30/50\n",
      "6888/6888 [==============================] - 0s 21us/step - loss: 0.1811 - acc: 0.9469 - val_loss: 0.1824 - val_acc: 0.9472\n",
      "Epoch 31/50\n",
      "6888/6888 [==============================] - 0s 50us/step - loss: 0.1804 - acc: 0.9469 - val_loss: 0.1815 - val_acc: 0.9472\n",
      "Epoch 32/50\n",
      "6888/6888 [==============================] - 1s 76us/step - loss: 0.1797 - acc: 0.9469 - val_loss: 0.1808 - val_acc: 0.9472\n",
      "Epoch 33/50\n",
      "6888/6888 [==============================] - 0s 68us/step - loss: 0.1791 - acc: 0.9469 - val_loss: 0.1798 - val_acc: 0.9472\n",
      "Epoch 34/50\n",
      "6888/6888 [==============================] - 0s 53us/step - loss: 0.1785 - acc: 0.9469 - val_loss: 0.1791 - val_acc: 0.9472\n",
      "Epoch 35/50\n",
      "6888/6888 [==============================] - 0s 60us/step - loss: 0.1782 - acc: 0.9469 - val_loss: 0.1786 - val_acc: 0.9472\n",
      "Epoch 36/50\n",
      "6888/6888 [==============================] - 0s 50us/step - loss: 0.1776 - acc: 0.9469 - val_loss: 0.1778 - val_acc: 0.9472\n",
      "Epoch 37/50\n",
      "6888/6888 [==============================] - 0s 52us/step - loss: 0.1771 - acc: 0.9469 - val_loss: 0.1773 - val_acc: 0.9472\n",
      "Epoch 38/50\n",
      "6888/6888 [==============================] - 1s 74us/step - loss: 0.1768 - acc: 0.9469 - val_loss: 0.1768 - val_acc: 0.9472\n",
      "Epoch 39/50\n",
      "6888/6888 [==============================] - 0s 37us/step - loss: 0.1764 - acc: 0.9469 - val_loss: 0.1761 - val_acc: 0.9472\n",
      "Epoch 40/50\n",
      "6888/6888 [==============================] - 0s 46us/step - loss: 0.1761 - acc: 0.9469 - val_loss: 0.1757 - val_acc: 0.9472\n",
      "Epoch 41/50\n",
      "6888/6888 [==============================] - 0s 42us/step - loss: 0.1758 - acc: 0.9469 - val_loss: 0.1753 - val_acc: 0.9472\n",
      "Epoch 42/50\n",
      "6888/6888 [==============================] - 1s 74us/step - loss: 0.1755 - acc: 0.9469 - val_loss: 0.1747 - val_acc: 0.9472\n",
      "Epoch 43/50\n",
      "6888/6888 [==============================] - 0s 53us/step - loss: 0.1753 - acc: 0.9469 - val_loss: 0.1744 - val_acc: 0.9472\n",
      "Epoch 44/50\n",
      "6888/6888 [==============================] - 1s 93us/step - loss: 0.1750 - acc: 0.9469 - val_loss: 0.1740 - val_acc: 0.9472\n",
      "Epoch 45/50\n",
      "6888/6888 [==============================] - 0s 39us/step - loss: 0.1748 - acc: 0.9469 - val_loss: 0.1737 - val_acc: 0.9472\n",
      "Epoch 46/50\n",
      "6888/6888 [==============================] - 0s 71us/step - loss: 0.1745 - acc: 0.9469 - val_loss: 0.1733 - val_acc: 0.9472\n",
      "Epoch 47/50\n",
      "6888/6888 [==============================] - 0s 69us/step - loss: 0.1743 - acc: 0.9469 - val_loss: 0.1729 - val_acc: 0.9472\n",
      "Epoch 48/50\n",
      "6888/6888 [==============================] - 0s 49us/step - loss: 0.1741 - acc: 0.9469 - val_loss: 0.1726 - val_acc: 0.9472\n",
      "Epoch 49/50\n",
      "6888/6888 [==============================] - 1s 97us/step - loss: 0.1739 - acc: 0.9469 - val_loss: 0.1724 - val_acc: 0.9472\n",
      "Epoch 50/50\n",
      "6888/6888 [==============================] - 0s 70us/step - loss: 0.1737 - acc: 0.9469 - val_loss: 0.1720 - val_acc: 0.9472\n"
     ]
    }
   ],
   "source": [
    "model = Sequential()\n",
    "input_units = X_train.shape[1]\n",
    "hidden_units = input_units\n",
    "\n",
    "model.add(Dense(hidden_units*2,\n",
    "                input_dim=input_units,\n",
    "                activation='relu'))\n",
    "model.add(Dense(1, activation='sigmoid'))\n",
    "\n",
    "model.add(Dense(hidden_units*2,\n",
    "                input_dim=input_units,\n",
    "                activation='relu'))\n",
    "model.add(Dense(1, activation='sigmoid'))\n",
    "\n",
    "\n",
    "model.compile(loss='binary_crossentropy',\n",
    "              optimizer='Adam',\n",
    "              metrics=['accuracy'])\n",
    "\n",
    "hist = model.fit(X_train, y_train,\n",
    "                 validation_data=(X_test, y_test),\n",
    "                 epochs=50,\n",
    "                 batch_size=256,\n",
    "                 shuffle=True)"
   ]
  },
  {
   "cell_type": "code",
   "execution_count": 93,
   "metadata": {},
   "outputs": [
    {
     "data": {
      "image/png": "[encoded data removed]",
      "text/plain": [
       "<matplotlib.figure.Figure at 0x7fb7a4ba5978>"
      ]
     },
     "metadata": {},
     "output_type": "display_data"
    },
    {
     "data": {
      "image/png": "[encoded data removed]",
      "text/plain": [
       "<matplotlib.figure.Figure at 0x7fb7a4b25160>"
      ]
     },
     "metadata": {},
     "output_type": "display_data"
    },
    {
     "name": "stdout",
     "output_type": "stream",
     "text": [
      "0.9471544689833079\n",
      "0.9468641115674851\n"
     ]
    }
   ],
   "source": [
    "plt.figure()\n",
    "plt.plot(hist.history['loss'])\n",
    "plt.plot(hist.history['val_loss'])\n",
    "plt.title('model loss')\n",
    "plt.ylabel('loss')\n",
    "plt.xlabel('epoch')\n",
    "plt.legend(['train', 'test'], loc='best') ## I love this loc = 'best' command.\n",
    "plt.show()\n",
    "\n",
    "plt.figure()\n",
    "plt.plot(hist.history['acc'])\n",
    "plt.plot(hist.history['val_acc'])\n",
    "plt.title('model accuracy')\n",
    "plt.ylabel('accuracy')\n",
    "plt.xlabel('epoch')\n",
    "plt.legend(['train', 'test'], loc='best')\n",
    "plt.show()\n",
    "print(hist.history['val_acc'][-1])\n",
    "print(hist.history['acc'][-1])"
   ]
  },
  {
   "cell_type": "markdown",
   "metadata": {},
   "source": [
    "### Baseline"
   ]
  },
  {
   "cell_type": "code",
   "execution_count": 94,
   "metadata": {},
   "outputs": [
    {
     "data": {
      "text/plain": [
       "0.9471544715447154"
      ]
     },
     "execution_count": 94,
     "metadata": {},
     "output_type": "execute_result"
    }
   ],
   "source": [
    "1- y_test.mean()"
   ]
  },
  {
   "cell_type": "code",
   "execution_count": 95,
   "metadata": {},
   "outputs": [
    {
     "data": {
      "text/plain": [
       "0.9468641114982579"
      ]
     },
     "execution_count": 95,
     "metadata": {},
     "output_type": "execute_result"
    }
   ],
   "source": [
    "1 - y_train.mean()"
   ]
  },
  {
   "cell_type": "code",
   "execution_count": null,
   "metadata": {},
   "outputs": [],
   "source": []
  }
 ],
 "metadata": {
  "kernelspec": {
   "display_name": "Python 3",
   "language": "python",
   "name": "python3"
  },
  "language_info": {
   "codemirror_mode": {
    "name": "ipython",
    "version": 3
   },
   "file_extension": ".py",
   "mimetype": "text/x-python",
   "name": "python",
   "nbconvert_exporter": "python",
   "pygments_lexer": "ipython3",
   "version": "3.6.4"
  }
 },
 "nbformat": 4,
 "nbformat_minor": 2
}
