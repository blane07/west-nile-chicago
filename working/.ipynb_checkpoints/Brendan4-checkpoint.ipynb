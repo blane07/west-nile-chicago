{
 "cells": [
  {
   "cell_type": "markdown",
   "metadata": {},
   "source": [
    "*Original code: Beating the Benchmark from West Nile Virus Prediction @ Kaggle by Abhihsek. Modified by Brendan Lane*"
   ]
  },
  {
   "cell_type": "code",
   "execution_count": 1,
   "metadata": {},
   "outputs": [
    {
     "name": "stderr",
     "output_type": "stream",
     "text": [
      "/home/raven/anaconda3/lib/python3.6/site-packages/h5py/__init__.py:36: FutureWarning: Conversion of the second argument of issubdtype from `float` to `np.floating` is deprecated. In future, it will be treated as `np.float64 == np.dtype(float).type`.\n",
      "  from ._conv import register_converters as _register_converters\n",
      "Using TensorFlow backend.\n"
     ]
    }
   ],
   "source": [
    "import numpy as np\n",
    "import pandas as pd\n",
    "from sklearn.ensemble import RandomForestClassifier, AdaBoostClassifier, GradientBoostingClassifier\n",
    "from sklearn.preprocessing import StandardScaler, LabelEncoder\n",
    "from sklearn.model_selection import cross_val_score, train_test_split\n",
    "from sklearn.metrics import confusion_matrix, classification_report\n",
    "from sklearn.svm import SVC\n",
    "import matplotlib.pyplot as plt\n",
    "from keras.models import Sequential\n",
    "from keras.layers.core import Dense, Dropout, Activation, Flatten\n",
    "from keras.layers import Convolution1D, MaxPooling1D\n",
    "from keras import regularizers\n",
    "from keras.layers.normalization import BatchNormalization\n",
    "from keras.layers.advanced_activations import *\n",
    "from keras.optimizers import Adam\n",
    "from keras.initializers import *\n",
    "\n",
    "%matplotlib inline"
   ]
  },
  {
   "cell_type": "code",
   "execution_count": 2,
   "metadata": {},
   "outputs": [],
   "source": [
    "# Load dataset \n",
    "train = pd.read_csv('../assets/train.csv')\n",
    "test = pd.read_csv('../assets/test.csv')\n",
    "sample = pd.read_csv('../assets/sampleSubmission.csv')\n",
    "weather = pd.read_csv('../assets/weather.csv')"
   ]
  },
  {
   "cell_type": "code",
   "execution_count": 3,
   "metadata": {},
   "outputs": [],
   "source": [
    "# Not using codesum for this benchmark\n",
    "weather.drop('CodeSum', axis='columns', inplace=True)"
   ]
  },
  {
   "cell_type": "code",
   "execution_count": 4,
   "metadata": {},
   "outputs": [],
   "source": [
    "# Split station 1 and 2 and join horizontally\n",
    "weather_stn1 = weather[weather['Station']==1]\n",
    "weather_stn2 = weather[weather['Station']==2]\n",
    "weather_stn1 = weather_stn1.drop('Station', axis=1)\n",
    "weather_stn2 = weather_stn2.drop('Station', axis=1)\n",
    "weather = weather_stn1.merge(weather_stn2, on='Date')"
   ]
  },
  {
   "cell_type": "code",
   "execution_count": 5,
   "metadata": {},
   "outputs": [],
   "source": [
    "# replace some missing values and T with -1\n",
    "weather = weather.replace('M', -1)\n",
    "weather = weather.replace('-', -1)\n",
    "weather = weather.replace('T', -1)\n",
    "weather = weather.replace(' T', -1)\n",
    "weather = weather.replace('  T', -1)"
   ]
  },
  {
   "cell_type": "code",
   "execution_count": 6,
   "metadata": {},
   "outputs": [],
   "source": [
    "# Functions to extract month and day from dataset\n",
    "# You can also use parse_dates of Pandas.\n",
    "def create_year(x):\n",
    "    return x.split('-')[0]\n",
    "def create_month(x):\n",
    "    return x.split('-')[1]\n",
    "def create_day(x):\n",
    "    return x.split('-')[2]\n",
    "\n",
    "train['month'] = train.Date.apply(create_month)\n",
    "train['day'] = train.Date.apply(create_day)\n",
    "train['year'] = train.Date.apply(create_year)\n",
    "\n",
    "test['month'] = test.Date.apply(create_month)\n",
    "test['day'] = test.Date.apply(create_day)\n",
    "test['year'] = test.Date.apply(create_year)"
   ]
  },
  {
   "cell_type": "code",
   "execution_count": 7,
   "metadata": {},
   "outputs": [],
   "source": [
    "# drop address columns\n",
    "train = train.drop(['Address', 'AddressNumberAndStreet'], axis = 1)\n",
    "test = test.drop(['Id', 'Address', 'AddressNumberAndStreet'], axis = 1)"
   ]
  },
  {
   "cell_type": "code",
   "execution_count": 8,
   "metadata": {},
   "outputs": [],
   "source": [
    "# Merge with weather data\n",
    "train = train.merge(weather, on='Date')\n",
    "test = test.merge(weather, on='Date')\n",
    "train = train.drop(['Date'], axis = 1)\n",
    "test = test.drop(['Date'], axis = 1)"
   ]
  },
  {
   "cell_type": "code",
   "execution_count": 9,
   "metadata": {},
   "outputs": [],
   "source": [
    "# Convert categorical data to numbers\n",
    "lbl = LabelEncoder()\n",
    "lbl.fit(list(train['Species'].values) + list(test['Species'].values))\n",
    "train['Species'] = lbl.transform(train['Species'].values)\n",
    "test['Species'] = lbl.transform(test['Species'].values)\n",
    "\n",
    "lbl.fit(list(train['Street'].values) + list(test['Street'].values))\n",
    "train['Street'] = lbl.transform(train['Street'].values)\n",
    "test['Street'] = lbl.transform(test['Street'].values)\n",
    "\n",
    "lbl.fit(list(train['Trap'].values) + list(test['Trap'].values))\n",
    "train['Trap'] = lbl.transform(train['Trap'].values)\n",
    "test['Trap'] = lbl.transform(test['Trap'].values)"
   ]
  },
  {
   "cell_type": "code",
   "execution_count": 10,
   "metadata": {},
   "outputs": [],
   "source": [
    "# drop columns with -1s\n",
    "train = train.loc[:,(train != -1).any(axis=0)]\n",
    "test = test.loc[:,(test != -1).any(axis=0)]"
   ]
  },
  {
   "cell_type": "code",
   "execution_count": 11,
   "metadata": {},
   "outputs": [],
   "source": [
    "# covert all data types to floats\n",
    "train = train.astype(float)\n",
    "test = test.astype(float)"
   ]
  },
  {
   "cell_type": "code",
   "execution_count": 12,
   "metadata": {},
   "outputs": [],
   "source": [
    "## feature engineering\n",
    "# Temperature difference\n",
    "train['temp_delta_x'] = train.Tmax_x - train.Tmin_x\n",
    "train['temp_delta_y'] = train.Tmax_y - train.Tmin_y\n",
    "train['temp_delta_x'] = train.Tmax_x - train.Tmin_x\n",
    "train['temp_delta_y'] = train.Tmax_y - train.Tmin_y\n",
    "test['temp_delta_x'] = test.Tmax_x - test.Tmin_x\n",
    "test['temp_delta_y'] = test.Tmax_y - test.Tmin_y\n",
    "test['temp_delta_x'] = test.Tmax_x - test.Tmin_x\n",
    "test['temp_delta_y'] = test.Tmax_y - test.Tmin_y"
   ]
  },
  {
   "cell_type": "code",
   "execution_count": 13,
   "metadata": {},
   "outputs": [],
   "source": [
    "# Is raining?\n",
    "train['israining_x'] = (train.PrecipTotal_x > 0).astype(int)\n",
    "train['israining_y'] = (train.PrecipTotal_y > 0).astype(int)\n",
    "test['israining_x'] = (test.PrecipTotal_x > 0).astype(int)\n",
    "test['israining_y'] = (test.PrecipTotal_y > 0).astype(int)"
   ]
  },
  {
   "cell_type": "code",
   "execution_count": 14,
   "metadata": {},
   "outputs": [],
   "source": [
    "# Length of sunlight\n",
    "train['sunlight'] = train.Sunset_x - train.Sunrise_x\n",
    "test['sunlight'] = test.Sunset_x - test.Sunrise_x"
   ]
  },
  {
   "cell_type": "code",
   "execution_count": 15,
   "metadata": {},
   "outputs": [],
   "source": [
    "# Replace outliers with median value\n",
    "train.WetBulb_x = train.WetBulb_x.apply(lambda x: train.WetBulb_x.median() if x < 0 else x)\n",
    "test.WetBulb_x = test.WetBulb_x.apply(lambda x: test.WetBulb_x.median() if x < 0 else x)\n",
    "\n",
    "train.StnPressure_x = train.StnPressure_x.apply(lambda x: train.StnPressure_x.median() if x < 0 else x)\n",
    "test.StnPressure_x = test.StnPressure_x.apply(lambda x: test.StnPressure_x.median() if x < 0 else x)"
   ]
  },
  {
   "cell_type": "code",
   "execution_count": 16,
   "metadata": {},
   "outputs": [],
   "source": [
    "# Relative humidity approximation\n",
    "train['RH'] = 100 - (25 / 9) * (train.Tavg_x - train.DewPoint_x)\n",
    "test['RH'] = 100 - (25 / 9) * (test.Tavg_x - test.DewPoint_x)"
   ]
  },
  {
   "cell_type": "code",
   "execution_count": 17,
   "metadata": {},
   "outputs": [],
   "source": [
    "# Is heat wave?\n",
    "train['isheat'] = (train.Heat_x > 0).astype(float)\n",
    "test['isheat'] = (test.Heat_x > 0).astype(float)"
   ]
  },
  {
   "cell_type": "code",
   "execution_count": 18,
   "metadata": {},
   "outputs": [],
   "source": [
    "# Vectorize resultant wind into north and east components\n",
    "wind_dir_north_x = train.ResultDir_x.apply(lambda x: np.sin(np.deg2rad(x)))\n",
    "wind_dir_east_x = train.ResultDir_x.apply(lambda x: np.cos(np.deg2rad(x)))\n",
    "train['wind_north_x'] = wind_dir_north_x * train.ResultSpeed_x\n",
    "train['wind_east_x'] = wind_dir_east_x * train.ResultSpeed_x\n",
    "\n",
    "wind_dir_north_y = train.ResultDir_y.apply(lambda x: np.sin(np.deg2rad(x)))\n",
    "wind_dir_east_y = train.ResultDir_y.apply(lambda x: np.cos(np.deg2rad(x)))\n",
    "train['wind_north_y'] = wind_dir_north_y * train.ResultSpeed_y\n",
    "train['wind_east_y'] = wind_dir_east_y * train.ResultSpeed_y\n",
    "\n",
    "wind_dir_north_x = test.ResultDir_x.apply(lambda x: np.sin(np.deg2rad(x)))\n",
    "wind_dir_east_x = test.ResultDir_x.apply(lambda x: np.cos(np.deg2rad(x)))\n",
    "test['wind_north_x'] = wind_dir_north_x * test.ResultSpeed_x\n",
    "test['wind_east_x'] = wind_dir_east_x * test.ResultSpeed_x\n",
    "\n",
    "wind_dir_north_y = test.ResultDir_y.apply(lambda x: np.sin(np.deg2rad(x)))\n",
    "wind_dir_east_y = test.ResultDir_y.apply(lambda x: np.cos(np.deg2rad(x)))\n",
    "test['wind_north_y'] = wind_dir_north_y * test.ResultSpeed_y\n",
    "test['wind_east_y'] = wind_dir_east_y * test.ResultSpeed_y"
   ]
  },
  {
   "cell_type": "code",
   "execution_count": 19,
   "metadata": {},
   "outputs": [],
   "source": [
    "# Vectorize average wind into north and east components\n",
    "train['avg_wind_north_x'] = wind_dir_north_x * train.AvgSpeed_x\n",
    "train['avg_wind_east_x'] = wind_dir_east_x * train.AvgSpeed_x\n",
    "\n",
    "train['avg_wind_north_y'] = wind_dir_north_y * train.AvgSpeed_y\n",
    "train['avg_wind_east_y'] = wind_dir_east_y * train.AvgSpeed_y\n",
    "\n",
    "test['avg_wind_north_x'] = wind_dir_north_x * test.AvgSpeed_x\n",
    "test['avg_wind_east_x'] = wind_dir_east_x * test.AvgSpeed_x\n",
    "\n",
    "test['avg_wind_north_y'] = wind_dir_north_y * test.AvgSpeed_y\n",
    "test['avg_wind_east_y'] = wind_dir_east_y * test.AvgSpeed_y"
   ]
  },
  {
   "cell_type": "code",
   "execution_count": 20,
   "metadata": {},
   "outputs": [],
   "source": [
    "train = pd.concat([train.reset_index(), (pd.get_dummies(train.year)).reset_index(), (pd.get_dummies(train.month)).reset_index(), (pd.get_dummies(train.Species)).reset_index()], axis='columns')\n",
    "test = pd.concat([test.reset_index(), (pd.get_dummies(test.year)).reset_index(), (pd.get_dummies(test.month)).reset_index(), (pd.get_dummies(test.Species)).reset_index()], axis='columns')"
   ]
  },
  {
   "cell_type": "code",
   "execution_count": 21,
   "metadata": {},
   "outputs": [],
   "source": [
    "drop_list = ['PrecipTotal_x', 'PrecipTotal_y', 'Sunrise_x', 'Sunset_x',\n",
    "             'Heat_x', 'Depth_x', 'SnowFall_x', 'ResultDir_x', 'ResultSpeed_x',\n",
    "             'ResultDir_y', 'ResultSpeed_y', 'AvgSpeed_x', 'AvgSpeed_y', 'year',\n",
    "             'month', 'Species']\n",
    "\n",
    "train.drop(drop_list, axis='columns', inplace=True)\n",
    "test.drop(drop_list, axis='columns', inplace=True)"
   ]
  },
  {
   "cell_type": "code",
   "execution_count": 22,
   "metadata": {},
   "outputs": [],
   "source": [
    "# Set dependent (y) and indepedent (X) variables\n",
    "y = train.WnvPresent\n",
    "X = train.drop('WnvPresent', axis='columns')"
   ]
  },
  {
   "cell_type": "code",
   "execution_count": 23,
   "metadata": {},
   "outputs": [
    {
     "data": {
      "text/plain": [
       "0.9475537787930707"
      ]
     },
     "execution_count": 23,
     "metadata": {},
     "output_type": "execute_result"
    }
   ],
   "source": [
    "# Baseline accuracy\n",
    "1 - y.mean()"
   ]
  },
  {
   "cell_type": "code",
   "execution_count": 24,
   "metadata": {},
   "outputs": [],
   "source": [
    "# Scale X for modeling\n",
    "scaler = StandardScaler()\n",
    "X = pd.DataFrame(scaler.fit_transform(X), columns=X.columns)"
   ]
  },
  {
   "cell_type": "code",
   "execution_count": 25,
   "metadata": {},
   "outputs": [],
   "source": [
    "# Train/test split for validation\n",
    "X_train, X_test, y_train, y_test = train_test_split(X, y, test_size=0.2, random_state=42, stratify=y)"
   ]
  },
  {
   "cell_type": "code",
   "execution_count": 26,
   "metadata": {},
   "outputs": [
    {
     "data": {
      "text/plain": [
       "0.9475250626167533"
      ]
     },
     "execution_count": 26,
     "metadata": {},
     "output_type": "execute_result"
    }
   ],
   "source": [
    "# Random forest\n",
    "cross_val_score(RandomForestClassifier(max_depth=4, max_features=5), X_train, y_train,\n",
    "                cv=5, n_jobs=-1, verbose=0).mean()"
   ]
  },
  {
   "cell_type": "markdown",
   "metadata": {},
   "source": [
    "*Doesn't break baseline. What is happening?*"
   ]
  },
  {
   "cell_type": "code",
   "execution_count": 27,
   "metadata": {},
   "outputs": [
    {
     "data": {
      "text/plain": [
       "array([[1992,    0],\n",
       "       [ 110,    0]])"
      ]
     },
     "execution_count": 27,
     "metadata": {},
     "output_type": "execute_result"
    }
   ],
   "source": [
    "# Confustion matrix\n",
    "clf = RandomForestClassifier(max_depth=4, max_features=5)\n",
    "clf.fit(X_train, y_train)\n",
    "confusion_matrix(y_test, clf.predict(X_test))"
   ]
  },
  {
   "cell_type": "markdown",
   "metadata": {},
   "source": [
    "*The model is maximizing accuracy by predicting \"No\" everytime. This is the result of have unbalanced classes.*"
   ]
  },
  {
   "cell_type": "code",
   "execution_count": 28,
   "metadata": {},
   "outputs": [],
   "source": [
    "# Dataframe of positive West Nile results\n",
    "pos_train = train[train.WnvPresent == 1]"
   ]
  },
  {
   "cell_type": "code",
   "execution_count": 29,
   "metadata": {},
   "outputs": [],
   "source": [
    "# Oversampled unrepresented class\n",
    "traino = pd.concat([train, pos_train, pos_train, pos_train, pos_train, pos_train, pos_train, pos_train, pos_train, pos_train, pos_train, pos_train, pos_train, pos_train, pos_train, pos_train, pos_train, pos_train], axis=0)"
   ]
  },
  {
   "cell_type": "code",
   "execution_count": 30,
   "metadata": {},
   "outputs": [],
   "source": [
    "# Oversampled train/test split\n",
    "yo = traino.WnvPresent\n",
    "Xo = traino.drop('WnvPresent', axis='columns')\n",
    "Xo = pd.DataFrame(scaler.fit_transform(Xo), columns=Xo.columns)\n",
    "X_traino, X_testo, y_traino, y_testo = train_test_split(Xo, yo, test_size=0.2, random_state=42, stratify=yo)"
   ]
  },
  {
   "cell_type": "markdown",
   "metadata": {},
   "source": [
    "### We need to maximize recall"
   ]
  },
  {
   "cell_type": "code",
   "execution_count": 53,
   "metadata": {},
   "outputs": [
    {
     "name": "stdout",
     "output_type": "stream",
     "text": [
      "[[1335  657]\n",
      " [  20   90]]\n",
      "             precision    recall  f1-score   support\n",
      "\n",
      "         No       0.99      0.67      0.80      1992\n",
      "        Yes       0.12      0.82      0.21       110\n",
      "\n",
      "avg / total       0.94      0.68      0.77      2102\n",
      "\n"
     ]
    }
   ],
   "source": [
    "clf = RandomForestClassifier(max_depth=4, max_features=7)\n",
    "clf.fit(X_traino, y_traino)\n",
    "print(confusion_matrix(y_test, clf.predict(X_test)))\n",
    "print(classification_report(y_test, clf.predict(X_test), target_names=['No', 'Yes']))"
   ]
  },
  {
   "cell_type": "code",
   "execution_count": 68,
   "metadata": {},
   "outputs": [
    {
     "name": "stdout",
     "output_type": "stream",
     "text": [
      "Train on 15898 samples, validate on 2102 samples\n",
      "Epoch 1/50\n",
      "15898/15898 [==============================] - 3s 174us/step - loss: 0.4250 - acc: 0.7956 - val_loss: 0.6651 - val_acc: 0.6499\n",
      "Epoch 2/50\n",
      "15898/15898 [==============================] - 2s 136us/step - loss: 0.3513 - acc: 0.8409 - val_loss: 0.6994 - val_acc: 0.6251\n",
      "Epoch 3/50\n",
      "15898/15898 [==============================] - 2s 147us/step - loss: 0.3135 - acc: 0.8636 - val_loss: 0.7040 - val_acc: 0.6456\n",
      "Epoch 4/50\n",
      "15898/15898 [==============================] - 2s 142us/step - loss: 0.2860 - acc: 0.8818 - val_loss: 0.6460 - val_acc: 0.6903\n",
      "Epoch 5/50\n",
      "15898/15898 [==============================] - 2s 145us/step - loss: 0.2557 - acc: 0.8968 - val_loss: 0.6107 - val_acc: 0.6998\n",
      "Epoch 6/50\n",
      "15898/15898 [==============================] - 2s 121us/step - loss: 0.2397 - acc: 0.9031 - val_loss: 0.5208 - val_acc: 0.7569\n",
      "Epoch 7/50\n",
      "15898/15898 [==============================] - 2s 150us/step - loss: 0.2172 - acc: 0.9158 - val_loss: 0.4949 - val_acc: 0.7793\n",
      "Epoch 8/50\n",
      "15898/15898 [==============================] - 2s 136us/step - loss: 0.2026 - acc: 0.9237 - val_loss: 0.6699 - val_acc: 0.7231\n",
      "Epoch 9/50\n",
      "15898/15898 [==============================] - 2s 133us/step - loss: 0.1965 - acc: 0.9230 - val_loss: 0.4919 - val_acc: 0.7845\n",
      "Epoch 10/50\n",
      "15898/15898 [==============================] - 2s 136us/step - loss: 0.1758 - acc: 0.9355 - val_loss: 0.5367 - val_acc: 0.7755\n",
      "Epoch 11/50\n",
      "15898/15898 [==============================] - 2s 150us/step - loss: 0.1669 - acc: 0.9377 - val_loss: 0.4979 - val_acc: 0.8021\n",
      "Epoch 12/50\n",
      "15898/15898 [==============================] - 2s 124us/step - loss: 0.1624 - acc: 0.9401 - val_loss: 0.5023 - val_acc: 0.7912\n",
      "Epoch 13/50\n",
      "15898/15898 [==============================] - 2s 117us/step - loss: 0.1522 - acc: 0.9444 - val_loss: 0.5543 - val_acc: 0.7807\n",
      "Epoch 14/50\n",
      "15898/15898 [==============================] - 2s 128us/step - loss: 0.1475 - acc: 0.9452 - val_loss: 0.4952 - val_acc: 0.8040\n",
      "Epoch 15/50\n",
      "15898/15898 [==============================] - 2s 147us/step - loss: 0.1466 - acc: 0.9452 - val_loss: 0.4149 - val_acc: 0.8373\n",
      "Epoch 16/50\n",
      "15898/15898 [==============================] - 2s 131us/step - loss: 0.1402 - acc: 0.9478 - val_loss: 0.4966 - val_acc: 0.8268\n",
      "Epoch 17/50\n",
      "15898/15898 [==============================] - 2s 107us/step - loss: 0.1357 - acc: 0.9499 - val_loss: 0.5119 - val_acc: 0.8073\n",
      "Epoch 18/50\n",
      "15898/15898 [==============================] - 2s 104us/step - loss: 0.1340 - acc: 0.9491 - val_loss: 0.5075 - val_acc: 0.8092\n",
      "Epoch 19/50\n",
      "15898/15898 [==============================] - 2s 123us/step - loss: 0.1246 - acc: 0.9546 - val_loss: 0.5374 - val_acc: 0.8088\n",
      "Epoch 20/50\n",
      "15898/15898 [==============================] - 2s 121us/step - loss: 0.1280 - acc: 0.9504 - val_loss: 0.5428 - val_acc: 0.8088\n",
      "Epoch 21/50\n",
      "15898/15898 [==============================] - 3s 160us/step - loss: 0.1196 - acc: 0.9562 - val_loss: 0.5367 - val_acc: 0.8140\n",
      "Epoch 22/50\n",
      "15898/15898 [==============================] - 2s 129us/step - loss: 0.1129 - acc: 0.9580 - val_loss: 0.4906 - val_acc: 0.8306\n",
      "Epoch 23/50\n",
      "15898/15898 [==============================] - 2s 124us/step - loss: 0.1145 - acc: 0.9565 - val_loss: 0.4280 - val_acc: 0.8449\n",
      "Epoch 24/50\n",
      "15898/15898 [==============================] - 2s 117us/step - loss: 0.1174 - acc: 0.9551 - val_loss: 0.5929 - val_acc: 0.8121\n",
      "Epoch 25/50\n",
      "15898/15898 [==============================] - 2s 143us/step - loss: 0.1101 - acc: 0.9573 - val_loss: 0.5994 - val_acc: 0.8030\n",
      "Epoch 26/50\n",
      "15898/15898 [==============================] - 2s 120us/step - loss: 0.1062 - acc: 0.9590 - val_loss: 0.4653 - val_acc: 0.8492\n",
      "Epoch 27/50\n",
      "15898/15898 [==============================] - 2s 112us/step - loss: 0.1076 - acc: 0.9576 - val_loss: 0.5096 - val_acc: 0.8330\n",
      "Epoch 28/50\n",
      "15898/15898 [==============================] - 1s 90us/step - loss: 0.1045 - acc: 0.9590 - val_loss: 0.3931 - val_acc: 0.8544\n",
      "Epoch 29/50\n",
      "15898/15898 [==============================] - 3s 186us/step - loss: 0.1019 - acc: 0.9621 - val_loss: 0.4961 - val_acc: 0.8411\n",
      "Epoch 30/50\n",
      "15898/15898 [==============================] - 2s 107us/step - loss: 0.1031 - acc: 0.9601 - val_loss: 0.4156 - val_acc: 0.8520\n",
      "Epoch 31/50\n",
      "15898/15898 [==============================] - 2s 118us/step - loss: 0.1030 - acc: 0.9613 - val_loss: 0.5587 - val_acc: 0.8221\n",
      "Epoch 32/50\n",
      "15898/15898 [==============================] - 2s 151us/step - loss: 0.0966 - acc: 0.9636 - val_loss: 0.5621 - val_acc: 0.8344\n",
      "Epoch 33/50\n",
      "15898/15898 [==============================] - 2s 97us/step - loss: 0.0966 - acc: 0.9628 - val_loss: 0.4893 - val_acc: 0.8421\n",
      "Epoch 34/50\n",
      "15898/15898 [==============================] - 2s 113us/step - loss: 0.0956 - acc: 0.9639 - val_loss: 0.4803 - val_acc: 0.8440\n",
      "Epoch 35/50\n",
      "15898/15898 [==============================] - 2s 139us/step - loss: 0.0909 - acc: 0.9647 - val_loss: 0.4832 - val_acc: 0.8554\n",
      "Epoch 36/50\n",
      "15898/15898 [==============================] - 1s 93us/step - loss: 0.0905 - acc: 0.9645 - val_loss: 0.5167 - val_acc: 0.8430\n",
      "Epoch 37/50\n",
      "15898/15898 [==============================] - 2s 154us/step - loss: 0.0949 - acc: 0.9632 - val_loss: 0.5985 - val_acc: 0.8159\n",
      "Epoch 38/50\n",
      "15898/15898 [==============================] - 2s 116us/step - loss: 0.0946 - acc: 0.9640 - val_loss: 0.4389 - val_acc: 0.8611\n",
      "Epoch 39/50\n",
      "15898/15898 [==============================] - 2s 134us/step - loss: 0.0920 - acc: 0.9635 - val_loss: 0.5246 - val_acc: 0.8368\n",
      "Epoch 40/50\n",
      "15898/15898 [==============================] - 2s 146us/step - loss: 0.0936 - acc: 0.9645 - val_loss: 0.4199 - val_acc: 0.8597\n",
      "Epoch 41/50\n",
      "15898/15898 [==============================] - 2s 140us/step - loss: 0.0886 - acc: 0.9651 - val_loss: 0.4978 - val_acc: 0.8463\n",
      "Epoch 42/50\n",
      "15898/15898 [==============================] - 3s 185us/step - loss: 0.0861 - acc: 0.9654 - val_loss: 0.3896 - val_acc: 0.8654\n",
      "Epoch 43/50\n",
      "15898/15898 [==============================] - 2s 136us/step - loss: 0.0872 - acc: 0.9663 - val_loss: 0.5418 - val_acc: 0.8425\n",
      "Epoch 44/50\n",
      "15898/15898 [==============================] - 3s 179us/step - loss: 0.0927 - acc: 0.9645 - val_loss: 0.5746 - val_acc: 0.8340\n",
      "Epoch 45/50\n",
      "15898/15898 [==============================] - 2s 139us/step - loss: 0.0860 - acc: 0.9657 - val_loss: 0.5558 - val_acc: 0.8406\n",
      "Epoch 46/50\n",
      "15898/15898 [==============================] - 2s 132us/step - loss: 0.0820 - acc: 0.9693 - val_loss: 0.4684 - val_acc: 0.8597\n",
      "Epoch 47/50\n",
      "15898/15898 [==============================] - 3s 163us/step - loss: 0.0803 - acc: 0.9688 - val_loss: 0.4545 - val_acc: 0.8520\n",
      "Epoch 48/50\n",
      "15898/15898 [==============================] - ETA: 0s - loss: 0.0800 - acc: 0.968 - 2s 107us/step - loss: 0.0801 - acc: 0.9682 - val_loss: 0.5869 - val_acc: 0.8354\n",
      "Epoch 49/50\n",
      "15898/15898 [==============================] - 1s 77us/step - loss: 0.0880 - acc: 0.9656 - val_loss: 0.5002 - val_acc: 0.8478\n",
      "Epoch 50/50\n",
      "15898/15898 [==============================] - 2s 133us/step - loss: 0.0811 - acc: 0.9684 - val_loss: 0.5536 - val_acc: 0.8573\n"
     ]
    },
    {
     "data": {
      "image/png": "[encoded data removed]",
      "text/plain": [
       "<matplotlib.figure.Figure at 0x7fcf44195748>"
      ]
     },
     "metadata": {},
     "output_type": "display_data"
    },
    {
     "data": {
      "image/png": "[encoded data removed]",
      "text/plain": [
       "<matplotlib.figure.Figure at 0x7fced2fc9748>"
      ]
     },
     "metadata": {},
     "output_type": "display_data"
    },
    {
     "data": {
      "text/plain": [
       "0.8572787818854247"
      ]
     },
     "execution_count": 68,
     "metadata": {},
     "output_type": "execute_result"
    }
   ],
   "source": [
    "model = Sequential()\n",
    "input_units = X_train.shape[1]\n",
    "hidden_units = input_units\n",
    "\n",
    "model.add(Dense(hidden_units * 2,\n",
    "                input_dim=input_units,\n",
    "                activation='relu'))\n",
    "model.add(Dense(hidden_units * 2,\n",
    "                input_dim=input_units,\n",
    "                activation='relu'))\n",
    "model.add(Dense(10,\n",
    "                input_dim=input_units,\n",
    "                activation='relu'))\n",
    "model.add(Dense(1, activation='sigmoid'))\n",
    "\n",
    "model.compile(loss='binary_crossentropy',\n",
    "              optimizer='Adam',\n",
    "              metrics=['accuracy'])\n",
    "\n",
    "hist = model.fit(X_traino, y_traino,\n",
    "                 validation_data=(X_test, y_test),\n",
    "                 epochs=50,\n",
    "                 batch_size=64,\n",
    "                 shuffle=True)\n",
    "\n",
    "plt.figure()\n",
    "plt.plot(hist.history['loss'])\n",
    "plt.plot(hist.history['val_loss'])\n",
    "plt.title('model loss')\n",
    "plt.ylabel('loss')\n",
    "plt.xlabel('epoch')\n",
    "plt.legend(['train', 'test'], loc='best') ## I love this loc = 'best' command.\n",
    "plt.show()\n",
    "plt.figure()\n",
    "plt.plot(hist.history['acc'])\n",
    "plt.plot(hist.history['val_acc'])\n",
    "plt.title('model accuracy')\n",
    "plt.ylabel('accuracy')\n",
    "plt.xlabel('epoch')\n",
    "plt.legend(['train', 'test'], loc='best')\n",
    "plt.show()\n",
    "hist.history['val_acc'][-1]"
   ]
  },
  {
   "cell_type": "code",
   "execution_count": 69,
   "metadata": {},
   "outputs": [
    {
     "name": "stdout",
     "output_type": "stream",
     "text": [
      "Threshold: 0.0\n",
      "Confusion Matrix\n",
      "[[  38 1954]\n",
      " [   0  110]]\n",
      "             precision    recall  f1-score   support\n",
      "\n",
      "         No       1.00      0.02      0.04      1992\n",
      "        Yes       0.05      1.00      0.10       110\n",
      "\n",
      "avg / total       0.95      0.07      0.04      2102\n",
      "\n",
      "*******************************\n",
      "\n",
      "Threshold: 0.05263157894736842\n",
      "Confusion Matrix\n",
      "[[1526  466]\n",
      " [   0  110]]\n",
      "             precision    recall  f1-score   support\n",
      "\n",
      "         No       1.00      0.77      0.87      1992\n",
      "        Yes       0.19      1.00      0.32       110\n",
      "\n",
      "avg / total       0.96      0.78      0.84      2102\n",
      "\n",
      "*******************************\n",
      "\n",
      "Threshold: 0.10526315789473684\n",
      "Confusion Matrix\n",
      "[[1558  434]\n",
      " [   0  110]]\n",
      "             precision    recall  f1-score   support\n",
      "\n",
      "         No       1.00      0.78      0.88      1992\n",
      "        Yes       0.20      1.00      0.34       110\n",
      "\n",
      "avg / total       0.96      0.79      0.85      2102\n",
      "\n",
      "*******************************\n",
      "\n",
      "Threshold: 0.15789473684210525\n",
      "Confusion Matrix\n",
      "[[1590  402]\n",
      " [   0  110]]\n",
      "             precision    recall  f1-score   support\n",
      "\n",
      "         No       1.00      0.80      0.89      1992\n",
      "        Yes       0.21      1.00      0.35       110\n",
      "\n",
      "avg / total       0.96      0.81      0.86      2102\n",
      "\n",
      "*******************************\n",
      "\n",
      "Threshold: 0.21052631578947367\n",
      "Confusion Matrix\n",
      "[[1606  386]\n",
      " [   0  110]]\n",
      "             precision    recall  f1-score   support\n",
      "\n",
      "         No       1.00      0.81      0.89      1992\n",
      "        Yes       0.22      1.00      0.36       110\n",
      "\n",
      "avg / total       0.96      0.82      0.86      2102\n",
      "\n",
      "*******************************\n",
      "\n",
      "Threshold: 0.2631578947368421\n",
      "Confusion Matrix\n",
      "[[1618  374]\n",
      " [   1  109]]\n",
      "             precision    recall  f1-score   support\n",
      "\n",
      "         No       1.00      0.81      0.90      1992\n",
      "        Yes       0.23      0.99      0.37       110\n",
      "\n",
      "avg / total       0.96      0.82      0.87      2102\n",
      "\n",
      "*******************************\n",
      "\n",
      "Threshold: 0.3157894736842105\n",
      "Confusion Matrix\n",
      "[[1633  359]\n",
      " [   4  106]]\n",
      "             precision    recall  f1-score   support\n",
      "\n",
      "         No       1.00      0.82      0.90      1992\n",
      "        Yes       0.23      0.96      0.37       110\n",
      "\n",
      "avg / total       0.96      0.83      0.87      2102\n",
      "\n",
      "*******************************\n",
      "\n",
      "Threshold: 0.3684210526315789\n",
      "Confusion Matrix\n",
      "[[1641  351]\n",
      " [   4  106]]\n",
      "             precision    recall  f1-score   support\n",
      "\n",
      "         No       1.00      0.82      0.90      1992\n",
      "        Yes       0.23      0.96      0.37       110\n",
      "\n",
      "avg / total       0.96      0.83      0.87      2102\n",
      "\n",
      "*******************************\n",
      "\n",
      "Threshold: 0.42105263157894735\n",
      "Confusion Matrix\n",
      "[[1668  324]\n",
      " [   4  106]]\n",
      "             precision    recall  f1-score   support\n",
      "\n",
      "         No       1.00      0.84      0.91      1992\n",
      "        Yes       0.25      0.96      0.39       110\n",
      "\n",
      "avg / total       0.96      0.84      0.88      2102\n",
      "\n",
      "*******************************\n",
      "\n",
      "Threshold: 0.47368421052631576\n",
      "Confusion Matrix\n",
      "[[1694  298]\n",
      " [   7  103]]\n",
      "             precision    recall  f1-score   support\n",
      "\n",
      "         No       1.00      0.85      0.92      1992\n",
      "        Yes       0.26      0.94      0.40       110\n",
      "\n",
      "avg / total       0.96      0.85      0.89      2102\n",
      "\n",
      "*******************************\n",
      "\n",
      "Threshold: 0.5263157894736842\n",
      "Confusion Matrix\n",
      "[[1712  280]\n",
      " [   9  101]]\n",
      "             precision    recall  f1-score   support\n",
      "\n",
      "         No       0.99      0.86      0.92      1992\n",
      "        Yes       0.27      0.92      0.41       110\n",
      "\n",
      "avg / total       0.96      0.86      0.90      2102\n",
      "\n",
      "*******************************\n",
      "\n",
      "Threshold: 0.5789473684210527\n",
      "Confusion Matrix\n",
      "[[1729  263]\n",
      " [  12   98]]\n",
      "             precision    recall  f1-score   support\n",
      "\n",
      "         No       0.99      0.87      0.93      1992\n",
      "        Yes       0.27      0.89      0.42       110\n",
      "\n",
      "avg / total       0.96      0.87      0.90      2102\n",
      "\n",
      "*******************************\n",
      "\n",
      "Threshold: 0.631578947368421\n",
      "Confusion Matrix\n",
      "[[1738  254]\n",
      " [  12   98]]\n",
      "             precision    recall  f1-score   support\n",
      "\n",
      "         No       0.99      0.87      0.93      1992\n",
      "        Yes       0.28      0.89      0.42       110\n",
      "\n",
      "avg / total       0.96      0.87      0.90      2102\n",
      "\n",
      "*******************************\n",
      "\n",
      "Threshold: 0.6842105263157894\n",
      "Confusion Matrix\n",
      "[[1769  223]\n",
      " [  15   95]]\n",
      "             precision    recall  f1-score   support\n",
      "\n",
      "         No       0.99      0.89      0.94      1992\n",
      "        Yes       0.30      0.86      0.44       110\n",
      "\n",
      "avg / total       0.96      0.89      0.91      2102\n",
      "\n",
      "*******************************\n",
      "\n",
      "Threshold: 0.7368421052631579\n",
      "Confusion Matrix\n",
      "[[1780  212]\n",
      " [  16   94]]\n",
      "             precision    recall  f1-score   support\n",
      "\n",
      "         No       0.99      0.89      0.94      1992\n",
      "        Yes       0.31      0.85      0.45       110\n",
      "\n",
      "avg / total       0.96      0.89      0.91      2102\n",
      "\n",
      "*******************************\n",
      "\n",
      "Threshold: 0.7894736842105263\n",
      "Confusion Matrix\n",
      "[[1797  195]\n",
      " [  21   89]]\n",
      "             precision    recall  f1-score   support\n",
      "\n",
      "         No       0.99      0.90      0.94      1992\n",
      "        Yes       0.31      0.81      0.45       110\n",
      "\n",
      "avg / total       0.95      0.90      0.92      2102\n",
      "\n",
      "*******************************\n",
      "\n",
      "Threshold: 0.8421052631578947\n",
      "Confusion Matrix\n",
      "[[1806  186]\n",
      " [  22   88]]\n",
      "             precision    recall  f1-score   support\n",
      "\n",
      "         No       0.99      0.91      0.95      1992\n",
      "        Yes       0.32      0.80      0.46       110\n",
      "\n",
      "avg / total       0.95      0.90      0.92      2102\n",
      "\n",
      "*******************************\n",
      "\n",
      "Threshold: 0.894736842105263\n",
      "Confusion Matrix\n",
      "[[1823  169]\n",
      " [  26   84]]\n",
      "             precision    recall  f1-score   support\n",
      "\n",
      "         No       0.99      0.92      0.95      1992\n",
      "        Yes       0.33      0.76      0.46       110\n",
      "\n",
      "avg / total       0.95      0.91      0.92      2102\n",
      "\n",
      "*******************************\n",
      "\n",
      "Threshold: 0.9473684210526315\n",
      "Confusion Matrix\n",
      "[[1852  140]\n",
      " [  31   79]]\n",
      "             precision    recall  f1-score   support\n",
      "\n",
      "         No       0.98      0.93      0.96      1992\n",
      "        Yes       0.36      0.72      0.48       110\n",
      "\n",
      "avg / total       0.95      0.92      0.93      2102\n",
      "\n",
      "*******************************\n",
      "\n",
      "Threshold: 1.0\n",
      "Confusion Matrix\n",
      "[[1992    0]\n",
      " [ 110    0]]\n",
      "             precision    recall  f1-score   support\n",
      "\n",
      "         No       0.95      1.00      0.97      1992\n",
      "        Yes       0.00      0.00      0.00       110\n",
      "\n",
      "avg / total       0.90      0.95      0.92      2102\n",
      "\n",
      "*******************************\n",
      "\n"
     ]
    },
    {
     "name": "stderr",
     "output_type": "stream",
     "text": [
      "/home/raven/anaconda3/lib/python3.6/site-packages/sklearn/metrics/classification.py:1135: UndefinedMetricWarning: Precision and F-score are ill-defined and being set to 0.0 in labels with no predicted samples.\n",
      "  'precision', 'predicted', average, warn_for)\n"
     ]
    }
   ],
   "source": [
    "for threshold in np.linspace(0, 1, 20):\n",
    "    print('Threshold: {}'.format(threshold))\n",
    "    print('Confusion Matrix')\n",
    "    print(confusion_matrix(y_test, (model.predict(X_test) > threshold).astype(float)))\n",
    "    print(classification_report(y_test, (model.predict(X_test) > threshold).astype(float), target_names=['No', 'Yes']))\n",
    "    print('*******************************\\n')"
   ]
  },
  {
   "cell_type": "code",
   "execution_count": null,
   "metadata": {},
   "outputs": [],
   "source": []
  }
 ],
 "metadata": {
  "kernelspec": {
   "display_name": "Python [default]",
   "language": "python",
   "name": "python3"
  },
  "language_info": {
   "codemirror_mode": {
    "name": "ipython",
    "version": 3
   },
   "file_extension": ".py",
   "mimetype": "text/x-python",
   "name": "python",
   "nbconvert_exporter": "python",
   "pygments_lexer": "ipython3",
   "version": "3.6.4"
  }
 },
 "nbformat": 4,
 "nbformat_minor": 2
}
