{
 "cells": [
  {
   "cell_type": "markdown",
   "metadata": {},
   "source": [
    "*Original code: Beating the Benchmark from West Nile Virus Prediction @ Kaggle by Abhihsek. Modified by Brendan Lane*"
   ]
  },
  {
   "cell_type": "code",
   "execution_count": 4,
   "metadata": {},
   "outputs": [],
   "source": [
    "import numpy as np\n",
    "import pandas as pd\n",
    "from sklearn.ensemble import RandomForestClassifier, AdaBoostClassifier, GradientBoostingClassifier\n",
    "from sklearn.preprocessing import StandardScaler, LabelEncoder\n",
    "from sklearn.model_selection import cross_val_score, train_test_split, GridSearchCV\n",
    "from sklearn.metrics import confusion_matrix, classification_report\n",
    "from sklearn.linear_model import LogisticRegression\n",
    "from sklearn.svm import SVC\n",
    "import matplotlib.pyplot as plt\n",
    "from keras.models import Sequential\n",
    "from keras.layers.core import Dense, Dropout, Activation, Flatten\n",
    "from keras.layers import Convolution1D, MaxPooling1D\n",
    "from keras import regularizers\n",
    "from keras.layers.normalization import BatchNormalization\n",
    "from keras.layers.advanced_activations import *\n",
    "from keras.optimizers import Adam\n",
    "from keras.initializers import *\n",
    "\n",
    "%matplotlib inline"
   ]
  },
  {
   "cell_type": "code",
   "execution_count": 5,
   "metadata": {},
   "outputs": [],
   "source": [
    "# Load dataset \n",
    "train = pd.read_csv('../assets/train.csv')\n",
    "test = pd.read_csv('../assets/test.csv')\n",
    "sample = pd.read_csv('../assets/sampleSubmission.csv')\n",
    "weather = pd.read_csv('../assets/weather.csv')"
   ]
  },
  {
   "cell_type": "code",
   "execution_count": 6,
   "metadata": {},
   "outputs": [],
   "source": [
    "# Not using codesum for this benchmark\n",
    "weather.drop('CodeSum', axis='columns', inplace=True)"
   ]
  },
  {
   "cell_type": "code",
   "execution_count": 7,
   "metadata": {},
   "outputs": [],
   "source": [
    "# Split station 1 and 2 and join horizontally\n",
    "weather_stn1 = weather[weather['Station']==1]\n",
    "weather_stn2 = weather[weather['Station']==2]\n",
    "weather_stn1 = weather_stn1.drop('Station', axis=1)\n",
    "weather_stn2 = weather_stn2.drop('Station', axis=1)\n",
    "weather = weather_stn1.merge(weather_stn2, on='Date')"
   ]
  },
  {
   "cell_type": "code",
   "execution_count": 8,
   "metadata": {},
   "outputs": [],
   "source": [
    "# replace some missing values and T with -1\n",
    "weather = weather.replace('M', -1)\n",
    "weather = weather.replace('-', -1)\n",
    "weather = weather.replace('T', -1)\n",
    "weather = weather.replace(' T', -1)\n",
    "weather = weather.replace('  T', -1)"
   ]
  },
  {
   "cell_type": "code",
   "execution_count": 9,
   "metadata": {},
   "outputs": [],
   "source": [
    "# Functions to extract month and day from dataset\n",
    "# You can also use parse_dates of Pandas.\n",
    "def create_year(x):\n",
    "    return x.split('-')[0]\n",
    "def create_month(x):\n",
    "    return x.split('-')[1]\n",
    "def create_day(x):\n",
    "    return x.split('-')[2]\n",
    "\n",
    "train['month'] = train.Date.apply(create_month)\n",
    "train['day'] = train.Date.apply(create_day)\n",
    "train['year'] = train.Date.apply(create_year)\n",
    "\n",
    "test['month'] = test.Date.apply(create_month)\n",
    "test['day'] = test.Date.apply(create_day)\n",
    "test['year'] = test.Date.apply(create_year)"
   ]
  },
  {
   "cell_type": "code",
   "execution_count": 10,
   "metadata": {},
   "outputs": [],
   "source": [
    "# drop address columns\n",
    "train = train.drop(['Address', 'AddressNumberAndStreet'], axis = 1)\n",
    "test = test.drop(['Id', 'Address', 'AddressNumberAndStreet'], axis = 1)"
   ]
  },
  {
   "cell_type": "code",
   "execution_count": 11,
   "metadata": {},
   "outputs": [],
   "source": [
    "# Merge with weather data\n",
    "train = train.merge(weather, on='Date')\n",
    "test = test.merge(weather, on='Date')\n",
    "train = train.drop(['Date'], axis = 1)\n",
    "test = test.drop(['Date'], axis = 1)"
   ]
  },
  {
   "cell_type": "code",
   "execution_count": 12,
   "metadata": {},
   "outputs": [],
   "source": [
    "# Convert categorical data to numbers\n",
    "lbl = LabelEncoder()\n",
    "lbl.fit(list(train['Species'].values) + list(test['Species'].values))\n",
    "train['Species'] = lbl.transform(train['Species'].values)\n",
    "test['Species'] = lbl.transform(test['Species'].values)\n",
    "\n",
    "lbl.fit(list(train['Street'].values) + list(test['Street'].values))\n",
    "train['Street'] = lbl.transform(train['Street'].values)\n",
    "test['Street'] = lbl.transform(test['Street'].values)\n",
    "\n",
    "lbl.fit(list(train['Trap'].values) + list(test['Trap'].values))\n",
    "train['Trap'] = lbl.transform(train['Trap'].values)\n",
    "test['Trap'] = lbl.transform(test['Trap'].values)"
   ]
  },
  {
   "cell_type": "code",
   "execution_count": 13,
   "metadata": {},
   "outputs": [],
   "source": [
    "# drop columns with -1s\n",
    "train = train.loc[:,(train != -1).any(axis=0)]\n",
    "test = test.loc[:,(test != -1).any(axis=0)]"
   ]
  },
  {
   "cell_type": "code",
   "execution_count": 14,
   "metadata": {},
   "outputs": [],
   "source": [
    "# covert all data types to floats\n",
    "train = train.astype(float)\n",
    "test = test.astype(float)"
   ]
  },
  {
   "cell_type": "code",
   "execution_count": 15,
   "metadata": {},
   "outputs": [],
   "source": [
    "## feature engineering\n",
    "# Temperature difference\n",
    "train['temp_delta_x'] = train.Tmax_x - train.Tmin_x\n",
    "train['temp_delta_y'] = train.Tmax_y - train.Tmin_y\n",
    "train['temp_delta_x'] = train.Tmax_x - train.Tmin_x\n",
    "train['temp_delta_y'] = train.Tmax_y - train.Tmin_y\n",
    "test['temp_delta_x'] = test.Tmax_x - test.Tmin_x\n",
    "test['temp_delta_y'] = test.Tmax_y - test.Tmin_y\n",
    "test['temp_delta_x'] = test.Tmax_x - test.Tmin_x\n",
    "test['temp_delta_y'] = test.Tmax_y - test.Tmin_y"
   ]
  },
  {
   "cell_type": "code",
   "execution_count": 16,
   "metadata": {},
   "outputs": [],
   "source": [
    "# Is raining?\n",
    "train['israining_x'] = (train.PrecipTotal_x > 0).astype(int)\n",
    "train['israining_y'] = (train.PrecipTotal_y > 0).astype(int)\n",
    "test['israining_x'] = (test.PrecipTotal_x > 0).astype(int)\n",
    "test['israining_y'] = (test.PrecipTotal_y > 0).astype(int)"
   ]
  },
  {
   "cell_type": "code",
   "execution_count": 17,
   "metadata": {},
   "outputs": [],
   "source": [
    "# Length of sunlight\n",
    "train['sunlight'] = train.Sunset_x - train.Sunrise_x\n",
    "test['sunlight'] = test.Sunset_x - test.Sunrise_x"
   ]
  },
  {
   "cell_type": "code",
   "execution_count": 18,
   "metadata": {},
   "outputs": [],
   "source": [
    "# Replace outliers with median value\n",
    "train.WetBulb_x = train.WetBulb_x.apply(lambda x: train.WetBulb_x.median() if x < 0 else x)\n",
    "test.WetBulb_x = test.WetBulb_x.apply(lambda x: test.WetBulb_x.median() if x < 0 else x)\n",
    "\n",
    "train.StnPressure_x = train.StnPressure_x.apply(lambda x: train.StnPressure_x.median() if x < 0 else x)\n",
    "test.StnPressure_x = test.StnPressure_x.apply(lambda x: test.StnPressure_x.median() if x < 0 else x)"
   ]
  },
  {
   "cell_type": "code",
   "execution_count": 19,
   "metadata": {},
   "outputs": [],
   "source": [
    "# Relative humidity approximation\n",
    "train['RH'] = 100 - (25 / 9) * (train.Tavg_x - train.DewPoint_x)\n",
    "test['RH'] = 100 - (25 / 9) * (test.Tavg_x - test.DewPoint_x)"
   ]
  },
  {
   "cell_type": "code",
   "execution_count": 20,
   "metadata": {},
   "outputs": [],
   "source": [
    "# Is heat wave?\n",
    "train['isheat'] = (train.Heat_x > 0).astype(float)\n",
    "test['isheat'] = (test.Heat_x > 0).astype(float)"
   ]
  },
  {
   "cell_type": "code",
   "execution_count": 21,
   "metadata": {},
   "outputs": [],
   "source": [
    "# Vectorize resultant wind into north and east components\n",
    "wind_dir_north_x = train.ResultDir_x.apply(lambda x: np.sin(np.deg2rad(x)))\n",
    "wind_dir_east_x = train.ResultDir_x.apply(lambda x: np.cos(np.deg2rad(x)))\n",
    "train['wind_north_x'] = wind_dir_north_x * train.ResultSpeed_x\n",
    "train['wind_east_x'] = wind_dir_east_x * train.ResultSpeed_x\n",
    "\n",
    "wind_dir_north_y = train.ResultDir_y.apply(lambda x: np.sin(np.deg2rad(x)))\n",
    "wind_dir_east_y = train.ResultDir_y.apply(lambda x: np.cos(np.deg2rad(x)))\n",
    "train['wind_north_y'] = wind_dir_north_y * train.ResultSpeed_y\n",
    "train['wind_east_y'] = wind_dir_east_y * train.ResultSpeed_y\n",
    "\n",
    "wind_dir_north_x = test.ResultDir_x.apply(lambda x: np.sin(np.deg2rad(x)))\n",
    "wind_dir_east_x = test.ResultDir_x.apply(lambda x: np.cos(np.deg2rad(x)))\n",
    "test['wind_north_x'] = wind_dir_north_x * test.ResultSpeed_x\n",
    "test['wind_east_x'] = wind_dir_east_x * test.ResultSpeed_x\n",
    "\n",
    "wind_dir_north_y = test.ResultDir_y.apply(lambda x: np.sin(np.deg2rad(x)))\n",
    "wind_dir_east_y = test.ResultDir_y.apply(lambda x: np.cos(np.deg2rad(x)))\n",
    "test['wind_north_y'] = wind_dir_north_y * test.ResultSpeed_y\n",
    "test['wind_east_y'] = wind_dir_east_y * test.ResultSpeed_y"
   ]
  },
  {
   "cell_type": "code",
   "execution_count": 22,
   "metadata": {},
   "outputs": [],
   "source": [
    "# Vectorize average wind into north and east components\n",
    "train['avg_wind_north_x'] = wind_dir_north_x * train.AvgSpeed_x\n",
    "train['avg_wind_east_x'] = wind_dir_east_x * train.AvgSpeed_x\n",
    "\n",
    "train['avg_wind_north_y'] = wind_dir_north_y * train.AvgSpeed_y\n",
    "train['avg_wind_east_y'] = wind_dir_east_y * train.AvgSpeed_y\n",
    "\n",
    "test['avg_wind_north_x'] = wind_dir_north_x * test.AvgSpeed_x\n",
    "test['avg_wind_east_x'] = wind_dir_east_x * test.AvgSpeed_x\n",
    "\n",
    "test['avg_wind_north_y'] = wind_dir_north_y * test.AvgSpeed_y\n",
    "test['avg_wind_east_y'] = wind_dir_east_y * test.AvgSpeed_y"
   ]
  },
  {
   "cell_type": "code",
   "execution_count": 23,
   "metadata": {},
   "outputs": [],
   "source": [
    "train = pd.concat([train.reset_index(), (pd.get_dummies(train.year)).reset_index(), (pd.get_dummies(train.month)).reset_index(), (pd.get_dummies(train.Species)).reset_index()], axis='columns')\n",
    "test = pd.concat([test.reset_index(), (pd.get_dummies(test.year)).reset_index(), (pd.get_dummies(test.month)).reset_index(), (pd.get_dummies(test.Species)).reset_index()], axis='columns')"
   ]
  },
  {
   "cell_type": "code",
   "execution_count": 24,
   "metadata": {},
   "outputs": [],
   "source": [
    "drop_list = ['PrecipTotal_x', 'PrecipTotal_y', 'Sunrise_x', 'Sunset_x',\n",
    "             'Heat_x', 'Depth_x', 'SnowFall_x', 'ResultDir_x', 'ResultSpeed_x',\n",
    "             'ResultDir_y', 'ResultSpeed_y', 'AvgSpeed_x', 'AvgSpeed_y', 'year',\n",
    "             'month', 'Species']\n",
    "\n",
    "train.drop(drop_list, axis='columns', inplace=True)\n",
    "test.drop(drop_list, axis='columns', inplace=True)"
   ]
  },
  {
   "cell_type": "code",
   "execution_count": 25,
   "metadata": {},
   "outputs": [],
   "source": [
    "# Set dependent (y) and indepedent (X) variables\n",
    "y = train.WnvPresent\n",
    "X = train.drop('WnvPresent', axis='columns')"
   ]
  },
  {
   "cell_type": "code",
   "execution_count": 26,
   "metadata": {},
   "outputs": [
    {
     "data": {
      "text/plain": [
       "0.9475537787930707"
      ]
     },
     "execution_count": 26,
     "metadata": {},
     "output_type": "execute_result"
    }
   ],
   "source": [
    "# Baseline accuracy\n",
    "1 - y.mean()"
   ]
  },
  {
   "cell_type": "code",
   "execution_count": 27,
   "metadata": {},
   "outputs": [],
   "source": [
    "# Scale X for modeling\n",
    "scaler = StandardScaler()\n",
    "X = pd.DataFrame(scaler.fit_transform(X), columns=X.columns)"
   ]
  },
  {
   "cell_type": "code",
   "execution_count": 28,
   "metadata": {},
   "outputs": [],
   "source": [
    "# Train/test split for validation\n",
    "X_train, X_test, y_train, y_test = train_test_split(X, y, test_size=0.2, random_state=42, stratify=y)"
   ]
  },
  {
   "cell_type": "code",
   "execution_count": 29,
   "metadata": {},
   "outputs": [
    {
     "data": {
      "text/plain": [
       "0.9475250626167533"
      ]
     },
     "execution_count": 29,
     "metadata": {},
     "output_type": "execute_result"
    }
   ],
   "source": [
    "# Random forest\n",
    "cross_val_score(RandomForestClassifier(max_depth=4, max_features=5), X_train, y_train,\n",
    "                cv=5, n_jobs=-1, verbose=0).mean()"
   ]
  },
  {
   "cell_type": "markdown",
   "metadata": {},
   "source": [
    "*Doesn't break baseline. What is happening?*"
   ]
  },
  {
   "cell_type": "code",
   "execution_count": 30,
   "metadata": {},
   "outputs": [
    {
     "data": {
      "text/plain": [
       "array([[1992,    0],\n",
       "       [ 110,    0]])"
      ]
     },
     "execution_count": 30,
     "metadata": {},
     "output_type": "execute_result"
    }
   ],
   "source": [
    "# Confustion matrix\n",
    "clf = RandomForestClassifier(max_depth=4, max_features=5)\n",
    "clf.fit(X_train, y_train)\n",
    "confusion_matrix(y_test, clf.predict(X_test))"
   ]
  },
  {
   "cell_type": "markdown",
   "metadata": {},
   "source": [
    "*The model is maximizing accuracy by predicting \"No\" everytime. This is the result of have unbalanced classes.*"
   ]
  },
  {
   "cell_type": "code",
   "execution_count": 31,
   "metadata": {},
   "outputs": [],
   "source": [
    "# Dataframe of positive West Nile results\n",
    "pos_train = train[train.WnvPresent == 1]"
   ]
  },
  {
   "cell_type": "code",
   "execution_count": 32,
   "metadata": {},
   "outputs": [],
   "source": [
    "# Oversampled unrepresented class\n",
    "traino = pd.concat([train, pos_train, pos_train, pos_train, pos_train, pos_train, pos_train, pos_train, pos_train, pos_train, pos_train, pos_train, pos_train, pos_train, pos_train, pos_train, pos_train, pos_train], axis=0)"
   ]
  },
  {
   "cell_type": "code",
   "execution_count": 33,
   "metadata": {},
   "outputs": [],
   "source": [
    "# Oversampled train/test split\n",
    "yo = traino.WnvPresent\n",
    "Xo = traino.drop('WnvPresent', axis='columns')\n",
    "Xo = pd.DataFrame(scaler.fit_transform(Xo), columns=Xo.columns)\n",
    "X_traino, X_testo, y_traino, y_testo = train_test_split(Xo, yo, test_size=0.2, random_state=42, stratify=yo)"
   ]
  },
  {
   "cell_type": "markdown",
   "metadata": {},
   "source": [
    "### We should maximize recall"
   ]
  },
  {
   "cell_type": "code",
   "execution_count": 34,
   "metadata": {},
   "outputs": [
    {
     "name": "stdout",
     "output_type": "stream",
     "text": [
      "[[1297  695]\n",
      " [  20   90]]\n",
      "             precision    recall  f1-score   support\n",
      "\n",
      "         No       0.98      0.65      0.78      1992\n",
      "        Yes       0.11      0.82      0.20       110\n",
      "\n",
      "avg / total       0.94      0.66      0.75      2102\n",
      "\n"
     ]
    }
   ],
   "source": [
    "clf = RandomForestClassifier(max_depth=4, max_features=7)\n",
    "clf.fit(X_traino, y_traino)\n",
    "print(confusion_matrix(y_test, clf.predict(X_test)))\n",
    "print(classification_report(y_test, clf.predict(X_test), target_names=['No', 'Yes']))"
   ]
  },
  {
   "cell_type": "code",
   "execution_count": 35,
   "metadata": {},
   "outputs": [
    {
     "name": "stdout",
     "output_type": "stream",
     "text": [
      "Train on 15898 samples, validate on 2102 samples\n",
      "Epoch 1/50\n",
      "15898/15898 [==============================] - 1s 78us/step - loss: 0.5111 - acc: 0.7386 - val_loss: 0.6649 - val_acc: 0.5937\n",
      "Epoch 2/50\n",
      "15898/15898 [==============================] - 1s 41us/step - loss: 0.4293 - acc: 0.7940 - val_loss: 0.6621 - val_acc: 0.5590\n",
      "Epoch 3/50\n",
      "15898/15898 [==============================] - 1s 46us/step - loss: 0.4112 - acc: 0.8070 - val_loss: 0.6507 - val_acc: 0.6175\n",
      "Epoch 4/50\n",
      "15898/15898 [==============================] - 1s 47us/step - loss: 0.3906 - acc: 0.8158 - val_loss: 0.7056 - val_acc: 0.5752\n",
      "Epoch 5/50\n",
      "15898/15898 [==============================] - 1s 43us/step - loss: 0.3801 - acc: 0.8221 - val_loss: 0.6650 - val_acc: 0.6132\n",
      "Epoch 6/50\n",
      "15898/15898 [==============================] - 1s 46us/step - loss: 0.3662 - acc: 0.8308 - val_loss: 0.6900 - val_acc: 0.5871\n",
      "Epoch 7/50\n",
      "15898/15898 [==============================] - 1s 47us/step - loss: 0.3595 - acc: 0.8335 - val_loss: 0.6196 - val_acc: 0.6032\n",
      "Epoch 8/50\n",
      "15898/15898 [==============================] - 1s 46us/step - loss: 0.3526 - acc: 0.8385 - val_loss: 0.6152 - val_acc: 0.6256\n",
      "Epoch 9/50\n",
      "15898/15898 [==============================] - 1s 47us/step - loss: 0.3426 - acc: 0.8469 - val_loss: 0.6256 - val_acc: 0.5985\n",
      "Epoch 10/50\n",
      "15898/15898 [==============================] - 1s 45us/step - loss: 0.3377 - acc: 0.8473 - val_loss: 0.6407 - val_acc: 0.6156\n",
      "Epoch 11/50\n",
      "15898/15898 [==============================] - 1s 47us/step - loss: 0.3214 - acc: 0.8575 - val_loss: 0.6157 - val_acc: 0.6218\n",
      "Epoch 12/50\n",
      "15898/15898 [==============================] - 1s 47us/step - loss: 0.3178 - acc: 0.8587 - val_loss: 0.6599 - val_acc: 0.6170\n",
      "Epoch 13/50\n",
      "15898/15898 [==============================] - 1s 45us/step - loss: 0.3103 - acc: 0.8626 - val_loss: 0.6265 - val_acc: 0.6308\n",
      "Epoch 14/50\n",
      "15898/15898 [==============================] - 1s 47us/step - loss: 0.3070 - acc: 0.8664 - val_loss: 0.6559 - val_acc: 0.6365\n",
      "Epoch 15/50\n",
      "15898/15898 [==============================] - 1s 49us/step - loss: 0.3003 - acc: 0.8697 - val_loss: 0.5724 - val_acc: 0.6541\n",
      "Epoch 16/50\n",
      "15898/15898 [==============================] - 1s 45us/step - loss: 0.2913 - acc: 0.8735 - val_loss: 0.5869 - val_acc: 0.6656\n",
      "Epoch 17/50\n",
      "15898/15898 [==============================] - 1s 48us/step - loss: 0.2849 - acc: 0.8768 - val_loss: 0.5772 - val_acc: 0.6603\n",
      "Epoch 18/50\n",
      "15898/15898 [==============================] - 1s 47us/step - loss: 0.2813 - acc: 0.8765 - val_loss: 0.6473 - val_acc: 0.6461\n",
      "Epoch 19/50\n",
      "15898/15898 [==============================] - 1s 47us/step - loss: 0.2775 - acc: 0.8812 - val_loss: 0.5578 - val_acc: 0.7041\n",
      "Epoch 20/50\n",
      "15898/15898 [==============================] - 1s 45us/step - loss: 0.2709 - acc: 0.8826 - val_loss: 0.6754 - val_acc: 0.6346\n",
      "Epoch 21/50\n",
      "15898/15898 [==============================] - 1s 44us/step - loss: 0.2647 - acc: 0.8900 - val_loss: 0.5384 - val_acc: 0.7046\n",
      "Epoch 22/50\n",
      "15898/15898 [==============================] - 1s 49us/step - loss: 0.2578 - acc: 0.8912 - val_loss: 0.5117 - val_acc: 0.7108\n",
      "Epoch 23/50\n",
      "15898/15898 [==============================] - 1s 49us/step - loss: 0.2583 - acc: 0.8916 - val_loss: 0.5326 - val_acc: 0.7117\n",
      "Epoch 24/50\n",
      "15898/15898 [==============================] - 1s 47us/step - loss: 0.2532 - acc: 0.8929 - val_loss: 0.5472 - val_acc: 0.7103\n",
      "Epoch 25/50\n",
      "15898/15898 [==============================] - 1s 46us/step - loss: 0.2480 - acc: 0.8955 - val_loss: 0.5704 - val_acc: 0.6974\n",
      "Epoch 26/50\n",
      "15898/15898 [==============================] - 1s 46us/step - loss: 0.2495 - acc: 0.8946 - val_loss: 0.5455 - val_acc: 0.7127\n",
      "Epoch 27/50\n",
      "15898/15898 [==============================] - 1s 45us/step - loss: 0.2375 - acc: 0.9002 - val_loss: 0.5104 - val_acc: 0.7169\n",
      "Epoch 28/50\n",
      "15898/15898 [==============================] - 1s 46us/step - loss: 0.2385 - acc: 0.8994 - val_loss: 0.5577 - val_acc: 0.7112\n",
      "Epoch 29/50\n",
      "15898/15898 [==============================] - 1s 44us/step - loss: 0.2356 - acc: 0.9021 - val_loss: 0.5118 - val_acc: 0.7402\n",
      "Epoch 30/50\n",
      "15898/15898 [==============================] - 1s 45us/step - loss: 0.2303 - acc: 0.9046 - val_loss: 0.6065 - val_acc: 0.6917\n",
      "Epoch 31/50\n",
      "15898/15898 [==============================] - 1s 45us/step - loss: 0.2301 - acc: 0.9022 - val_loss: 0.5566 - val_acc: 0.7279\n",
      "Epoch 32/50\n",
      "15898/15898 [==============================] - 1s 42us/step - loss: 0.2302 - acc: 0.9053 - val_loss: 0.4783 - val_acc: 0.7555\n",
      "Epoch 33/50\n",
      "15898/15898 [==============================] - 1s 47us/step - loss: 0.2251 - acc: 0.9064 - val_loss: 0.5179 - val_acc: 0.7517\n",
      "Epoch 34/50\n",
      "15898/15898 [==============================] - 1s 45us/step - loss: 0.2176 - acc: 0.9092 - val_loss: 0.5206 - val_acc: 0.7422\n",
      "Epoch 35/50\n",
      "15898/15898 [==============================] - 1s 42us/step - loss: 0.2201 - acc: 0.9080 - val_loss: 0.4707 - val_acc: 0.7540\n",
      "Epoch 36/50\n",
      "15898/15898 [==============================] - 1s 46us/step - loss: 0.2174 - acc: 0.9116 - val_loss: 0.5010 - val_acc: 0.7431\n",
      "Epoch 37/50\n",
      "15898/15898 [==============================] - 1s 46us/step - loss: 0.2188 - acc: 0.9085 - val_loss: 0.4697 - val_acc: 0.7683\n",
      "Epoch 38/50\n",
      "15898/15898 [==============================] - 1s 44us/step - loss: 0.2089 - acc: 0.9149 - val_loss: 0.4503 - val_acc: 0.7969\n",
      "Epoch 39/50\n",
      "15898/15898 [==============================] - 1s 47us/step - loss: 0.2101 - acc: 0.9152 - val_loss: 0.4623 - val_acc: 0.7636\n",
      "Epoch 40/50\n",
      "15898/15898 [==============================] - 1s 48us/step - loss: 0.2077 - acc: 0.9153 - val_loss: 0.5128 - val_acc: 0.7578\n",
      "Epoch 41/50\n",
      "15898/15898 [==============================] - 1s 44us/step - loss: 0.2015 - acc: 0.9175 - val_loss: 0.4910 - val_acc: 0.7655\n",
      "Epoch 42/50\n",
      "15898/15898 [==============================] - 1s 46us/step - loss: 0.2047 - acc: 0.9151 - val_loss: 0.4980 - val_acc: 0.7640\n",
      "Epoch 43/50\n",
      "15898/15898 [==============================] - 1s 45us/step - loss: 0.2024 - acc: 0.9158 - val_loss: 0.5006 - val_acc: 0.7821\n",
      "Epoch 44/50\n",
      "15898/15898 [==============================] - 1s 48us/step - loss: 0.1993 - acc: 0.9184 - val_loss: 0.4889 - val_acc: 0.7764\n",
      "Epoch 45/50\n",
      "15898/15898 [==============================] - 1s 46us/step - loss: 0.1974 - acc: 0.9193 - val_loss: 0.5229 - val_acc: 0.7640\n",
      "Epoch 46/50\n",
      "15898/15898 [==============================] - 1s 46us/step - loss: 0.1966 - acc: 0.9189 - val_loss: 0.5641 - val_acc: 0.7531\n",
      "Epoch 47/50\n",
      "15898/15898 [==============================] - 1s 50us/step - loss: 0.1962 - acc: 0.9201 - val_loss: 0.4780 - val_acc: 0.7816\n",
      "Epoch 48/50\n",
      "15898/15898 [==============================] - 1s 50us/step - loss: 0.1949 - acc: 0.9218 - val_loss: 0.4632 - val_acc: 0.7826\n",
      "Epoch 49/50\n",
      "15898/15898 [==============================] - 1s 47us/step - loss: 0.1932 - acc: 0.9212 - val_loss: 0.4643 - val_acc: 0.7883\n",
      "Epoch 50/50\n",
      "15898/15898 [==============================] - 1s 47us/step - loss: 0.1963 - acc: 0.9207 - val_loss: 0.4572 - val_acc: 0.7921\n"
     ]
    },
    {
     "data": {
      "image/png": "[encoded data removed]",
      "text/plain": [
       "<matplotlib.figure.Figure at 0x7f20ff465d68>"
      ]
     },
     "metadata": {},
     "output_type": "display_data"
    },
    {
     "data": {
      "image/png": "[encoded data removed]",
      "text/plain": [
       "<matplotlib.figure.Figure at 0x7f20f94b0630>"
      ]
     },
     "metadata": {},
     "output_type": "display_data"
    },
    {
     "data": {
      "text/plain": [
       "0.792102759617153"
      ]
     },
     "execution_count": 35,
     "metadata": {},
     "output_type": "execute_result"
    }
   ],
   "source": [
    "model = Sequential()\n",
    "input_units = X_train.shape[1]\n",
    "hidden_units = input_units\n",
    "\n",
    "model.add(Dense(hidden_units * 2,\n",
    "                input_dim=input_units,\n",
    "                activation='relu'))\n",
    "model.add(Dropout(0.25))\n",
    "model.add(Dense(hidden_units * 2,\n",
    "                input_dim=input_units,\n",
    "                activation='relu'))\n",
    "model.add(Dropout(0.25))\n",
    "model.add(Dense(10,\n",
    "                input_dim=input_units,\n",
    "                activation='relu'))\n",
    "model.add(Dropout(0.25))\n",
    "model.add(Dense(1, activation='sigmoid'))\n",
    "\n",
    "model.compile(loss='binary_crossentropy',\n",
    "              optimizer='Adam',\n",
    "              metrics=['accuracy'])\n",
    "\n",
    "hist = model.fit(X_traino, y_traino,\n",
    "                 validation_data=(X_test, y_test),\n",
    "                 epochs=50,\n",
    "                 batch_size=64,\n",
    "                 shuffle=True)\n",
    "\n",
    "plt.figure()\n",
    "plt.plot(hist.history['loss'])\n",
    "plt.plot(hist.history['val_loss'])\n",
    "plt.title('model loss')\n",
    "plt.ylabel('loss')\n",
    "plt.xlabel('epoch')\n",
    "plt.legend(['train', 'test'], loc='best') ## I love this loc = 'best' command.\n",
    "plt.show()\n",
    "plt.figure()\n",
    "plt.plot(hist.history['acc'])\n",
    "plt.plot(hist.history['val_acc'])\n",
    "plt.title('model accuracy')\n",
    "plt.ylabel('accuracy')\n",
    "plt.xlabel('epoch')\n",
    "plt.legend(['train', 'test'], loc='best')\n",
    "plt.show()\n",
    "hist.history['val_acc'][-1]"
   ]
  },
  {
   "cell_type": "code",
   "execution_count": 36,
   "metadata": {},
   "outputs": [
    {
     "name": "stdout",
     "output_type": "stream",
     "text": [
      "Threshold: 0.0\n",
      "Confusion Matrix\n",
      "[[  78 1914]\n",
      " [   0  110]]\n",
      "             precision    recall  f1-score   support\n",
      "\n",
      "         No       1.00      0.04      0.08      1992\n",
      "        Yes       0.05      1.00      0.10       110\n",
      "\n",
      "avg / total       0.95      0.09      0.08      2102\n",
      "\n",
      "*******************************\n",
      "\n",
      "Threshold: 0.05263157894736842\n",
      "Confusion Matrix\n",
      "[[1294  698]\n",
      " [   0  110]]\n",
      "             precision    recall  f1-score   support\n",
      "\n",
      "         No       1.00      0.65      0.79      1992\n",
      "        Yes       0.14      1.00      0.24       110\n",
      "\n",
      "avg / total       0.95      0.67      0.76      2102\n",
      "\n",
      "*******************************\n",
      "\n",
      "Threshold: 0.10526315789473684\n",
      "Confusion Matrix\n",
      "[[1359  633]\n",
      " [   0  110]]\n",
      "             precision    recall  f1-score   support\n",
      "\n",
      "         No       1.00      0.68      0.81      1992\n",
      "        Yes       0.15      1.00      0.26       110\n",
      "\n",
      "avg / total       0.96      0.70      0.78      2102\n",
      "\n",
      "*******************************\n",
      "\n",
      "Threshold: 0.15789473684210525\n",
      "Confusion Matrix\n",
      "[[1405  587]\n",
      " [   0  110]]\n",
      "             precision    recall  f1-score   support\n",
      "\n",
      "         No       1.00      0.71      0.83      1992\n",
      "        Yes       0.16      1.00      0.27       110\n",
      "\n",
      "avg / total       0.96      0.72      0.80      2102\n",
      "\n",
      "*******************************\n",
      "\n",
      "Threshold: 0.21052631578947367\n",
      "Confusion Matrix\n",
      "[[1437  555]\n",
      " [   0  110]]\n",
      "             precision    recall  f1-score   support\n",
      "\n",
      "         No       1.00      0.72      0.84      1992\n",
      "        Yes       0.17      1.00      0.28       110\n",
      "\n",
      "avg / total       0.96      0.74      0.81      2102\n",
      "\n",
      "*******************************\n",
      "\n",
      "Threshold: 0.2631578947368421\n",
      "Confusion Matrix\n",
      "[[1462  530]\n",
      " [   0  110]]\n",
      "             precision    recall  f1-score   support\n",
      "\n",
      "         No       1.00      0.73      0.85      1992\n",
      "        Yes       0.17      1.00      0.29       110\n",
      "\n",
      "avg / total       0.96      0.75      0.82      2102\n",
      "\n",
      "*******************************\n",
      "\n",
      "Threshold: 0.3157894736842105\n",
      "Confusion Matrix\n",
      "[[1481  511]\n",
      " [   0  110]]\n",
      "             precision    recall  f1-score   support\n",
      "\n",
      "         No       1.00      0.74      0.85      1992\n",
      "        Yes       0.18      1.00      0.30       110\n",
      "\n",
      "avg / total       0.96      0.76      0.82      2102\n",
      "\n",
      "*******************************\n",
      "\n",
      "Threshold: 0.3684210526315789\n",
      "Confusion Matrix\n",
      "[[1509  483]\n",
      " [   0  110]]\n",
      "             precision    recall  f1-score   support\n",
      "\n",
      "         No       1.00      0.76      0.86      1992\n",
      "        Yes       0.19      1.00      0.31       110\n",
      "\n",
      "avg / total       0.96      0.77      0.83      2102\n",
      "\n",
      "*******************************\n",
      "\n",
      "Threshold: 0.42105263157894735\n",
      "Confusion Matrix\n",
      "[[1532  460]\n",
      " [   0  110]]\n",
      "             precision    recall  f1-score   support\n",
      "\n",
      "         No       1.00      0.77      0.87      1992\n",
      "        Yes       0.19      1.00      0.32       110\n",
      "\n",
      "avg / total       0.96      0.78      0.84      2102\n",
      "\n",
      "*******************************\n",
      "\n",
      "Threshold: 0.47368421052631576\n",
      "Confusion Matrix\n",
      "[[1547  445]\n",
      " [   1  109]]\n",
      "             precision    recall  f1-score   support\n",
      "\n",
      "         No       1.00      0.78      0.87      1992\n",
      "        Yes       0.20      0.99      0.33       110\n",
      "\n",
      "avg / total       0.96      0.79      0.85      2102\n",
      "\n",
      "*******************************\n",
      "\n",
      "Threshold: 0.5263157894736842\n",
      "Confusion Matrix\n",
      "[[1566  426]\n",
      " [   1  109]]\n",
      "             precision    recall  f1-score   support\n",
      "\n",
      "         No       1.00      0.79      0.88      1992\n",
      "        Yes       0.20      0.99      0.34       110\n",
      "\n",
      "avg / total       0.96      0.80      0.85      2102\n",
      "\n",
      "*******************************\n",
      "\n",
      "Threshold: 0.5789473684210527\n",
      "Confusion Matrix\n",
      "[[1603  389]\n",
      " [   5  105]]\n",
      "             precision    recall  f1-score   support\n",
      "\n",
      "         No       1.00      0.80      0.89      1992\n",
      "        Yes       0.21      0.95      0.35       110\n",
      "\n",
      "avg / total       0.96      0.81      0.86      2102\n",
      "\n",
      "*******************************\n",
      "\n",
      "Threshold: 0.631578947368421\n",
      "Confusion Matrix\n",
      "[[1634  358]\n",
      " [   7  103]]\n",
      "             precision    recall  f1-score   support\n",
      "\n",
      "         No       1.00      0.82      0.90      1992\n",
      "        Yes       0.22      0.94      0.36       110\n",
      "\n",
      "avg / total       0.96      0.83      0.87      2102\n",
      "\n",
      "*******************************\n",
      "\n",
      "Threshold: 0.6842105263157894\n",
      "Confusion Matrix\n",
      "[[1661  331]\n",
      " [  11   99]]\n",
      "             precision    recall  f1-score   support\n",
      "\n",
      "         No       0.99      0.83      0.91      1992\n",
      "        Yes       0.23      0.90      0.37       110\n",
      "\n",
      "avg / total       0.95      0.84      0.88      2102\n",
      "\n",
      "*******************************\n",
      "\n",
      "Threshold: 0.7368421052631579\n",
      "Confusion Matrix\n",
      "[[1688  304]\n",
      " [  11   99]]\n",
      "             precision    recall  f1-score   support\n",
      "\n",
      "         No       0.99      0.85      0.91      1992\n",
      "        Yes       0.25      0.90      0.39       110\n",
      "\n",
      "avg / total       0.95      0.85      0.89      2102\n",
      "\n",
      "*******************************\n",
      "\n",
      "Threshold: 0.7894736842105263\n",
      "Confusion Matrix\n",
      "[[1734  258]\n",
      " [  13   97]]\n",
      "             precision    recall  f1-score   support\n",
      "\n",
      "         No       0.99      0.87      0.93      1992\n",
      "        Yes       0.27      0.88      0.42       110\n",
      "\n",
      "avg / total       0.95      0.87      0.90      2102\n",
      "\n",
      "*******************************\n",
      "\n",
      "Threshold: 0.8421052631578947\n",
      "Confusion Matrix\n",
      "[[1787  205]\n",
      " [  18   92]]\n",
      "             precision    recall  f1-score   support\n",
      "\n",
      "         No       0.99      0.90      0.94      1992\n",
      "        Yes       0.31      0.84      0.45       110\n",
      "\n",
      "avg / total       0.95      0.89      0.92      2102\n",
      "\n",
      "*******************************\n",
      "\n",
      "Threshold: 0.894736842105263\n",
      "Confusion Matrix\n",
      "[[1837  155]\n",
      " [  30   80]]\n",
      "             precision    recall  f1-score   support\n",
      "\n",
      "         No       0.98      0.92      0.95      1992\n",
      "        Yes       0.34      0.73      0.46       110\n",
      "\n",
      "avg / total       0.95      0.91      0.93      2102\n",
      "\n",
      "*******************************\n",
      "\n",
      "Threshold: 0.9473684210526315\n",
      "Confusion Matrix\n",
      "[[1926   66]\n",
      " [  60   50]]\n",
      "             precision    recall  f1-score   support\n",
      "\n",
      "         No       0.97      0.97      0.97      1992\n",
      "        Yes       0.43      0.45      0.44       110\n",
      "\n",
      "avg / total       0.94      0.94      0.94      2102\n",
      "\n",
      "*******************************\n",
      "\n",
      "Threshold: 1.0\n",
      "Confusion Matrix\n",
      "[[1992    0]\n",
      " [ 110    0]]\n",
      "             precision    recall  f1-score   support\n",
      "\n",
      "         No       0.95      1.00      0.97      1992\n",
      "        Yes       0.00      0.00      0.00       110\n",
      "\n",
      "avg / total       0.90      0.95      0.92      2102\n",
      "\n",
      "*******************************\n",
      "\n"
     ]
    },
    {
     "name": "stderr",
     "output_type": "stream",
     "text": [
      "/home/raven/anaconda3/lib/python3.6/site-packages/sklearn/metrics/classification.py:1135: UndefinedMetricWarning: Precision and F-score are ill-defined and being set to 0.0 in labels with no predicted samples.\n",
      "  'precision', 'predicted', average, warn_for)\n"
     ]
    }
   ],
   "source": [
    "for threshold in np.linspace(0, 1, 20):\n",
    "    print('Threshold: {}'.format(threshold))\n",
    "    print('Confusion Matrix')\n",
    "    print(confusion_matrix(y_test, (model.predict(X_test) > threshold).astype(float)))\n",
    "    print(classification_report(y_test, (model.predict(X_test) > threshold).astype(float), target_names=['No', 'Yes']))\n",
    "    print('*******************************\\n')"
   ]
  },
  {
   "cell_type": "markdown",
   "metadata": {},
   "source": [
    "### Logistic Regression"
   ]
  },
  {
   "cell_type": "code",
   "execution_count": 37,
   "metadata": {},
   "outputs": [
    {
     "name": "stdout",
     "output_type": "stream",
     "text": [
      "[[1045  947]\n",
      " [   4  106]]\n",
      "             precision    recall  f1-score   support\n",
      "\n",
      "         No       1.00      0.52      0.69      1992\n",
      "        Yes       0.10      0.96      0.18       110\n",
      "\n",
      "avg / total       0.95      0.55      0.66      2102\n",
      "\n"
     ]
    },
    {
     "data": {
      "text/plain": [
       "0.5475737392959087"
      ]
     },
     "execution_count": 37,
     "metadata": {},
     "output_type": "execute_result"
    }
   ],
   "source": [
    "clf = LogisticRegression()\n",
    "clf.fit(X_traino, y_traino)\n",
    "print(confusion_matrix(y_test, clf.predict(X_test)))\n",
    "print(classification_report(y_test, clf.predict(X_test), target_names=['No', 'Yes']))\n",
    "clf.score(X_test, y_test)"
   ]
  },
  {
   "cell_type": "code",
   "execution_count": null,
   "metadata": {},
   "outputs": [],
   "source": [
    "parms = {\n",
    "    'C': np.logspace(-6, 1, 50),\n",
    "    'class_weight': [{0: 50.0, 1: 1.0}, {0: 25.0, 1: 1.0}, \n",
    "                     {0: 10.0, 1: 1.0}, {0: 10.0, 1: 1.0}]\n",
    "}\n",
    "gs = GridSearchCV(estimator=LogisticRegression(), param_grid=parms,\n",
    "                  cv=2, n_jobs=-1, verbose=1)"
   ]
  },
  {
   "cell_type": "code",
   "execution_count": null,
   "metadata": {},
   "outputs": [
    {
     "name": "stdout",
     "output_type": "stream",
     "text": [
      "Fitting 2 folds for each of 200 candidates, totalling 400 fits\n"
     ]
    }
   ],
   "source": [
    "gs.fit(X_train, y_train)\n",
    "print(gs.best_params_)\n",
    "print(gs.best_score_)"
   ]
  },
  {
   "cell_type": "code",
   "execution_count": null,
   "metadata": {},
   "outputs": [],
   "source": []
  },
  {
   "cell_type": "code",
   "execution_count": null,
   "metadata": {},
   "outputs": [],
   "source": []
  }
 ],
 "metadata": {
  "kernelspec": {
   "display_name": "Python 3",
   "language": "python",
   "name": "python3"
  },
  "language_info": {
   "codemirror_mode": {
    "name": "ipython",
    "version": 3
   },
   "file_extension": ".py",
   "mimetype": "text/x-python",
   "name": "python",
   "nbconvert_exporter": "python",
   "pygments_lexer": "ipython3",
   "version": "3.6.4"
  }
 },
 "nbformat": 4,
 "nbformat_minor": 2
}
