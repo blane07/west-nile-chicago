{
 "cells": [
  {
   "cell_type": "markdown",
   "metadata": {},
   "source": [
    "*Original code: Beating the Benchmark from West Nile Virus Prediction @ Kaggle by Abhihsek. Modified by Brendan Lane*"
   ]
  },
  {
   "cell_type": "code",
   "execution_count": 1,
   "metadata": {},
   "outputs": [
    {
     "name": "stderr",
     "output_type": "stream",
     "text": [
      "/home/raven/anaconda3/lib/python3.6/site-packages/h5py/__init__.py:36: FutureWarning: Conversion of the second argument of issubdtype from `float` to `np.floating` is deprecated. In future, it will be treated as `np.float64 == np.dtype(float).type`.\n",
      "  from ._conv import register_converters as _register_converters\n",
      "Using TensorFlow backend.\n"
     ]
    }
   ],
   "source": [
    "import numpy as np\n",
    "import pandas as pd\n",
    "from sklearn.ensemble import RandomForestClassifier, AdaBoostClassifier, GradientBoostingClassifier\n",
    "from sklearn.preprocessing import StandardScaler, LabelEncoder\n",
    "from sklearn.model_selection import cross_val_score, train_test_split, GridSearchCV\n",
    "from sklearn.metrics import confusion_matrix, classification_report\n",
    "from sklearn.linear_model import LogisticRegression\n",
    "from sklearn.svm import SVC\n",
    "import matplotlib.pyplot as plt\n",
    "from keras.models import Sequential\n",
    "from keras.layers.core import Dense, Dropout, Activation, Flatten\n",
    "from keras.layers import Convolution1D, MaxPooling1D\n",
    "from keras import regularizers\n",
    "from keras.layers.normalization import BatchNormalization\n",
    "from keras.layers.advanced_activations import *\n",
    "from keras.optimizers import Adam\n",
    "from keras.initializers import *\n",
    "\n",
    "%matplotlib inline"
   ]
  },
  {
   "cell_type": "code",
   "execution_count": 2,
   "metadata": {},
   "outputs": [],
   "source": [
    "# Load dataset \n",
    "train = pd.read_csv('../assets/train.csv')\n",
    "test = pd.read_csv('../assets/test.csv')\n",
    "sample = pd.read_csv('../assets/sampleSubmission.csv')\n",
    "weather = pd.read_csv('../assets/weather.csv')"
   ]
  },
  {
   "cell_type": "code",
   "execution_count": 3,
   "metadata": {},
   "outputs": [],
   "source": [
    "# Not using codesum for this benchmark\n",
    "weather.drop('CodeSum', axis='columns', inplace=True)"
   ]
  },
  {
   "cell_type": "code",
   "execution_count": 4,
   "metadata": {},
   "outputs": [],
   "source": [
    "# Split station 1 and 2 and join horizontally\n",
    "weather_stn1 = weather[weather['Station']==1]\n",
    "weather_stn2 = weather[weather['Station']==2]\n",
    "weather_stn1 = weather_stn1.drop('Station', axis=1)\n",
    "weather_stn2 = weather_stn2.drop('Station', axis=1)\n",
    "weather = weather_stn1.merge(weather_stn2, on='Date')"
   ]
  },
  {
   "cell_type": "code",
   "execution_count": 5,
   "metadata": {},
   "outputs": [],
   "source": [
    "# replace some missing values and T with -1\n",
    "weather = weather.replace('M', -1)\n",
    "weather = weather.replace('-', -1)\n",
    "weather = weather.replace('T', -1)\n",
    "weather = weather.replace(' T', -1)\n",
    "weather = weather.replace('  T', -1)"
   ]
  },
  {
   "cell_type": "code",
   "execution_count": 6,
   "metadata": {},
   "outputs": [],
   "source": [
    "# Functions to extract month and day from dataset\n",
    "# You can also use parse_dates of Pandas.\n",
    "def create_year(x):\n",
    "    return x.split('-')[0]\n",
    "def create_month(x):\n",
    "    return x.split('-')[1]\n",
    "def create_day(x):\n",
    "    return x.split('-')[2]\n",
    "\n",
    "train['month'] = train.Date.apply(create_month)\n",
    "train['day'] = train.Date.apply(create_day)\n",
    "train['year'] = train.Date.apply(create_year)\n",
    "\n",
    "test['month'] = test.Date.apply(create_month)\n",
    "test['day'] = test.Date.apply(create_day)\n",
    "test['year'] = test.Date.apply(create_year)"
   ]
  },
  {
   "cell_type": "code",
   "execution_count": 7,
   "metadata": {},
   "outputs": [],
   "source": [
    "# drop address columns\n",
    "train = train.drop(['Address', 'AddressNumberAndStreet'], axis = 1)\n",
    "test = test.drop(['Id', 'Address', 'AddressNumberAndStreet'], axis = 1)"
   ]
  },
  {
   "cell_type": "code",
   "execution_count": 8,
   "metadata": {},
   "outputs": [],
   "source": [
    "# Merge with weather data\n",
    "train = train.merge(weather, on='Date')\n",
    "test = test.merge(weather, on='Date')\n",
    "train = train.drop(['Date'], axis = 1)\n",
    "test = test.drop(['Date'], axis = 1)"
   ]
  },
  {
   "cell_type": "code",
   "execution_count": 9,
   "metadata": {},
   "outputs": [],
   "source": [
    "# Convert categorical data to numbers\n",
    "lbl = LabelEncoder()\n",
    "lbl.fit(list(train['Species'].values) + list(test['Species'].values))\n",
    "train['Species'] = lbl.transform(train['Species'].values)\n",
    "test['Species'] = lbl.transform(test['Species'].values)\n",
    "\n",
    "lbl.fit(list(train['Street'].values) + list(test['Street'].values))\n",
    "train['Street'] = lbl.transform(train['Street'].values)\n",
    "test['Street'] = lbl.transform(test['Street'].values)\n",
    "\n",
    "lbl.fit(list(train['Trap'].values) + list(test['Trap'].values))\n",
    "train['Trap'] = lbl.transform(train['Trap'].values)\n",
    "test['Trap'] = lbl.transform(test['Trap'].values)"
   ]
  },
  {
   "cell_type": "code",
   "execution_count": 10,
   "metadata": {},
   "outputs": [],
   "source": [
    "# drop columns with -1s\n",
    "train = train.loc[:,(train != -1).any(axis=0)]\n",
    "test = test.loc[:,(test != -1).any(axis=0)]"
   ]
  },
  {
   "cell_type": "code",
   "execution_count": 11,
   "metadata": {},
   "outputs": [],
   "source": [
    "# covert all data types to floats\n",
    "train = train.astype(float)\n",
    "test = test.astype(float)"
   ]
  },
  {
   "cell_type": "code",
   "execution_count": 12,
   "metadata": {},
   "outputs": [],
   "source": [
    "## feature engineering\n",
    "# Temperature difference\n",
    "train['temp_delta_x'] = train.Tmax_x - train.Tmin_x\n",
    "train['temp_delta_y'] = train.Tmax_y - train.Tmin_y\n",
    "train['temp_delta_x'] = train.Tmax_x - train.Tmin_x\n",
    "train['temp_delta_y'] = train.Tmax_y - train.Tmin_y\n",
    "test['temp_delta_x'] = test.Tmax_x - test.Tmin_x\n",
    "test['temp_delta_y'] = test.Tmax_y - test.Tmin_y\n",
    "test['temp_delta_x'] = test.Tmax_x - test.Tmin_x\n",
    "test['temp_delta_y'] = test.Tmax_y - test.Tmin_y"
   ]
  },
  {
   "cell_type": "code",
   "execution_count": 13,
   "metadata": {},
   "outputs": [],
   "source": [
    "# Is raining?\n",
    "train['israining_x'] = (train.PrecipTotal_x > 0).astype(int)\n",
    "train['israining_y'] = (train.PrecipTotal_y > 0).astype(int)\n",
    "test['israining_x'] = (test.PrecipTotal_x > 0).astype(int)\n",
    "test['israining_y'] = (test.PrecipTotal_y > 0).astype(int)"
   ]
  },
  {
   "cell_type": "code",
   "execution_count": 14,
   "metadata": {},
   "outputs": [],
   "source": [
    "# Length of sunlight\n",
    "train['sunlight'] = train.Sunset_x - train.Sunrise_x\n",
    "test['sunlight'] = test.Sunset_x - test.Sunrise_x"
   ]
  },
  {
   "cell_type": "code",
   "execution_count": 15,
   "metadata": {},
   "outputs": [],
   "source": [
    "# Replace outliers with median value\n",
    "train.WetBulb_x = train.WetBulb_x.apply(lambda x: train.WetBulb_x.median() if x < 0 else x)\n",
    "test.WetBulb_x = test.WetBulb_x.apply(lambda x: test.WetBulb_x.median() if x < 0 else x)\n",
    "\n",
    "train.StnPressure_x = train.StnPressure_x.apply(lambda x: train.StnPressure_x.median() if x < 0 else x)\n",
    "test.StnPressure_x = test.StnPressure_x.apply(lambda x: test.StnPressure_x.median() if x < 0 else x)"
   ]
  },
  {
   "cell_type": "code",
   "execution_count": 16,
   "metadata": {},
   "outputs": [],
   "source": [
    "# Relative humidity approximation\n",
    "train['RH'] = 100 - (25 / 9) * (train.Tavg_x - train.DewPoint_x)\n",
    "test['RH'] = 100 - (25 / 9) * (test.Tavg_x - test.DewPoint_x)"
   ]
  },
  {
   "cell_type": "code",
   "execution_count": 17,
   "metadata": {},
   "outputs": [],
   "source": [
    "# Is heat wave?\n",
    "train['isheat'] = (train.Heat_x > 0).astype(float)\n",
    "test['isheat'] = (test.Heat_x > 0).astype(float)"
   ]
  },
  {
   "cell_type": "code",
   "execution_count": 18,
   "metadata": {},
   "outputs": [],
   "source": [
    "# Vectorize resultant wind into north and east components\n",
    "wind_dir_north_x = train.ResultDir_x.apply(lambda x: np.sin(np.deg2rad(x)))\n",
    "wind_dir_east_x = train.ResultDir_x.apply(lambda x: np.cos(np.deg2rad(x)))\n",
    "train['wind_north_x'] = wind_dir_north_x * train.ResultSpeed_x\n",
    "train['wind_east_x'] = wind_dir_east_x * train.ResultSpeed_x\n",
    "\n",
    "wind_dir_north_y = train.ResultDir_y.apply(lambda x: np.sin(np.deg2rad(x)))\n",
    "wind_dir_east_y = train.ResultDir_y.apply(lambda x: np.cos(np.deg2rad(x)))\n",
    "train['wind_north_y'] = wind_dir_north_y * train.ResultSpeed_y\n",
    "train['wind_east_y'] = wind_dir_east_y * train.ResultSpeed_y\n",
    "\n",
    "wind_dir_north_x = test.ResultDir_x.apply(lambda x: np.sin(np.deg2rad(x)))\n",
    "wind_dir_east_x = test.ResultDir_x.apply(lambda x: np.cos(np.deg2rad(x)))\n",
    "test['wind_north_x'] = wind_dir_north_x * test.ResultSpeed_x\n",
    "test['wind_east_x'] = wind_dir_east_x * test.ResultSpeed_x\n",
    "\n",
    "wind_dir_north_y = test.ResultDir_y.apply(lambda x: np.sin(np.deg2rad(x)))\n",
    "wind_dir_east_y = test.ResultDir_y.apply(lambda x: np.cos(np.deg2rad(x)))\n",
    "test['wind_north_y'] = wind_dir_north_y * test.ResultSpeed_y\n",
    "test['wind_east_y'] = wind_dir_east_y * test.ResultSpeed_y"
   ]
  },
  {
   "cell_type": "code",
   "execution_count": 19,
   "metadata": {},
   "outputs": [],
   "source": [
    "# Vectorize average wind into north and east components\n",
    "train['avg_wind_north_x'] = wind_dir_north_x * train.AvgSpeed_x\n",
    "train['avg_wind_east_x'] = wind_dir_east_x * train.AvgSpeed_x\n",
    "\n",
    "train['avg_wind_north_y'] = wind_dir_north_y * train.AvgSpeed_y\n",
    "train['avg_wind_east_y'] = wind_dir_east_y * train.AvgSpeed_y\n",
    "\n",
    "test['avg_wind_north_x'] = wind_dir_north_x * test.AvgSpeed_x\n",
    "test['avg_wind_east_x'] = wind_dir_east_x * test.AvgSpeed_x\n",
    "\n",
    "test['avg_wind_north_y'] = wind_dir_north_y * test.AvgSpeed_y\n",
    "test['avg_wind_east_y'] = wind_dir_east_y * test.AvgSpeed_y"
   ]
  },
  {
   "cell_type": "code",
   "execution_count": 20,
   "metadata": {},
   "outputs": [],
   "source": [
    "train = pd.concat([train.reset_index(), (pd.get_dummies(train.year)).reset_index(), (pd.get_dummies(train.month)).reset_index(), (pd.get_dummies(train.Species)).reset_index()], axis='columns')\n",
    "test = pd.concat([test.reset_index(), (pd.get_dummies(test.year)).reset_index(), (pd.get_dummies(test.month)).reset_index(), (pd.get_dummies(test.Species)).reset_index()], axis='columns')"
   ]
  },
  {
   "cell_type": "code",
   "execution_count": 21,
   "metadata": {},
   "outputs": [],
   "source": [
    "drop_list = ['PrecipTotal_x', 'PrecipTotal_y', 'Sunrise_x', 'Sunset_x',\n",
    "             'Heat_x', 'Depth_x', 'SnowFall_x', 'ResultDir_x', 'ResultSpeed_x',\n",
    "             'ResultDir_y', 'ResultSpeed_y', 'AvgSpeed_x', 'AvgSpeed_y', 'year',\n",
    "             'month', 'Species']\n",
    "\n",
    "train.drop(drop_list, axis='columns', inplace=True)\n",
    "test.drop(drop_list, axis='columns', inplace=True)"
   ]
  },
  {
   "cell_type": "code",
   "execution_count": 22,
   "metadata": {},
   "outputs": [],
   "source": [
    "# Set dependent (y) and indepedent (X) variables\n",
    "y = train.WnvPresent\n",
    "X = train.drop('WnvPresent', axis='columns')"
   ]
  },
  {
   "cell_type": "code",
   "execution_count": 23,
   "metadata": {},
   "outputs": [
    {
     "data": {
      "text/plain": [
       "0.9475537787930707"
      ]
     },
     "execution_count": 23,
     "metadata": {},
     "output_type": "execute_result"
    }
   ],
   "source": [
    "# Baseline accuracy\n",
    "1 - y.mean()"
   ]
  },
  {
   "cell_type": "code",
   "execution_count": 24,
   "metadata": {},
   "outputs": [],
   "source": [
    "# Scale X for modeling\n",
    "scaler = StandardScaler()\n",
    "X = pd.DataFrame(scaler.fit_transform(X), columns=X.columns)"
   ]
  },
  {
   "cell_type": "code",
   "execution_count": 25,
   "metadata": {},
   "outputs": [],
   "source": [
    "# Train/test split for validation\n",
    "X_train, X_test, y_train, y_test = train_test_split(X, y, test_size=0.2, random_state=42, stratify=y)"
   ]
  },
  {
   "cell_type": "code",
   "execution_count": 26,
   "metadata": {},
   "outputs": [
    {
     "data": {
      "text/plain": [
       "0.9475250626167533"
      ]
     },
     "execution_count": 26,
     "metadata": {},
     "output_type": "execute_result"
    }
   ],
   "source": [
    "# Random forest\n",
    "cross_val_score(RandomForestClassifier(max_depth=4, max_features=5), X_train, y_train,\n",
    "                cv=5, n_jobs=-1, verbose=0).mean()"
   ]
  },
  {
   "cell_type": "markdown",
   "metadata": {},
   "source": [
    "*Doesn't break baseline. What is happening?*"
   ]
  },
  {
   "cell_type": "code",
   "execution_count": 27,
   "metadata": {},
   "outputs": [
    {
     "data": {
      "text/plain": [
       "array([[1992,    0],\n",
       "       [ 110,    0]])"
      ]
     },
     "execution_count": 27,
     "metadata": {},
     "output_type": "execute_result"
    }
   ],
   "source": [
    "# Confustion matrix\n",
    "clf = RandomForestClassifier(max_depth=4, max_features=5)\n",
    "clf.fit(X_train, y_train)\n",
    "confusion_matrix(y_test, clf.predict(X_test))"
   ]
  },
  {
   "cell_type": "markdown",
   "metadata": {},
   "source": [
    "*The model is maximizing accuracy by predicting \"No\" everytime. This is the result of have unbalanced classes.*"
   ]
  },
  {
   "cell_type": "code",
   "execution_count": 28,
   "metadata": {},
   "outputs": [],
   "source": [
    "# Dataframe of positive West Nile results\n",
    "pos_train = train[train.WnvPresent == 1]"
   ]
  },
  {
   "cell_type": "code",
   "execution_count": 29,
   "metadata": {},
   "outputs": [],
   "source": [
    "# Oversampled unrepresented class\n",
    "traino = pd.concat([train, pos_train, pos_train, pos_train, pos_train, pos_train, pos_train, pos_train, pos_train, pos_train, pos_train, pos_train, pos_train, pos_train, pos_train, pos_train, pos_train, pos_train], axis=0)"
   ]
  },
  {
   "cell_type": "code",
   "execution_count": 30,
   "metadata": {},
   "outputs": [],
   "source": [
    "# Oversampled train/test split\n",
    "yo = traino.WnvPresent\n",
    "Xo = traino.drop('WnvPresent', axis='columns')\n",
    "Xo = pd.DataFrame(scaler.fit_transform(Xo), columns=Xo.columns)\n",
    "X_traino, X_testo, y_traino, y_testo = train_test_split(Xo, yo, test_size=0.2, random_state=42, stratify=yo)"
   ]
  },
  {
   "cell_type": "markdown",
   "metadata": {},
   "source": [
    "### We should maximize recall"
   ]
  },
  {
   "cell_type": "code",
   "execution_count": 31,
   "metadata": {},
   "outputs": [
    {
     "name": "stdout",
     "output_type": "stream",
     "text": [
      "[[1479  513]\n",
      " [  35   75]]\n",
      "             precision    recall  f1-score   support\n",
      "\n",
      "         No       0.98      0.74      0.84      1992\n",
      "        Yes       0.13      0.68      0.21       110\n",
      "\n",
      "avg / total       0.93      0.74      0.81      2102\n",
      "\n"
     ]
    }
   ],
   "source": [
    "clf = RandomForestClassifier(max_depth=4, max_features=7)\n",
    "clf.fit(X_traino, y_traino)\n",
    "print(confusion_matrix(y_test, clf.predict(X_test)))\n",
    "print(classification_report(y_test, clf.predict(X_test), target_names=['No', 'Yes']))"
   ]
  },
  {
   "cell_type": "code",
   "execution_count": 32,
   "metadata": {},
   "outputs": [
    {
     "name": "stdout",
     "output_type": "stream",
     "text": [
      "Train on 15898 samples, validate on 2102 samples\n",
      "Epoch 1/50\n",
      "15898/15898 [==============================] - 3s 217us/step - loss: 0.5077 - acc: 0.7427 - val_loss: 0.7146 - val_acc: 0.5547\n",
      "Epoch 2/50\n",
      "15898/15898 [==============================] - 3s 203us/step - loss: 0.4329 - acc: 0.7978 - val_loss: 0.6629 - val_acc: 0.5756\n",
      "Epoch 3/50\n",
      "15898/15898 [==============================] - 2s 154us/step - loss: 0.4081 - acc: 0.8078 - val_loss: 0.7126 - val_acc: 0.5461\n",
      "Epoch 4/50\n",
      "15898/15898 [==============================] - 2s 152us/step - loss: 0.3915 - acc: 0.8214 - val_loss: 0.6313 - val_acc: 0.5804\n",
      "Epoch 5/50\n",
      "15898/15898 [==============================] - 2s 143us/step - loss: 0.3812 - acc: 0.8272 - val_loss: 0.6893 - val_acc: 0.5690\n",
      "Epoch 6/50\n",
      "15898/15898 [==============================] - 3s 162us/step - loss: 0.3672 - acc: 0.8345 - val_loss: 0.6460 - val_acc: 0.5875\n",
      "Epoch 7/50\n",
      "15898/15898 [==============================] - 3s 197us/step - loss: 0.3591 - acc: 0.8379 - val_loss: 0.7005 - val_acc: 0.5604\n",
      "Epoch 8/50\n",
      "15898/15898 [==============================] - 3s 160us/step - loss: 0.3482 - acc: 0.8453 - val_loss: 0.6578 - val_acc: 0.5852\n",
      "Epoch 9/50\n",
      "15898/15898 [==============================] - 2s 130us/step - loss: 0.3381 - acc: 0.8532 - val_loss: 0.6425 - val_acc: 0.5918\n",
      "Epoch 10/50\n",
      "15898/15898 [==============================] - 3s 172us/step - loss: 0.3263 - acc: 0.8580 - val_loss: 0.6597 - val_acc: 0.6032\n",
      "Epoch 11/50\n",
      "15898/15898 [==============================] - 2s 154us/step - loss: 0.3193 - acc: 0.8635 - val_loss: 0.5977 - val_acc: 0.6399\n",
      "Epoch 12/50\n",
      "15898/15898 [==============================] - 2s 150us/step - loss: 0.3081 - acc: 0.8717 - val_loss: 0.6276 - val_acc: 0.6380\n",
      "Epoch 13/50\n",
      "15898/15898 [==============================] - ETA: 0s - loss: 0.3019 - acc: 0.873 - 3s 197us/step - loss: 0.3018 - acc: 0.8740 - val_loss: 0.6797 - val_acc: 0.6251\n",
      "Epoch 14/50\n",
      "15898/15898 [==============================] - 3s 166us/step - loss: 0.2988 - acc: 0.8747 - val_loss: 0.6095 - val_acc: 0.6565\n",
      "Epoch 15/50\n",
      "15898/15898 [==============================] - 4s 272us/step - loss: 0.2860 - acc: 0.8828 - val_loss: 0.5954 - val_acc: 0.6608\n",
      "Epoch 16/50\n",
      "15898/15898 [==============================] - 6s 359us/step - loss: 0.2811 - acc: 0.8841 - val_loss: 0.5969 - val_acc: 0.6641\n",
      "Epoch 17/50\n",
      "15898/15898 [==============================] - 7s 425us/step - loss: 0.2718 - acc: 0.8911 - val_loss: 0.5961 - val_acc: 0.6641\n",
      "Epoch 18/50\n",
      "15898/15898 [==============================] - 5s 285us/step - loss: 0.2679 - acc: 0.8911 - val_loss: 0.6441 - val_acc: 0.6641\n",
      "Epoch 19/50\n",
      "15898/15898 [==============================] - 3s 206us/step - loss: 0.2657 - acc: 0.8927 - val_loss: 0.6386 - val_acc: 0.6679\n",
      "Epoch 20/50\n",
      "15898/15898 [==============================] - 4s 271us/step - loss: 0.2572 - acc: 0.8970 - val_loss: 0.5443 - val_acc: 0.7079\n",
      "Epoch 21/50\n",
      "15898/15898 [==============================] - 4s 228us/step - loss: 0.2529 - acc: 0.8982 - val_loss: 0.6208 - val_acc: 0.6874\n",
      "Epoch 22/50\n",
      "15898/15898 [==============================] - 4s 226us/step - loss: 0.2524 - acc: 0.8982 - val_loss: 0.5616 - val_acc: 0.7065\n",
      "Epoch 23/50\n",
      "15898/15898 [==============================] - 3s 180us/step - loss: 0.2467 - acc: 0.9021 - val_loss: 0.6070 - val_acc: 0.6912\n",
      "Epoch 24/50\n",
      "15898/15898 [==============================] - 3s 191us/step - loss: 0.2415 - acc: 0.9054 - val_loss: 0.6031 - val_acc: 0.6912\n",
      "Epoch 25/50\n",
      "15898/15898 [==============================] - 3s 193us/step - loss: 0.2391 - acc: 0.9066 - val_loss: 0.5566 - val_acc: 0.7165\n",
      "Epoch 26/50\n",
      "15898/15898 [==============================] - 3s 178us/step - loss: 0.2363 - acc: 0.9069 - val_loss: 0.6012 - val_acc: 0.7008\n",
      "Epoch 27/50\n",
      "15898/15898 [==============================] - 2s 151us/step - loss: 0.2292 - acc: 0.9107 - val_loss: 0.5544 - val_acc: 0.7274\n",
      "Epoch 28/50\n",
      "15898/15898 [==============================] - 2s 154us/step - loss: 0.2297 - acc: 0.9128 - val_loss: 0.5999 - val_acc: 0.7108\n",
      "Epoch 29/50\n",
      "15898/15898 [==============================] - 2s 143us/step - loss: 0.2257 - acc: 0.9116 - val_loss: 0.5307 - val_acc: 0.7341\n",
      "Epoch 30/50\n",
      "15898/15898 [==============================] - 3s 170us/step - loss: 0.2269 - acc: 0.9110 - val_loss: 0.5573 - val_acc: 0.7260\n",
      "Epoch 31/50\n",
      "15898/15898 [==============================] - 2s 149us/step - loss: 0.2225 - acc: 0.9133 - val_loss: 0.5350 - val_acc: 0.7383\n",
      "Epoch 32/50\n",
      "15898/15898 [==============================] - 3s 208us/step - loss: 0.2179 - acc: 0.9155 - val_loss: 0.5694 - val_acc: 0.7226\n",
      "Epoch 33/50\n",
      "15898/15898 [==============================] - 2s 151us/step - loss: 0.2167 - acc: 0.9163 - val_loss: 0.5330 - val_acc: 0.7374\n",
      "Epoch 34/50\n",
      "15898/15898 [==============================] - 2s 128us/step - loss: 0.2163 - acc: 0.9147 - val_loss: 0.5788 - val_acc: 0.7360\n",
      "Epoch 35/50\n",
      "15898/15898 [==============================] - 3s 191us/step - loss: 0.2073 - acc: 0.9214 - val_loss: 0.5690 - val_acc: 0.7350\n",
      "Epoch 36/50\n",
      "15898/15898 [==============================] - 2s 149us/step - loss: 0.2014 - acc: 0.9234 - val_loss: 0.5114 - val_acc: 0.7550\n",
      "Epoch 37/50\n",
      "15898/15898 [==============================] - 3s 162us/step - loss: 0.2095 - acc: 0.9192 - val_loss: 0.5391 - val_acc: 0.7360\n",
      "Epoch 38/50\n",
      "15898/15898 [==============================] - 2s 151us/step - loss: 0.2076 - acc: 0.9179 - val_loss: 0.5018 - val_acc: 0.7507\n",
      "Epoch 39/50\n",
      "15898/15898 [==============================] - 3s 173us/step - loss: 0.2059 - acc: 0.9207 - val_loss: 0.5301 - val_acc: 0.7479\n",
      "Epoch 40/50\n",
      "15898/15898 [==============================] - 3s 176us/step - loss: 0.2047 - acc: 0.9211 - val_loss: 0.5224 - val_acc: 0.7593\n",
      "Epoch 41/50\n",
      "15898/15898 [==============================] - 2s 152us/step - loss: 0.2011 - acc: 0.9222 - val_loss: 0.5346 - val_acc: 0.7521\n",
      "Epoch 42/50\n",
      "15898/15898 [==============================] - 2s 145us/step - loss: 0.2027 - acc: 0.9234 - val_loss: 0.4933 - val_acc: 0.7712\n",
      "Epoch 43/50\n",
      "15898/15898 [==============================] - 2s 139us/step - loss: 0.2020 - acc: 0.9236 - val_loss: 0.5306 - val_acc: 0.7531\n",
      "Epoch 44/50\n",
      "15898/15898 [==============================] - 2s 137us/step - loss: 0.1972 - acc: 0.9244 - val_loss: 0.4831 - val_acc: 0.7726\n",
      "Epoch 45/50\n",
      "15898/15898 [==============================] - 3s 164us/step - loss: 0.1992 - acc: 0.9250 - val_loss: 0.5479 - val_acc: 0.7502\n",
      "Epoch 46/50\n",
      "15898/15898 [==============================] - 3s 174us/step - loss: 0.1901 - acc: 0.9267 - val_loss: 0.5179 - val_acc: 0.7578\n",
      "Epoch 47/50\n",
      "15898/15898 [==============================] - 3s 197us/step - loss: 0.1954 - acc: 0.9262 - val_loss: 0.5446 - val_acc: 0.7388\n",
      "Epoch 48/50\n",
      "15898/15898 [==============================] - 3s 166us/step - loss: 0.1927 - acc: 0.9260 - val_loss: 0.5196 - val_acc: 0.7545\n",
      "Epoch 49/50\n",
      "15898/15898 [==============================] - 3s 172us/step - loss: 0.1871 - acc: 0.9296 - val_loss: 0.4974 - val_acc: 0.7664\n",
      "Epoch 50/50\n",
      "15898/15898 [==============================] - 3s 186us/step - loss: 0.1860 - acc: 0.9310 - val_loss: 0.5483 - val_acc: 0.7555\n"
     ]
    },
    {
     "data": {
      "image/png": "[encoded data removed]",
      "text/plain": [
       "<matplotlib.figure.Figure at 0x7fbf2a357a90>"
      ]
     },
     "metadata": {},
     "output_type": "display_data"
    },
    {
     "data": {
      "image/png": "[encoded data removed]",
      "text/plain": [
       "<matplotlib.figure.Figure at 0x7fbf29503588>"
      ]
     },
     "metadata": {},
     "output_type": "display_data"
    },
    {
     "data": {
      "text/plain": [
       "0.7554709802458788"
      ]
     },
     "execution_count": 32,
     "metadata": {},
     "output_type": "execute_result"
    }
   ],
   "source": [
    "model = Sequential()\n",
    "input_units = X_train.shape[1]\n",
    "hidden_units = input_units\n",
    "\n",
    "model.add(Dense(hidden_units * 2,\n",
    "                input_dim=input_units,\n",
    "                activation='relu'))\n",
    "model.add(Dropout(0.25))\n",
    "model.add(Dense(hidden_units * 2,\n",
    "                input_dim=input_units,\n",
    "                activation='relu'))\n",
    "model.add(Dropout(0.25))\n",
    "model.add(Dense(10,\n",
    "                input_dim=input_units,\n",
    "                activation='relu'))\n",
    "model.add(Dropout(0.25))\n",
    "model.add(Dense(1, activation='sigmoid'))\n",
    "\n",
    "model.compile(loss='binary_crossentropy',\n",
    "              optimizer='Adam',\n",
    "              metrics=['accuracy'])\n",
    "\n",
    "hist = model.fit(X_traino, y_traino,\n",
    "                 validation_data=(X_test, y_test),\n",
    "                 epochs=50,\n",
    "                 batch_size=64,\n",
    "                 shuffle=True)\n",
    "\n",
    "plt.figure()\n",
    "plt.plot(hist.history['loss'])\n",
    "plt.plot(hist.history['val_loss'])\n",
    "plt.title('model loss')\n",
    "plt.ylabel('loss')\n",
    "plt.xlabel('epoch')\n",
    "plt.legend(['train', 'test'], loc='best') ## I love this loc = 'best' command.\n",
    "plt.show()\n",
    "plt.figure()\n",
    "plt.plot(hist.history['acc'])\n",
    "plt.plot(hist.history['val_acc'])\n",
    "plt.title('model accuracy')\n",
    "plt.ylabel('accuracy')\n",
    "plt.xlabel('epoch')\n",
    "plt.legend(['train', 'test'], loc='best')\n",
    "plt.show()\n",
    "hist.history['val_acc'][-1]"
   ]
  },
  {
   "cell_type": "code",
   "execution_count": 34,
   "metadata": {},
   "outputs": [
    {
     "name": "stdout",
     "output_type": "stream",
     "text": [
      "Threshold: 0.0\n",
      "Confusion Matrix\n",
      "[[  26 1966]\n",
      " [   0  110]]\n",
      "             precision    recall  f1-score   support\n",
      "\n",
      "         No       1.00      0.01      0.03      1992\n",
      "        Yes       0.05      1.00      0.10       110\n",
      "\n",
      "avg / total       0.95      0.06      0.03      2102\n",
      "\n",
      "*******************************\n",
      "\n",
      "Threshold: 0.05263157894736842\n",
      "Confusion Matrix\n",
      "[[1218  774]\n",
      " [   0  110]]\n",
      "             precision    recall  f1-score   support\n",
      "\n",
      "         No       1.00      0.61      0.76      1992\n",
      "        Yes       0.12      1.00      0.22       110\n",
      "\n",
      "avg / total       0.95      0.63      0.73      2102\n",
      "\n",
      "*******************************\n",
      "\n",
      "Threshold: 0.10526315789473684\n",
      "Confusion Matrix\n",
      "[[1294  698]\n",
      " [   0  110]]\n",
      "             precision    recall  f1-score   support\n",
      "\n",
      "         No       1.00      0.65      0.79      1992\n",
      "        Yes       0.14      1.00      0.24       110\n",
      "\n",
      "avg / total       0.95      0.67      0.76      2102\n",
      "\n",
      "*******************************\n",
      "\n",
      "Threshold: 0.15789473684210525\n",
      "Confusion Matrix\n",
      "[[1332  660]\n",
      " [   0  110]]\n",
      "             precision    recall  f1-score   support\n",
      "\n",
      "         No       1.00      0.67      0.80      1992\n",
      "        Yes       0.14      1.00      0.25       110\n",
      "\n",
      "avg / total       0.96      0.69      0.77      2102\n",
      "\n",
      "*******************************\n",
      "\n",
      "Threshold: 0.21052631578947367\n",
      "Confusion Matrix\n",
      "[[1362  630]\n",
      " [   0  110]]\n",
      "             precision    recall  f1-score   support\n",
      "\n",
      "         No       1.00      0.68      0.81      1992\n",
      "        Yes       0.15      1.00      0.26       110\n",
      "\n",
      "avg / total       0.96      0.70      0.78      2102\n",
      "\n",
      "*******************************\n",
      "\n",
      "Threshold: 0.2631578947368421\n",
      "Confusion Matrix\n",
      "[[1387  605]\n",
      " [   0  110]]\n",
      "             precision    recall  f1-score   support\n",
      "\n",
      "         No       1.00      0.70      0.82      1992\n",
      "        Yes       0.15      1.00      0.27       110\n",
      "\n",
      "avg / total       0.96      0.71      0.79      2102\n",
      "\n",
      "*******************************\n",
      "\n",
      "Threshold: 0.3157894736842105\n",
      "Confusion Matrix\n",
      "[[1418  574]\n",
      " [   0  110]]\n",
      "             precision    recall  f1-score   support\n",
      "\n",
      "         No       1.00      0.71      0.83      1992\n",
      "        Yes       0.16      1.00      0.28       110\n",
      "\n",
      "avg / total       0.96      0.73      0.80      2102\n",
      "\n",
      "*******************************\n",
      "\n",
      "Threshold: 0.3684210526315789\n",
      "Confusion Matrix\n",
      "[[1441  551]\n",
      " [   0  110]]\n",
      "             precision    recall  f1-score   support\n",
      "\n",
      "         No       1.00      0.72      0.84      1992\n",
      "        Yes       0.17      1.00      0.29       110\n",
      "\n",
      "avg / total       0.96      0.74      0.81      2102\n",
      "\n",
      "*******************************\n",
      "\n",
      "Threshold: 0.42105263157894735\n",
      "Confusion Matrix\n",
      "[[1461  531]\n",
      " [   1  109]]\n",
      "             precision    recall  f1-score   support\n",
      "\n",
      "         No       1.00      0.73      0.85      1992\n",
      "        Yes       0.17      0.99      0.29       110\n",
      "\n",
      "avg / total       0.96      0.75      0.82      2102\n",
      "\n",
      "*******************************\n",
      "\n",
      "Threshold: 0.47368421052631576\n",
      "Confusion Matrix\n",
      "[[1473  519]\n",
      " [   1  109]]\n",
      "             precision    recall  f1-score   support\n",
      "\n",
      "         No       1.00      0.74      0.85      1992\n",
      "        Yes       0.17      0.99      0.30       110\n",
      "\n",
      "avg / total       0.96      0.75      0.82      2102\n",
      "\n",
      "*******************************\n",
      "\n",
      "Threshold: 0.5263157894736842\n",
      "Confusion Matrix\n",
      "[[1501  491]\n",
      " [   5  105]]\n",
      "             precision    recall  f1-score   support\n",
      "\n",
      "         No       1.00      0.75      0.86      1992\n",
      "        Yes       0.18      0.95      0.30       110\n",
      "\n",
      "avg / total       0.95      0.76      0.83      2102\n",
      "\n",
      "*******************************\n",
      "\n",
      "Threshold: 0.5789473684210527\n",
      "Confusion Matrix\n",
      "[[1536  456]\n",
      " [   8  102]]\n",
      "             precision    recall  f1-score   support\n",
      "\n",
      "         No       0.99      0.77      0.87      1992\n",
      "        Yes       0.18      0.93      0.31       110\n",
      "\n",
      "avg / total       0.95      0.78      0.84      2102\n",
      "\n",
      "*******************************\n",
      "\n",
      "Threshold: 0.631578947368421\n",
      "Confusion Matrix\n",
      "[[1554  438]\n",
      " [  10  100]]\n",
      "             precision    recall  f1-score   support\n",
      "\n",
      "         No       0.99      0.78      0.87      1992\n",
      "        Yes       0.19      0.91      0.31       110\n",
      "\n",
      "avg / total       0.95      0.79      0.84      2102\n",
      "\n",
      "*******************************\n",
      "\n",
      "Threshold: 0.6842105263157894\n",
      "Confusion Matrix\n",
      "[[1568  424]\n",
      " [  10  100]]\n",
      "             precision    recall  f1-score   support\n",
      "\n",
      "         No       0.99      0.79      0.88      1992\n",
      "        Yes       0.19      0.91      0.32       110\n",
      "\n",
      "avg / total       0.95      0.79      0.85      2102\n",
      "\n",
      "*******************************\n",
      "\n",
      "Threshold: 0.7368421052631579\n",
      "Confusion Matrix\n",
      "[[1608  384]\n",
      " [  10  100]]\n",
      "             precision    recall  f1-score   support\n",
      "\n",
      "         No       0.99      0.81      0.89      1992\n",
      "        Yes       0.21      0.91      0.34       110\n",
      "\n",
      "avg / total       0.95      0.81      0.86      2102\n",
      "\n",
      "*******************************\n",
      "\n",
      "Threshold: 0.7894736842105263\n",
      "Confusion Matrix\n",
      "[[1636  356]\n",
      " [  10  100]]\n",
      "             precision    recall  f1-score   support\n",
      "\n",
      "         No       0.99      0.82      0.90      1992\n",
      "        Yes       0.22      0.91      0.35       110\n",
      "\n",
      "avg / total       0.95      0.83      0.87      2102\n",
      "\n",
      "*******************************\n",
      "\n",
      "Threshold: 0.8421052631578947\n",
      "Confusion Matrix\n",
      "[[1678  314]\n",
      " [  12   98]]\n",
      "             precision    recall  f1-score   support\n",
      "\n",
      "         No       0.99      0.84      0.91      1992\n",
      "        Yes       0.24      0.89      0.38       110\n",
      "\n",
      "avg / total       0.95      0.84      0.88      2102\n",
      "\n",
      "*******************************\n",
      "\n",
      "Threshold: 0.894736842105263\n",
      "Confusion Matrix\n",
      "[[1765  227]\n",
      " [  25   85]]\n",
      "             precision    recall  f1-score   support\n",
      "\n",
      "         No       0.99      0.89      0.93      1992\n",
      "        Yes       0.27      0.77      0.40       110\n",
      "\n",
      "avg / total       0.95      0.88      0.91      2102\n",
      "\n",
      "*******************************\n",
      "\n",
      "Threshold: 0.9473684210526315\n",
      "Confusion Matrix\n",
      "[[1901   91]\n",
      " [  59   51]]\n",
      "             precision    recall  f1-score   support\n",
      "\n",
      "         No       0.97      0.95      0.96      1992\n",
      "        Yes       0.36      0.46      0.40       110\n",
      "\n",
      "avg / total       0.94      0.93      0.93      2102\n",
      "\n",
      "*******************************\n",
      "\n",
      "Threshold: 1.0\n",
      "Confusion Matrix\n",
      "[[1992    0]\n",
      " [ 110    0]]\n",
      "             precision    recall  f1-score   support\n",
      "\n",
      "         No       0.95      1.00      0.97      1992\n",
      "        Yes       0.00      0.00      0.00       110\n",
      "\n",
      "avg / total       0.90      0.95      0.92      2102\n",
      "\n",
      "*******************************\n",
      "\n"
     ]
    },
    {
     "name": "stderr",
     "output_type": "stream",
     "text": [
      "/home/raven/anaconda3/lib/python3.6/site-packages/sklearn/metrics/classification.py:1135: UndefinedMetricWarning: Precision and F-score are ill-defined and being set to 0.0 in labels with no predicted samples.\n",
      "  'precision', 'predicted', average, warn_for)\n"
     ]
    }
   ],
   "source": [
    "for threshold in np.linspace(0, 1, 20):\n",
    "    print('Threshold: {}'.format(threshold))\n",
    "    print('Confusion Matrix')\n",
    "    print(confusion_matrix(y_test, (model.predict(X_test) > threshold).astype(float)))\n",
    "    print(classification_report(y_test, (model.predict(X_test) > threshold).astype(float), target_names=['No', 'Yes']))\n",
    "    print('*******************************\\n')"
   ]
  },
  {
   "cell_type": "markdown",
   "metadata": {},
   "source": [
    "### Logistic Regression"
   ]
  },
  {
   "cell_type": "code",
   "execution_count": 39,
   "metadata": {},
   "outputs": [
    {
     "name": "stdout",
     "output_type": "stream",
     "text": [
      "[[1045  947]\n",
      " [   4  106]]\n",
      "             precision    recall  f1-score   support\n",
      "\n",
      "         No       1.00      0.52      0.69      1992\n",
      "        Yes       0.10      0.96      0.18       110\n",
      "\n",
      "avg / total       0.95      0.55      0.66      2102\n",
      "\n"
     ]
    },
    {
     "data": {
      "text/plain": [
       "0.5475737392959087"
      ]
     },
     "execution_count": 39,
     "metadata": {},
     "output_type": "execute_result"
    }
   ],
   "source": [
    "clf = LogisticRegression()\n",
    "clf.fit(X_traino, y_traino)\n",
    "print(confusion_matrix(y_test, clf.predict(X_test)))\n",
    "print(classification_report(y_test, clf.predict(X_test), target_names=['No', 'Yes']))\n",
    "clf.score(X_test, y_test)"
   ]
  },
  {
   "cell_type": "code",
   "execution_count": 96,
   "metadata": {},
   "outputs": [],
   "source": [
    "parms = {\n",
    "    'C': np.logspace(-6, 1, 50),\n",
    "    'class_weight': [{0: 50.0, 1: 1.0}, {0: 25.0, 1: 1.0}, \n",
    "                     {0: 10.0, 1: 1.0}, {0: 10.0, 1: 1.0}]\n",
    "}\n",
    "gs = GridSearchCV(estimator=LogisticRegression(), param_grid=parms,\n",
    "                  cv=2, n_jobs=-1, verbose=1)"
   ]
  },
  {
   "cell_type": "code",
   "execution_count": 97,
   "metadata": {},
   "outputs": [
    {
     "name": "stdout",
     "output_type": "stream",
     "text": [
      "Fitting 2 folds for each of 200 candidates, totalling 400 fits\n"
     ]
    },
    {
     "name": "stderr",
     "output_type": "stream",
     "text": [
      "[Parallel(n_jobs=-1)]: Done  88 tasks      | elapsed:    2.0s\n"
     ]
    },
    {
     "name": "stdout",
     "output_type": "stream",
     "text": [
      "{'C': 1e-06, 'class_weight': {0: 50.0, 1: 1.0}}\n",
      "0.947405997144217\n"
     ]
    },
    {
     "name": "stderr",
     "output_type": "stream",
     "text": [
      "[Parallel(n_jobs=-1)]: Done 400 out of 400 | elapsed:   14.1s finished\n"
     ]
    }
   ],
   "source": [
    "gs.fit(X_train, y_train)\n",
    "print(gs.best_params_)\n",
    "print(gs.best_score_)"
   ]
  },
  {
   "cell_type": "code",
   "execution_count": null,
   "metadata": {},
   "outputs": [],
   "source": []
  },
  {
   "cell_type": "code",
   "execution_count": null,
   "metadata": {},
   "outputs": [],
   "source": []
  }
 ],
 "metadata": {
  "kernelspec": {
   "display_name": "Python [default]",
   "language": "python",
   "name": "python3"
  },
  "language_info": {
   "codemirror_mode": {
    "name": "ipython",
    "version": 3
   },
   "file_extension": ".py",
   "mimetype": "text/x-python",
   "name": "python",
   "nbconvert_exporter": "python",
   "pygments_lexer": "ipython3",
   "version": "3.6.4"
  }
 },
 "nbformat": 4,
 "nbformat_minor": 2
}
